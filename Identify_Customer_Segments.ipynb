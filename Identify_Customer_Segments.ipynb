{
 "cells": [
  {
   "cell_type": "markdown",
   "metadata": {},
   "source": [
    "# Project: Identify Customer Segments\n",
    "\n",
    "In this project, you will apply unsupervised learning techniques to identify segments of the population that form the core customer base for a mail-order sales company in Germany. These segments can then be used to direct marketing campaigns towards audiences that will have the highest expected rate of returns. The data that you will use has been provided by our partners at Bertelsmann Arvato Analytics, and represents a real-life data science task.\n",
    "\n",
    "This notebook will help you complete this task by providing a framework within which you will perform your analysis steps. In each step of the project, you will see some text describing the subtask that you will perform, followed by one or more code cells for you to complete your work. **Feel free to add additional code and markdown cells as you go along so that you can explore everything in precise chunks.** The code cells provided in the base template will outline only the major tasks, and will usually not be enough to cover all of the minor tasks that comprise it.\n",
    "\n",
    "It should be noted that while there will be precise guidelines on how you should handle certain tasks in the project, there will also be places where an exact specification is not provided. **There will be times in the project where you will need to make and justify your own decisions on how to treat the data.** These are places where there may not be only one way to handle the data. In real-life tasks, there may be many valid ways to approach an analysis task. One of the most important things you can do is clearly document your approach so that other scientists can understand the decisions you've made.\n",
    "\n",
    "At the end of most sections, there will be a Markdown cell labeled **Discussion**. In these cells, you will report your findings for the completed section, as well as document the decisions that you made in your approach to each subtask. **Your project will be evaluated not just on the code used to complete the tasks outlined, but also your communication about your observations and conclusions at each stage.**"
   ]
  },
  {
   "cell_type": "code",
   "execution_count": 1,
   "metadata": {},
   "outputs": [],
   "source": [
    "# import libraries here; add more as necessary\n",
    "import numpy as np\n",
    "import pandas as pd\n",
    "import matplotlib.pyplot as plt\n",
    "import seaborn as sns\n",
    "import ast\n",
    "from sklearn.preprocessing import StandardScaler\n",
    "from sklearn.decomposition import PCA\n",
    "from sklearn.cluster import KMeans\n",
    "from scipy.spatial.distance import euclidean\n",
    "from sklearn.preprocessing import Imputer\n",
    "\n",
    "# magic word for producing visualizations in notebook\n",
    "%matplotlib inline\n"
   ]
  },
  {
   "cell_type": "markdown",
   "metadata": {},
   "source": [
    "### Step 0: Load the Data\n",
    "\n",
    "There are four files associated with this project (not including this one):\n",
    "\n",
    "- `Udacity_AZDIAS_Subset.csv`: Demographics data for the general population of Germany; 891211 persons (rows) x 85 features (columns).\n",
    "- `Udacity_CUSTOMERS_Subset.csv`: Demographics data for customers of a mail-order company; 191652 persons (rows) x 85 features (columns).\n",
    "- `Data_Dictionary.md`: Detailed information file about the features in the provided datasets.\n",
    "- `AZDIAS_Feature_Summary.csv`: Summary of feature attributes for demographics data; 85 features (rows) x 4 columns\n",
    "\n",
    "Each row of the demographics files represents a single person, but also includes information outside of individuals, including information about their household, building, and neighborhood. You will use this information to cluster the general population into groups with similar demographic properties. Then, you will see how the people in the customers dataset fit into those created clusters. The hope here is that certain clusters are over-represented in the customers data, as compared to the general population; those over-represented clusters will be assumed to be part of the core userbase. This information can then be used for further applications, such as targeting for a marketing campaign.\n",
    "\n",
    "To start off with, load in the demographics data for the general population into a pandas DataFrame, and do the same for the feature attributes summary. Note for all of the `.csv` data files in this project: they're semicolon (`;`) delimited, so you'll need an additional argument in your [`read_csv()`](https://pandas.pydata.org/pandas-docs/stable/generated/pandas.read_csv.html) call to read in the data properly. Also, considering the size of the main dataset, it may take some time for it to load completely.\n",
    "\n",
    "Once the dataset is loaded, it's recommended that you take a little bit of time just browsing the general structure of the dataset and feature summary file. You'll be getting deep into the innards of the cleaning in the first major step of the project, so gaining some general familiarity can help you get your bearings."
   ]
  },
  {
   "cell_type": "code",
   "execution_count": 2,
   "metadata": {},
   "outputs": [],
   "source": [
    "# Load in the general demographics data.\n",
    "azdias = pd.read_csv('Udacity_AZDIAS_Subset.csv', delimiter=';')\n",
    "\n",
    "# Load in the feature summary file.\n",
    "feat_info = pd.read_csv('AZDIAS_Feature_Summary.csv', delimiter=';')"
   ]
  },
  {
   "cell_type": "code",
   "execution_count": 3,
   "metadata": {},
   "outputs": [],
   "source": [
    "# Check the structure of the data after it's loaded (e.g. print the number of\n",
    "# rows and columns, print the first few rows).\n",
    "\n",
    "\n",
    "azdias.describe()\n"
   ]
  },
  {
   "cell_type": "code",
   "execution_count": 4,
   "metadata": {},
   "outputs": [],
   "source": [
    "azdias.info()\n"
   ]
  },
  {
   "cell_type": "code",
   "execution_count": 5,
   "metadata": {},
   "outputs": [],
   "source": [
    "#azdias"
   ]
  },
  {
   "cell_type": "code",
   "execution_count": 6,
   "metadata": {},
   "outputs": [],
   "source": [
    "azdias.head()"
   ]
  },
  {
   "cell_type": "code",
   "execution_count": 7,
   "metadata": {},
   "outputs": [],
   "source": [
    "#azdias.tail()"
   ]
  },
  {
   "cell_type": "code",
   "execution_count": 8,
   "metadata": {},
   "outputs": [],
   "source": [
    "#azdias.shape, azdias.dtypes"
   ]
  },
  {
   "cell_type": "code",
   "execution_count": 9,
   "metadata": {},
   "outputs": [],
   "source": [
    "#feat_info"
   ]
  },
  {
   "cell_type": "code",
   "execution_count": 10,
   "metadata": {},
   "outputs": [],
   "source": [
    "#feat_info.describe()"
   ]
  },
  {
   "cell_type": "code",
   "execution_count": 11,
   "metadata": {},
   "outputs": [],
   "source": [
    "#feat_info.info()"
   ]
  },
  {
   "cell_type": "code",
   "execution_count": 12,
   "metadata": {},
   "outputs": [],
   "source": [
    "#feat_info.shape"
   ]
  },
  {
   "cell_type": "code",
   "execution_count": 13,
   "metadata": {},
   "outputs": [],
   "source": [
    "#feat_info['missing_or_unknown']"
   ]
  },
  {
   "cell_type": "markdown",
   "metadata": {},
   "source": [
    "> **Tip**: Add additional cells to keep everything in reasonably-sized chunks! Keyboard shortcut `esc --> a` (press escape to enter command mode, then press the 'A' key) adds a new cell before the active cell, and `esc --> b` adds a new cell after the active cell. If you need to convert an active cell to a markdown cell, use `esc --> m` and to convert to a code cell, use `esc --> y`. \n",
    "\n",
    "## Step 1: Preprocessing\n",
    "\n",
    "### Step 1.1: Assess Missing Data\n",
    "\n",
    "The feature summary file contains a summary of properties for each demographics data column. You will use this file to help you make cleaning decisions during this stage of the project. First of all, you should assess the demographics data in terms of missing data. Pay attention to the following points as you perform your analysis, and take notes on what you observe. Make sure that you fill in the **Discussion** cell with your findings and decisions at the end of each step that has one!\n",
    "\n",
    "#### Step 1.1.1: Convert Missing Value Codes to NaNs\n",
    "The fourth column of the feature attributes summary (loaded in above as `feat_info`) documents the codes from the data dictionary that indicate missing or unknown data. While the file encodes this as a list (e.g. `[-1,0]`), this will get read in as a string object. You'll need to do a little bit of parsing to make use of it to identify and clean the data. Convert data that matches a 'missing' or 'unknown' value code into a numpy NaN value. You might want to see how much data takes on a 'missing' or 'unknown' code, and how much data is naturally missing, as a point of interest.\n",
    "\n",
    "**As one more reminder, you are encouraged to add additional cells to break up your analysis into manageable chunks.**"
   ]
  },
  {
   "cell_type": "code",
   "execution_count": null,
   "metadata": {},
   "outputs": [],
   "source": []
  },
  {
   "cell_type": "code",
   "execution_count": null,
   "metadata": {},
   "outputs": [],
   "source": []
  },
  {
   "cell_type": "code",
   "execution_count": null,
   "metadata": {},
   "outputs": [],
   "source": []
  },
  {
   "cell_type": "code",
   "execution_count": null,
   "metadata": {},
   "outputs": [],
   "source": [
    "\n"
   ]
  },
  {
   "cell_type": "code",
   "execution_count": null,
   "metadata": {},
   "outputs": [],
   "source": []
  },
  {
   "cell_type": "code",
   "execution_count": null,
   "metadata": {},
   "outputs": [],
   "source": []
  },
  {
   "cell_type": "code",
   "execution_count": 3,
   "metadata": {},
   "outputs": [],
   "source": [
    "feat_info['missing_or_unknown_list'] = [i[1:-1].split(',') for i in feat_info['missing_or_unknown']]"
   ]
  },
  {
   "cell_type": "code",
   "execution_count": 4,
   "metadata": {},
   "outputs": [
    {
     "data": {
      "text/html": [
       "<div>\n",
       "<style scoped>\n",
       "    .dataframe tbody tr th:only-of-type {\n",
       "        vertical-align: middle;\n",
       "    }\n",
       "\n",
       "    .dataframe tbody tr th {\n",
       "        vertical-align: top;\n",
       "    }\n",
       "\n",
       "    .dataframe thead th {\n",
       "        text-align: right;\n",
       "    }\n",
       "</style>\n",
       "<table border=\"1\" class=\"dataframe\">\n",
       "  <thead>\n",
       "    <tr style=\"text-align: right;\">\n",
       "      <th></th>\n",
       "      <th>AGER_TYP</th>\n",
       "      <th>ALTERSKATEGORIE_GROB</th>\n",
       "      <th>ANREDE_KZ</th>\n",
       "      <th>CJT_GESAMTTYP</th>\n",
       "      <th>FINANZ_MINIMALIST</th>\n",
       "      <th>FINANZ_SPARER</th>\n",
       "      <th>FINANZ_VORSORGER</th>\n",
       "      <th>FINANZ_ANLEGER</th>\n",
       "      <th>FINANZ_UNAUFFAELLIGER</th>\n",
       "      <th>FINANZ_HAUSBAUER</th>\n",
       "      <th>...</th>\n",
       "      <th>PLZ8_ANTG1</th>\n",
       "      <th>PLZ8_ANTG2</th>\n",
       "      <th>PLZ8_ANTG3</th>\n",
       "      <th>PLZ8_ANTG4</th>\n",
       "      <th>PLZ8_BAUMAX</th>\n",
       "      <th>PLZ8_HHZ</th>\n",
       "      <th>PLZ8_GBZ</th>\n",
       "      <th>ARBEIT</th>\n",
       "      <th>ORTSGR_KLS9</th>\n",
       "      <th>RELAT_AB</th>\n",
       "    </tr>\n",
       "  </thead>\n",
       "  <tbody>\n",
       "    <tr>\n",
       "      <th>0</th>\n",
       "      <td>NaN</td>\n",
       "      <td>2.0</td>\n",
       "      <td>1</td>\n",
       "      <td>2.0</td>\n",
       "      <td>3</td>\n",
       "      <td>4</td>\n",
       "      <td>3</td>\n",
       "      <td>5</td>\n",
       "      <td>5</td>\n",
       "      <td>3</td>\n",
       "      <td>...</td>\n",
       "      <td>NaN</td>\n",
       "      <td>NaN</td>\n",
       "      <td>NaN</td>\n",
       "      <td>NaN</td>\n",
       "      <td>NaN</td>\n",
       "      <td>NaN</td>\n",
       "      <td>NaN</td>\n",
       "      <td>NaN</td>\n",
       "      <td>NaN</td>\n",
       "      <td>NaN</td>\n",
       "    </tr>\n",
       "    <tr>\n",
       "      <th>1</th>\n",
       "      <td>NaN</td>\n",
       "      <td>1.0</td>\n",
       "      <td>2</td>\n",
       "      <td>5.0</td>\n",
       "      <td>1</td>\n",
       "      <td>5</td>\n",
       "      <td>2</td>\n",
       "      <td>5</td>\n",
       "      <td>4</td>\n",
       "      <td>5</td>\n",
       "      <td>...</td>\n",
       "      <td>2.0</td>\n",
       "      <td>3.0</td>\n",
       "      <td>2.0</td>\n",
       "      <td>1.0</td>\n",
       "      <td>1.0</td>\n",
       "      <td>5.0</td>\n",
       "      <td>4.0</td>\n",
       "      <td>3.0</td>\n",
       "      <td>5.0</td>\n",
       "      <td>4.0</td>\n",
       "    </tr>\n",
       "    <tr>\n",
       "      <th>2</th>\n",
       "      <td>NaN</td>\n",
       "      <td>3.0</td>\n",
       "      <td>2</td>\n",
       "      <td>3.0</td>\n",
       "      <td>1</td>\n",
       "      <td>4</td>\n",
       "      <td>1</td>\n",
       "      <td>2</td>\n",
       "      <td>3</td>\n",
       "      <td>5</td>\n",
       "      <td>...</td>\n",
       "      <td>3.0</td>\n",
       "      <td>3.0</td>\n",
       "      <td>1.0</td>\n",
       "      <td>0.0</td>\n",
       "      <td>1.0</td>\n",
       "      <td>4.0</td>\n",
       "      <td>4.0</td>\n",
       "      <td>3.0</td>\n",
       "      <td>5.0</td>\n",
       "      <td>2.0</td>\n",
       "    </tr>\n",
       "    <tr>\n",
       "      <th>3</th>\n",
       "      <td>2.0</td>\n",
       "      <td>4.0</td>\n",
       "      <td>2</td>\n",
       "      <td>2.0</td>\n",
       "      <td>4</td>\n",
       "      <td>2</td>\n",
       "      <td>5</td>\n",
       "      <td>2</td>\n",
       "      <td>1</td>\n",
       "      <td>2</td>\n",
       "      <td>...</td>\n",
       "      <td>2.0</td>\n",
       "      <td>2.0</td>\n",
       "      <td>2.0</td>\n",
       "      <td>0.0</td>\n",
       "      <td>1.0</td>\n",
       "      <td>3.0</td>\n",
       "      <td>4.0</td>\n",
       "      <td>2.0</td>\n",
       "      <td>3.0</td>\n",
       "      <td>3.0</td>\n",
       "    </tr>\n",
       "    <tr>\n",
       "      <th>4</th>\n",
       "      <td>NaN</td>\n",
       "      <td>3.0</td>\n",
       "      <td>1</td>\n",
       "      <td>5.0</td>\n",
       "      <td>4</td>\n",
       "      <td>3</td>\n",
       "      <td>4</td>\n",
       "      <td>1</td>\n",
       "      <td>3</td>\n",
       "      <td>2</td>\n",
       "      <td>...</td>\n",
       "      <td>2.0</td>\n",
       "      <td>4.0</td>\n",
       "      <td>2.0</td>\n",
       "      <td>1.0</td>\n",
       "      <td>2.0</td>\n",
       "      <td>3.0</td>\n",
       "      <td>3.0</td>\n",
       "      <td>4.0</td>\n",
       "      <td>6.0</td>\n",
       "      <td>5.0</td>\n",
       "    </tr>\n",
       "  </tbody>\n",
       "</table>\n",
       "<p>5 rows × 85 columns</p>\n",
       "</div>"
      ],
      "text/plain": [
       "   AGER_TYP  ALTERSKATEGORIE_GROB  ANREDE_KZ  CJT_GESAMTTYP  \\\n",
       "0       NaN                   2.0          1            2.0   \n",
       "1       NaN                   1.0          2            5.0   \n",
       "2       NaN                   3.0          2            3.0   \n",
       "3       2.0                   4.0          2            2.0   \n",
       "4       NaN                   3.0          1            5.0   \n",
       "\n",
       "   FINANZ_MINIMALIST  FINANZ_SPARER  FINANZ_VORSORGER  FINANZ_ANLEGER  \\\n",
       "0                  3              4                 3               5   \n",
       "1                  1              5                 2               5   \n",
       "2                  1              4                 1               2   \n",
       "3                  4              2                 5               2   \n",
       "4                  4              3                 4               1   \n",
       "\n",
       "   FINANZ_UNAUFFAELLIGER  FINANZ_HAUSBAUER    ...     PLZ8_ANTG1  PLZ8_ANTG2  \\\n",
       "0                      5                 3    ...            NaN         NaN   \n",
       "1                      4                 5    ...            2.0         3.0   \n",
       "2                      3                 5    ...            3.0         3.0   \n",
       "3                      1                 2    ...            2.0         2.0   \n",
       "4                      3                 2    ...            2.0         4.0   \n",
       "\n",
       "   PLZ8_ANTG3  PLZ8_ANTG4  PLZ8_BAUMAX  PLZ8_HHZ  PLZ8_GBZ  ARBEIT  \\\n",
       "0         NaN         NaN          NaN       NaN       NaN     NaN   \n",
       "1         2.0         1.0          1.0       5.0       4.0     3.0   \n",
       "2         1.0         0.0          1.0       4.0       4.0     3.0   \n",
       "3         2.0         0.0          1.0       3.0       4.0     2.0   \n",
       "4         2.0         1.0          2.0       3.0       3.0     4.0   \n",
       "\n",
       "   ORTSGR_KLS9  RELAT_AB  \n",
       "0          NaN       NaN  \n",
       "1          5.0       4.0  \n",
       "2          5.0       2.0  \n",
       "3          3.0       3.0  \n",
       "4          6.0       5.0  \n",
       "\n",
       "[5 rows x 85 columns]"
      ]
     },
     "execution_count": 4,
     "metadata": {},
     "output_type": "execute_result"
    }
   ],
   "source": [
    "# Identify missing or unknown data values and convert them to NaNs.\n",
    "\n",
    "\n",
    "def miss_nan(x, list_nan):\n",
    "    \n",
    "    x_new=x\n",
    "    for j in list_nan:\n",
    "        try:\n",
    "            nan_value = (float(j))\n",
    "        except ValueError:\n",
    "            nan_value = j\n",
    "        if x == nan_value:\n",
    "            x_new = np.nan\n",
    "            break\n",
    "    return x_new\n",
    "azdias_nan=azdias.copy()\n",
    "for feat_col in list(azdias_nan.columns):\n",
    "    miss_list = feat_info[feat_info.attribute==feat_col]['missing_or_unknown_list'].values[0]\n",
    "    azdias_nan[feat_col]=azdias_nan[feat_col].apply(lambda x: miss_nan(x, miss_list))\n",
    "\n",
    "\n",
    "azdias_nan.head()  "
   ]
  },
  {
   "cell_type": "code",
   "execution_count": null,
   "metadata": {},
   "outputs": [],
   "source": []
  },
  {
   "cell_type": "code",
   "execution_count": null,
   "metadata": {},
   "outputs": [],
   "source": []
  },
  {
   "cell_type": "code",
   "execution_count": null,
   "metadata": {},
   "outputs": [],
   "source": []
  },
  {
   "cell_type": "code",
   "execution_count": 16,
   "metadata": {},
   "outputs": [],
   "source": [
    "#pd.testing.assert_frame_equal(azdias,azdias_nan )"
   ]
  },
  {
   "cell_type": "code",
   "execution_count": null,
   "metadata": {},
   "outputs": [],
   "source": []
  },
  {
   "cell_type": "markdown",
   "metadata": {},
   "source": [
    "#### Step 1.1.2: Assess Missing Data in Each Column\n",
    "\n",
    "How much missing data is present in each column? There are a few columns that are outliers in terms of the proportion of values that are missing. You will want to use matplotlib's [`hist()`](https://matplotlib.org/api/_as_gen/matplotlib.pyplot.hist.html) function to visualize the distribution of missing value counts to find these columns. Identify and document these columns. While some of these columns might have justifications for keeping or re-encoding the data, for this project you should just remove them from the dataframe. (Feel free to make remarks about these outlier columns in the discussion, however!)\n",
    "\n",
    "For the remaining features, are there any patterns in which columns have, or share, missing data?"
   ]
  },
  {
   "cell_type": "code",
   "execution_count": 17,
   "metadata": {},
   "outputs": [
    {
     "name": "stdout",
     "output_type": "stream",
     "text": [
      "<class 'pandas.core.frame.DataFrame'>\n",
      "RangeIndex: 891221 entries, 0 to 891220\n",
      "Data columns (total 85 columns):\n",
      "AGER_TYP                 205378 non-null float64\n",
      "ALTERSKATEGORIE_GROB     888340 non-null float64\n",
      "ANREDE_KZ                891221 non-null int64\n",
      "CJT_GESAMTTYP            886367 non-null float64\n",
      "FINANZ_MINIMALIST        891221 non-null int64\n",
      "FINANZ_SPARER            891221 non-null int64\n",
      "FINANZ_VORSORGER         891221 non-null int64\n",
      "FINANZ_ANLEGER           891221 non-null int64\n",
      "FINANZ_UNAUFFAELLIGER    891221 non-null int64\n",
      "FINANZ_HAUSBAUER         891221 non-null int64\n",
      "FINANZTYP                891221 non-null int64\n",
      "GEBURTSJAHR              498903 non-null float64\n",
      "GFK_URLAUBERTYP          886367 non-null float64\n",
      "GREEN_AVANTGARDE         891221 non-null int64\n",
      "HEALTH_TYP               780025 non-null float64\n",
      "LP_LEBENSPHASE_FEIN      793589 non-null float64\n",
      "LP_LEBENSPHASE_GROB      796649 non-null float64\n",
      "LP_FAMILIE_FEIN          813429 non-null float64\n",
      "LP_FAMILIE_GROB          813429 non-null float64\n",
      "LP_STATUS_FEIN           886367 non-null float64\n",
      "LP_STATUS_GROB           886367 non-null float64\n",
      "NATIONALITAET_KZ         782906 non-null float64\n",
      "PRAEGENDE_JUGENDJAHRE    783057 non-null float64\n",
      "RETOURTYP_BK_S           886367 non-null float64\n",
      "SEMIO_SOZ                891221 non-null int64\n",
      "SEMIO_FAM                891221 non-null int64\n",
      "SEMIO_REL                891221 non-null int64\n",
      "SEMIO_MAT                891221 non-null int64\n",
      "SEMIO_VERT               891221 non-null int64\n",
      "SEMIO_LUST               891221 non-null int64\n",
      "SEMIO_ERL                891221 non-null int64\n",
      "SEMIO_KULT               891221 non-null int64\n",
      "SEMIO_RAT                891221 non-null int64\n",
      "SEMIO_KRIT               891221 non-null int64\n",
      "SEMIO_DOM                891221 non-null int64\n",
      "SEMIO_KAEM               891221 non-null int64\n",
      "SEMIO_PFLICHT            891221 non-null int64\n",
      "SEMIO_TRADV              891221 non-null int64\n",
      "SHOPPER_TYP              780025 non-null float64\n",
      "SOHO_KZ                  817722 non-null float64\n",
      "TITEL_KZ                 2160 non-null float64\n",
      "VERS_TYP                 780025 non-null float64\n",
      "ZABEOTYP                 891221 non-null int64\n",
      "ALTER_HH                 580954 non-null float64\n",
      "ANZ_PERSONEN             817722 non-null float64\n",
      "ANZ_TITEL                817722 non-null float64\n",
      "HH_EINKOMMEN_SCORE       872873 non-null float64\n",
      "KK_KUNDENTYP             306609 non-null float64\n",
      "W_KEIT_KIND_HH           743233 non-null float64\n",
      "WOHNDAUER_2008           817722 non-null float64\n",
      "ANZ_HAUSHALTE_AKTIV      791610 non-null float64\n",
      "ANZ_HH_TITEL             794213 non-null float64\n",
      "GEBAEUDETYP              798073 non-null float64\n",
      "KONSUMNAEHE              817252 non-null float64\n",
      "MIN_GEBAEUDEJAHR         798073 non-null float64\n",
      "OST_WEST_KZ              798073 non-null object\n",
      "WOHNLAGE                 798073 non-null float64\n",
      "CAMEO_DEUG_2015          791869 non-null object\n",
      "CAMEO_DEU_2015           791869 non-null object\n",
      "CAMEO_INTL_2015          791869 non-null object\n",
      "KBA05_ANTG1              757897 non-null float64\n",
      "KBA05_ANTG2              757897 non-null float64\n",
      "KBA05_ANTG3              757897 non-null float64\n",
      "KBA05_ANTG4              757897 non-null float64\n",
      "KBA05_BAUMAX             414697 non-null float64\n",
      "KBA05_GBZ                757897 non-null float64\n",
      "BALLRAUM                 797481 non-null float64\n",
      "EWDICHTE                 797481 non-null float64\n",
      "INNENSTADT               797481 non-null float64\n",
      "GEBAEUDETYP_RASTER       798066 non-null float64\n",
      "KKK                      733157 non-null float64\n",
      "MOBI_REGIO               757897 non-null float64\n",
      "ONLINE_AFFINITAET        886367 non-null float64\n",
      "REGIOTYP                 733157 non-null float64\n",
      "KBA13_ANZAHL_PKW         785421 non-null float64\n",
      "PLZ8_ANTG1               774706 non-null float64\n",
      "PLZ8_ANTG2               774706 non-null float64\n",
      "PLZ8_ANTG3               774706 non-null float64\n",
      "PLZ8_ANTG4               774706 non-null float64\n",
      "PLZ8_BAUMAX              774706 non-null float64\n",
      "PLZ8_HHZ                 774706 non-null float64\n",
      "PLZ8_GBZ                 774706 non-null float64\n",
      "ARBEIT                   793846 non-null float64\n",
      "ORTSGR_KLS9              793947 non-null float64\n",
      "RELAT_AB                 793846 non-null float64\n",
      "dtypes: float64(57), int64(24), object(4)\n",
      "memory usage: 578.0+ MB\n"
     ]
    }
   ],
   "source": [
    "# Perform an assessment of how much missing data there is in each column of the\n",
    "# dataset.\n",
    "\n",
    "#I don't see why hist() would be used instead of a normal bar graph.\n",
    "\n",
    "azdias_nan.info()\n",
    "\n"
   ]
  },
  {
   "cell_type": "code",
   "execution_count": 18,
   "metadata": {},
   "outputs": [],
   "source": [
    "# Investigate patterns in the amount of missing data in each column."
   ]
  },
  {
   "cell_type": "code",
   "execution_count": 19,
   "metadata": {},
   "outputs": [],
   "source": [
    "nan_col = azdias_nan.isnull().sum()"
   ]
  },
  {
   "cell_type": "code",
   "execution_count": 20,
   "metadata": {},
   "outputs": [
    {
     "data": {
      "text/plain": [
       "<matplotlib.axes._subplots.AxesSubplot at 0x7f13c97976d8>"
      ]
     },
     "execution_count": 20,
     "metadata": {},
     "output_type": "execute_result"
    },
    {
     "data": {
      "image/png": "[encoded data removed]",
      "text/plain": [
       "<matplotlib.figure.Figure at 0x7f13c97eb630>"
      ]
     },
     "metadata": {
      "needs_background": "light"
     },
     "output_type": "display_data"
    }
   ],
   "source": [
    "nan_col.plot(kind='bar', figsize=(16,6), title='Number of NaNs', grid = True, yticks = [i for i in range(0,1000000,100000)])"
   ]
  },
  {
   "cell_type": "code",
   "execution_count": 21,
   "metadata": {},
   "outputs": [],
   "source": [
    "nan_ind_list = [i+1 for i in range(azdias_nan.shape[1])]"
   ]
  },
  {
   "cell_type": "code",
   "execution_count": 22,
   "metadata": {},
   "outputs": [],
   "source": [
    "nan_labels = list(azdias_nan.columns)"
   ]
  },
  {
   "cell_type": "code",
   "execution_count": 23,
   "metadata": {},
   "outputs": [],
   "source": [
    "nan_col_list = list(azdias_nan.isnull().sum())"
   ]
  },
  {
   "cell_type": "code",
   "execution_count": 24,
   "metadata": {},
   "outputs": [
    {
     "data": {
      "image/png": "[encoded data removed]",
      "text/plain": [
       "<matplotlib.figure.Figure at 0x7f13b36aa240>"
      ]
     },
     "metadata": {
      "needs_background": "light"
     },
     "output_type": "display_data"
    }
   ],
   "source": [
    "plt.figure(figsize=(16,6))\n",
    "plt.bar(nan_ind_list, nan_col_list,tick_label = nan_labels)\n",
    "plt.xticks(rotation=90)\n",
    "plt.ylabel('Number of NaNs')\n",
    "plt.show()"
   ]
  },
  {
   "cell_type": "code",
   "execution_count": null,
   "metadata": {},
   "outputs": [],
   "source": []
  },
  {
   "cell_type": "code",
   "execution_count": null,
   "metadata": {},
   "outputs": [],
   "source": []
  },
  {
   "cell_type": "code",
   "execution_count": null,
   "metadata": {},
   "outputs": [],
   "source": [
    "\n",
    "\n",
    "\n"
   ]
  },
  {
   "cell_type": "code",
   "execution_count": 5,
   "metadata": {},
   "outputs": [
    {
     "data": {
      "text/plain": [
       "0        AGER_TYP\n",
       "1     GEBURTSJAHR\n",
       "2        TITEL_KZ\n",
       "3        ALTER_HH\n",
       "4    KK_KUNDENTYP\n",
       "5    KBA05_BAUMAX\n",
       "dtype: object"
      ]
     },
     "execution_count": 5,
     "metadata": {},
     "output_type": "execute_result"
    }
   ],
   "source": [
    "nan_out_list = []\n",
    "for i in azdias_nan.columns.tolist():\n",
    "    if azdias_nan[i].isnull().sum() > 200000:\n",
    "        nan_out_list.append(i)\n",
    "nan_out = pd.Series(nan_out_list)  \n",
    "nan_out"
   ]
  },
  {
   "cell_type": "code",
   "execution_count": null,
   "metadata": {},
   "outputs": [],
   "source": []
  },
  {
   "cell_type": "code",
   "execution_count": null,
   "metadata": {},
   "outputs": [],
   "source": []
  },
  {
   "cell_type": "code",
   "execution_count": null,
   "metadata": {},
   "outputs": [],
   "source": []
  },
  {
   "cell_type": "code",
   "execution_count": 6,
   "metadata": {},
   "outputs": [
    {
     "name": "stdout",
     "output_type": "stream",
     "text": [
      "<class 'pandas.core.frame.DataFrame'>\n",
      "RangeIndex: 891221 entries, 0 to 891220\n",
      "Data columns (total 79 columns):\n",
      "ALTERSKATEGORIE_GROB     888340 non-null float64\n",
      "ANREDE_KZ                891221 non-null int64\n",
      "CJT_GESAMTTYP            886367 non-null float64\n",
      "FINANZ_MINIMALIST        891221 non-null int64\n",
      "FINANZ_SPARER            891221 non-null int64\n",
      "FINANZ_VORSORGER         891221 non-null int64\n",
      "FINANZ_ANLEGER           891221 non-null int64\n",
      "FINANZ_UNAUFFAELLIGER    891221 non-null int64\n",
      "FINANZ_HAUSBAUER         891221 non-null int64\n",
      "FINANZTYP                891221 non-null int64\n",
      "GFK_URLAUBERTYP          886367 non-null float64\n",
      "GREEN_AVANTGARDE         891221 non-null int64\n",
      "HEALTH_TYP               780025 non-null float64\n",
      "LP_LEBENSPHASE_FEIN      793589 non-null float64\n",
      "LP_LEBENSPHASE_GROB      796649 non-null float64\n",
      "LP_FAMILIE_FEIN          813429 non-null float64\n",
      "LP_FAMILIE_GROB          813429 non-null float64\n",
      "LP_STATUS_FEIN           886367 non-null float64\n",
      "LP_STATUS_GROB           886367 non-null float64\n",
      "NATIONALITAET_KZ         782906 non-null float64\n",
      "PRAEGENDE_JUGENDJAHRE    783057 non-null float64\n",
      "RETOURTYP_BK_S           886367 non-null float64\n",
      "SEMIO_SOZ                891221 non-null int64\n",
      "SEMIO_FAM                891221 non-null int64\n",
      "SEMIO_REL                891221 non-null int64\n",
      "SEMIO_MAT                891221 non-null int64\n",
      "SEMIO_VERT               891221 non-null int64\n",
      "SEMIO_LUST               891221 non-null int64\n",
      "SEMIO_ERL                891221 non-null int64\n",
      "SEMIO_KULT               891221 non-null int64\n",
      "SEMIO_RAT                891221 non-null int64\n",
      "SEMIO_KRIT               891221 non-null int64\n",
      "SEMIO_DOM                891221 non-null int64\n",
      "SEMIO_KAEM               891221 non-null int64\n",
      "SEMIO_PFLICHT            891221 non-null int64\n",
      "SEMIO_TRADV              891221 non-null int64\n",
      "SHOPPER_TYP              780025 non-null float64\n",
      "SOHO_KZ                  817722 non-null float64\n",
      "VERS_TYP                 780025 non-null float64\n",
      "ZABEOTYP                 891221 non-null int64\n",
      "ANZ_PERSONEN             817722 non-null float64\n",
      "ANZ_TITEL                817722 non-null float64\n",
      "HH_EINKOMMEN_SCORE       872873 non-null float64\n",
      "W_KEIT_KIND_HH           743233 non-null float64\n",
      "WOHNDAUER_2008           817722 non-null float64\n",
      "ANZ_HAUSHALTE_AKTIV      791610 non-null float64\n",
      "ANZ_HH_TITEL             794213 non-null float64\n",
      "GEBAEUDETYP              798073 non-null float64\n",
      "KONSUMNAEHE              817252 non-null float64\n",
      "MIN_GEBAEUDEJAHR         798073 non-null float64\n",
      "OST_WEST_KZ              798073 non-null object\n",
      "WOHNLAGE                 798073 non-null float64\n",
      "CAMEO_DEUG_2015          791869 non-null object\n",
      "CAMEO_DEU_2015           791869 non-null object\n",
      "CAMEO_INTL_2015          791869 non-null object\n",
      "KBA05_ANTG1              757897 non-null float64\n",
      "KBA05_ANTG2              757897 non-null float64\n",
      "KBA05_ANTG3              757897 non-null float64\n",
      "KBA05_ANTG4              757897 non-null float64\n",
      "KBA05_GBZ                757897 non-null float64\n",
      "BALLRAUM                 797481 non-null float64\n",
      "EWDICHTE                 797481 non-null float64\n",
      "INNENSTADT               797481 non-null float64\n",
      "GEBAEUDETYP_RASTER       798066 non-null float64\n",
      "KKK                      733157 non-null float64\n",
      "MOBI_REGIO               757897 non-null float64\n",
      "ONLINE_AFFINITAET        886367 non-null float64\n",
      "REGIOTYP                 733157 non-null float64\n",
      "KBA13_ANZAHL_PKW         785421 non-null float64\n",
      "PLZ8_ANTG1               774706 non-null float64\n",
      "PLZ8_ANTG2               774706 non-null float64\n",
      "PLZ8_ANTG3               774706 non-null float64\n",
      "PLZ8_ANTG4               774706 non-null float64\n",
      "PLZ8_BAUMAX              774706 non-null float64\n",
      "PLZ8_HHZ                 774706 non-null float64\n",
      "PLZ8_GBZ                 774706 non-null float64\n",
      "ARBEIT                   793846 non-null float64\n",
      "ORTSGR_KLS9              793947 non-null float64\n",
      "RELAT_AB                 793846 non-null float64\n",
      "dtypes: float64(51), int64(24), object(4)\n",
      "memory usage: 537.2+ MB\n"
     ]
    }
   ],
   "source": [
    "# Remove the outlier columns from the dataset. (You'll perform other data\n",
    "# engineering tasks such as re-encoding and imputation later.)\n",
    "azdias_drop_nan = azdias_nan.drop(columns=nan_out)\n",
    "azdias_drop_nan.info()"
   ]
  },
  {
   "cell_type": "code",
   "execution_count": 27,
   "metadata": {},
   "outputs": [
    {
     "data": {
      "text/html": [
       "<div>\n",
       "<style scoped>\n",
       "    .dataframe tbody tr th:only-of-type {\n",
       "        vertical-align: middle;\n",
       "    }\n",
       "\n",
       "    .dataframe tbody tr th {\n",
       "        vertical-align: top;\n",
       "    }\n",
       "\n",
       "    .dataframe thead th {\n",
       "        text-align: right;\n",
       "    }\n",
       "</style>\n",
       "<table border=\"1\" class=\"dataframe\">\n",
       "  <thead>\n",
       "    <tr style=\"text-align: right;\">\n",
       "      <th></th>\n",
       "      <th>ALTERSKATEGORIE_GROB</th>\n",
       "      <th>ANREDE_KZ</th>\n",
       "      <th>CJT_GESAMTTYP</th>\n",
       "      <th>FINANZ_MINIMALIST</th>\n",
       "      <th>FINANZ_SPARER</th>\n",
       "      <th>FINANZ_VORSORGER</th>\n",
       "      <th>FINANZ_ANLEGER</th>\n",
       "      <th>FINANZ_UNAUFFAELLIGER</th>\n",
       "      <th>FINANZ_HAUSBAUER</th>\n",
       "      <th>FINANZTYP</th>\n",
       "      <th>...</th>\n",
       "      <th>PLZ8_ANTG1</th>\n",
       "      <th>PLZ8_ANTG2</th>\n",
       "      <th>PLZ8_ANTG3</th>\n",
       "      <th>PLZ8_ANTG4</th>\n",
       "      <th>PLZ8_BAUMAX</th>\n",
       "      <th>PLZ8_HHZ</th>\n",
       "      <th>PLZ8_GBZ</th>\n",
       "      <th>ARBEIT</th>\n",
       "      <th>ORTSGR_KLS9</th>\n",
       "      <th>RELAT_AB</th>\n",
       "    </tr>\n",
       "  </thead>\n",
       "  <tbody>\n",
       "    <tr>\n",
       "      <th>0</th>\n",
       "      <td>2.0</td>\n",
       "      <td>1</td>\n",
       "      <td>2.0</td>\n",
       "      <td>3</td>\n",
       "      <td>4</td>\n",
       "      <td>3</td>\n",
       "      <td>5</td>\n",
       "      <td>5</td>\n",
       "      <td>3</td>\n",
       "      <td>4</td>\n",
       "      <td>...</td>\n",
       "      <td>NaN</td>\n",
       "      <td>NaN</td>\n",
       "      <td>NaN</td>\n",
       "      <td>NaN</td>\n",
       "      <td>NaN</td>\n",
       "      <td>NaN</td>\n",
       "      <td>NaN</td>\n",
       "      <td>NaN</td>\n",
       "      <td>NaN</td>\n",
       "      <td>NaN</td>\n",
       "    </tr>\n",
       "    <tr>\n",
       "      <th>1</th>\n",
       "      <td>1.0</td>\n",
       "      <td>2</td>\n",
       "      <td>5.0</td>\n",
       "      <td>1</td>\n",
       "      <td>5</td>\n",
       "      <td>2</td>\n",
       "      <td>5</td>\n",
       "      <td>4</td>\n",
       "      <td>5</td>\n",
       "      <td>1</td>\n",
       "      <td>...</td>\n",
       "      <td>2.0</td>\n",
       "      <td>3.0</td>\n",
       "      <td>2.0</td>\n",
       "      <td>1.0</td>\n",
       "      <td>1.0</td>\n",
       "      <td>5.0</td>\n",
       "      <td>4.0</td>\n",
       "      <td>3.0</td>\n",
       "      <td>5.0</td>\n",
       "      <td>4.0</td>\n",
       "    </tr>\n",
       "    <tr>\n",
       "      <th>2</th>\n",
       "      <td>3.0</td>\n",
       "      <td>2</td>\n",
       "      <td>3.0</td>\n",
       "      <td>1</td>\n",
       "      <td>4</td>\n",
       "      <td>1</td>\n",
       "      <td>2</td>\n",
       "      <td>3</td>\n",
       "      <td>5</td>\n",
       "      <td>1</td>\n",
       "      <td>...</td>\n",
       "      <td>3.0</td>\n",
       "      <td>3.0</td>\n",
       "      <td>1.0</td>\n",
       "      <td>0.0</td>\n",
       "      <td>1.0</td>\n",
       "      <td>4.0</td>\n",
       "      <td>4.0</td>\n",
       "      <td>3.0</td>\n",
       "      <td>5.0</td>\n",
       "      <td>2.0</td>\n",
       "    </tr>\n",
       "    <tr>\n",
       "      <th>3</th>\n",
       "      <td>4.0</td>\n",
       "      <td>2</td>\n",
       "      <td>2.0</td>\n",
       "      <td>4</td>\n",
       "      <td>2</td>\n",
       "      <td>5</td>\n",
       "      <td>2</td>\n",
       "      <td>1</td>\n",
       "      <td>2</td>\n",
       "      <td>6</td>\n",
       "      <td>...</td>\n",
       "      <td>2.0</td>\n",
       "      <td>2.0</td>\n",
       "      <td>2.0</td>\n",
       "      <td>0.0</td>\n",
       "      <td>1.0</td>\n",
       "      <td>3.0</td>\n",
       "      <td>4.0</td>\n",
       "      <td>2.0</td>\n",
       "      <td>3.0</td>\n",
       "      <td>3.0</td>\n",
       "    </tr>\n",
       "    <tr>\n",
       "      <th>4</th>\n",
       "      <td>3.0</td>\n",
       "      <td>1</td>\n",
       "      <td>5.0</td>\n",
       "      <td>4</td>\n",
       "      <td>3</td>\n",
       "      <td>4</td>\n",
       "      <td>1</td>\n",
       "      <td>3</td>\n",
       "      <td>2</td>\n",
       "      <td>5</td>\n",
       "      <td>...</td>\n",
       "      <td>2.0</td>\n",
       "      <td>4.0</td>\n",
       "      <td>2.0</td>\n",
       "      <td>1.0</td>\n",
       "      <td>2.0</td>\n",
       "      <td>3.0</td>\n",
       "      <td>3.0</td>\n",
       "      <td>4.0</td>\n",
       "      <td>6.0</td>\n",
       "      <td>5.0</td>\n",
       "    </tr>\n",
       "  </tbody>\n",
       "</table>\n",
       "<p>5 rows × 79 columns</p>\n",
       "</div>"
      ],
      "text/plain": [
       "   ALTERSKATEGORIE_GROB  ANREDE_KZ  CJT_GESAMTTYP  FINANZ_MINIMALIST  \\\n",
       "0                   2.0          1            2.0                  3   \n",
       "1                   1.0          2            5.0                  1   \n",
       "2                   3.0          2            3.0                  1   \n",
       "3                   4.0          2            2.0                  4   \n",
       "4                   3.0          1            5.0                  4   \n",
       "\n",
       "   FINANZ_SPARER  FINANZ_VORSORGER  FINANZ_ANLEGER  FINANZ_UNAUFFAELLIGER  \\\n",
       "0              4                 3               5                      5   \n",
       "1              5                 2               5                      4   \n",
       "2              4                 1               2                      3   \n",
       "3              2                 5               2                      1   \n",
       "4              3                 4               1                      3   \n",
       "\n",
       "   FINANZ_HAUSBAUER  FINANZTYP    ...     PLZ8_ANTG1  PLZ8_ANTG2  PLZ8_ANTG3  \\\n",
       "0                 3          4    ...            NaN         NaN         NaN   \n",
       "1                 5          1    ...            2.0         3.0         2.0   \n",
       "2                 5          1    ...            3.0         3.0         1.0   \n",
       "3                 2          6    ...            2.0         2.0         2.0   \n",
       "4                 2          5    ...            2.0         4.0         2.0   \n",
       "\n",
       "   PLZ8_ANTG4  PLZ8_BAUMAX  PLZ8_HHZ  PLZ8_GBZ  ARBEIT  ORTSGR_KLS9  RELAT_AB  \n",
       "0         NaN          NaN       NaN       NaN     NaN          NaN       NaN  \n",
       "1         1.0          1.0       5.0       4.0     3.0          5.0       4.0  \n",
       "2         0.0          1.0       4.0       4.0     3.0          5.0       2.0  \n",
       "3         0.0          1.0       3.0       4.0     2.0          3.0       3.0  \n",
       "4         1.0          2.0       3.0       3.0     4.0          6.0       5.0  \n",
       "\n",
       "[5 rows x 79 columns]"
      ]
     },
     "execution_count": 27,
     "metadata": {},
     "output_type": "execute_result"
    }
   ],
   "source": [
    "azdias_drop_nan.head()"
   ]
  },
  {
   "cell_type": "markdown",
   "metadata": {},
   "source": [
    "#### Discussion 1.1.2: Assess Missing Data in Each Column\n",
    "\n",
    "(Double click this cell and replace this text with your own text, reporting your observations regarding the amount of missing data in each column. Are there any patterns in missing values? Which columns were removed from the dataset?)\n",
    "\n",
    "It looked like there were only a few outliers in the data set. Many of the columns with NaNs seemed to have NaN counts that hover around 100000. A pattern is that some columns have the same number of NaNs. The removed columns were ones with NaN counts higher than 200000:\n",
    "\n",
    "        AGER_TYP\n",
    "     GEBURTSJAHR\n",
    "        TITEL_KZ\n",
    "        ALTER_HH\n",
    "    KK_KUNDENTYP\n",
    "    KBA05_BAUMAX"
   ]
  },
  {
   "cell_type": "markdown",
   "metadata": {},
   "source": [
    "#### Step 1.1.3: Assess Missing Data in Each Row\n",
    "\n",
    "Now, you'll perform a similar assessment for the rows of the dataset. How much data is missing in each row? As with the columns, you should see some groups of points that have a very different numbers of missing values. Divide the data into two subsets: one for data points that are above some threshold for missing values, and a second subset for points below that threshold.\n",
    "\n",
    "In order to know what to do with the outlier rows, we should see if the distribution of data values on columns that are not missing data (or are missing very little data) are similar or different between the two groups. Select at least five of these columns and compare the distribution of values.\n",
    "- You can use seaborn's [`countplot()`](https://seaborn.pydata.org/generated/seaborn.countplot.html) function to create a bar chart of code frequencies and matplotlib's [`subplot()`](https://matplotlib.org/api/_as_gen/matplotlib.pyplot.subplot.html) function to put bar charts for the two subplots side by side.\n",
    "- To reduce repeated code, you might want to write a function that can perform this comparison, taking as one of its arguments a column to be compared.\n",
    "\n",
    "Depending on what you observe in your comparison, this will have implications on how you approach your conclusions later in the analysis. If the distributions of non-missing features look similar between the data with many missing values and the data with few or no missing values, then we could argue that simply dropping those points from the analysis won't present a major issue. On the other hand, if the data with many missing values looks very different from the data with few or no missing values, then we should make a note on those data as special. We'll revisit these data later on. **Either way, you should continue your analysis for now using just the subset of the data with few or no missing values.**"
   ]
  },
  {
   "cell_type": "code",
   "execution_count": 28,
   "metadata": {},
   "outputs": [
    {
     "data": {
      "text/plain": [
       "0         43\n",
       "1          0\n",
       "2          0\n",
       "3          7\n",
       "4          0\n",
       "5          0\n",
       "6          0\n",
       "7          0\n",
       "8          0\n",
       "9          0\n",
       "10         0\n",
       "11        47\n",
       "12         6\n",
       "13         8\n",
       "14        47\n",
       "15         8\n",
       "16         6\n",
       "17        47\n",
       "18         3\n",
       "19         0\n",
       "20        10\n",
       "21         0\n",
       "22         0\n",
       "23         8\n",
       "24        47\n",
       "25         5\n",
       "26        19\n",
       "27         0\n",
       "28         0\n",
       "29         2\n",
       "          ..\n",
       "891191     0\n",
       "891192     0\n",
       "891193     0\n",
       "891194     0\n",
       "891195     0\n",
       "891196     0\n",
       "891197     0\n",
       "891198     0\n",
       "891199     0\n",
       "891200     0\n",
       "891201     0\n",
       "891202     0\n",
       "891203    14\n",
       "891204     0\n",
       "891205     0\n",
       "891206     0\n",
       "891207     0\n",
       "891208     3\n",
       "891209     0\n",
       "891210     0\n",
       "891211     0\n",
       "891212     0\n",
       "891213     0\n",
       "891214     0\n",
       "891215     0\n",
       "891216     3\n",
       "891217     4\n",
       "891218     5\n",
       "891219     0\n",
       "891220     0\n",
       "Length: 891221, dtype: int64"
      ]
     },
     "execution_count": 28,
     "metadata": {},
     "output_type": "execute_result"
    }
   ],
   "source": [
    "# How much data is missing in each row of the dataset?\n",
    "azdias_drop_nan.isnull().sum(axis=1)\n"
   ]
  },
  {
   "cell_type": "code",
   "execution_count": null,
   "metadata": {},
   "outputs": [],
   "source": []
  },
  {
   "cell_type": "code",
   "execution_count": 7,
   "metadata": {},
   "outputs": [],
   "source": [
    "# Write code to divide the data into two subsets based on the number of missing\n",
    "# values in each row.\n",
    "az_over30 = []\n",
    "az_30under = []\n",
    "for index, data in azdias_drop_nan.iterrows():\n",
    "    if azdias_drop_nan.iloc[index].isnull().sum() > 30:\n",
    "        az_over30.append(index)\n",
    "    else:\n",
    "        az_30under.append(index)\n",
    "\n",
    "#az_over30, az_30under"
   ]
  },
  {
   "cell_type": "code",
   "execution_count": 8,
   "metadata": {},
   "outputs": [],
   "source": [
    "azdias_und30 = azdias_drop_nan.drop(az_over30)"
   ]
  },
  {
   "cell_type": "code",
   "execution_count": 31,
   "metadata": {},
   "outputs": [],
   "source": [
    "#azdias_und30.isnull().sum(axis=0)"
   ]
  },
  {
   "cell_type": "code",
   "execution_count": 32,
   "metadata": {},
   "outputs": [],
   "source": [
    "#azdias_und30.info()"
   ]
  },
  {
   "cell_type": "code",
   "execution_count": 9,
   "metadata": {},
   "outputs": [],
   "source": [
    "azdias_over30 = azdias_drop_nan.drop(az_30under)"
   ]
  },
  {
   "cell_type": "code",
   "execution_count": 34,
   "metadata": {},
   "outputs": [],
   "source": [
    "#azdias_over30.isnull().sum(axis=0)"
   ]
  },
  {
   "cell_type": "code",
   "execution_count": 35,
   "metadata": {},
   "outputs": [],
   "source": [
    "#azdias_over30.info()"
   ]
  },
  {
   "cell_type": "code",
   "execution_count": 10,
   "metadata": {},
   "outputs": [
    {
     "data": {
      "text/plain": [
       "(93154, 79)"
      ]
     },
     "execution_count": 10,
     "metadata": {},
     "output_type": "execute_result"
    }
   ],
   "source": [
    "azdias_over30.shape"
   ]
  },
  {
   "cell_type": "code",
   "execution_count": 36,
   "metadata": {},
   "outputs": [],
   "source": [
    "# Compare the distribution of values for at least five columns where there are\n",
    "# no or few missing values, between the two subsets.\n",
    "\n",
    "\n"
   ]
  },
  {
   "cell_type": "code",
   "execution_count": 11,
   "metadata": {},
   "outputs": [],
   "source": [
    "az7und30 = azdias_und30.loc[:,'FINANZ_MINIMALIST':'FINANZTYP']"
   ]
  },
  {
   "cell_type": "code",
   "execution_count": 12,
   "metadata": {},
   "outputs": [
    {
     "data": {
      "text/html": [
       "<div>\n",
       "<style scoped>\n",
       "    .dataframe tbody tr th:only-of-type {\n",
       "        vertical-align: middle;\n",
       "    }\n",
       "\n",
       "    .dataframe tbody tr th {\n",
       "        vertical-align: top;\n",
       "    }\n",
       "\n",
       "    .dataframe thead th {\n",
       "        text-align: right;\n",
       "    }\n",
       "</style>\n",
       "<table border=\"1\" class=\"dataframe\">\n",
       "  <thead>\n",
       "    <tr style=\"text-align: right;\">\n",
       "      <th></th>\n",
       "      <th>FINANZ_MINIMALIST</th>\n",
       "      <th>FINANZ_SPARER</th>\n",
       "      <th>FINANZ_VORSORGER</th>\n",
       "      <th>FINANZ_ANLEGER</th>\n",
       "      <th>FINANZ_UNAUFFAELLIGER</th>\n",
       "      <th>FINANZ_HAUSBAUER</th>\n",
       "      <th>FINANZTYP</th>\n",
       "    </tr>\n",
       "  </thead>\n",
       "  <tbody>\n",
       "    <tr>\n",
       "      <th>1</th>\n",
       "      <td>1</td>\n",
       "      <td>5</td>\n",
       "      <td>2</td>\n",
       "      <td>5</td>\n",
       "      <td>4</td>\n",
       "      <td>5</td>\n",
       "      <td>1</td>\n",
       "    </tr>\n",
       "    <tr>\n",
       "      <th>2</th>\n",
       "      <td>1</td>\n",
       "      <td>4</td>\n",
       "      <td>1</td>\n",
       "      <td>2</td>\n",
       "      <td>3</td>\n",
       "      <td>5</td>\n",
       "      <td>1</td>\n",
       "    </tr>\n",
       "    <tr>\n",
       "      <th>3</th>\n",
       "      <td>4</td>\n",
       "      <td>2</td>\n",
       "      <td>5</td>\n",
       "      <td>2</td>\n",
       "      <td>1</td>\n",
       "      <td>2</td>\n",
       "      <td>6</td>\n",
       "    </tr>\n",
       "    <tr>\n",
       "      <th>4</th>\n",
       "      <td>4</td>\n",
       "      <td>3</td>\n",
       "      <td>4</td>\n",
       "      <td>1</td>\n",
       "      <td>3</td>\n",
       "      <td>2</td>\n",
       "      <td>5</td>\n",
       "    </tr>\n",
       "    <tr>\n",
       "      <th>5</th>\n",
       "      <td>3</td>\n",
       "      <td>1</td>\n",
       "      <td>5</td>\n",
       "      <td>2</td>\n",
       "      <td>2</td>\n",
       "      <td>5</td>\n",
       "      <td>2</td>\n",
       "    </tr>\n",
       "  </tbody>\n",
       "</table>\n",
       "</div>"
      ],
      "text/plain": [
       "   FINANZ_MINIMALIST  FINANZ_SPARER  FINANZ_VORSORGER  FINANZ_ANLEGER  \\\n",
       "1                  1              5                 2               5   \n",
       "2                  1              4                 1               2   \n",
       "3                  4              2                 5               2   \n",
       "4                  4              3                 4               1   \n",
       "5                  3              1                 5               2   \n",
       "\n",
       "   FINANZ_UNAUFFAELLIGER  FINANZ_HAUSBAUER  FINANZTYP  \n",
       "1                      4                 5          1  \n",
       "2                      3                 5          1  \n",
       "3                      1                 2          6  \n",
       "4                      3                 2          5  \n",
       "5                      2                 5          2  "
      ]
     },
     "execution_count": 12,
     "metadata": {},
     "output_type": "execute_result"
    }
   ],
   "source": [
    "az7und30.head()"
   ]
  },
  {
   "cell_type": "code",
   "execution_count": 13,
   "metadata": {},
   "outputs": [],
   "source": [
    "az7over30 = azdias_over30.loc[:,'FINANZ_MINIMALIST':'FINANZTYP']"
   ]
  },
  {
   "cell_type": "code",
   "execution_count": 14,
   "metadata": {},
   "outputs": [
    {
     "data": {
      "text/html": [
       "<div>\n",
       "<style scoped>\n",
       "    .dataframe tbody tr th:only-of-type {\n",
       "        vertical-align: middle;\n",
       "    }\n",
       "\n",
       "    .dataframe tbody tr th {\n",
       "        vertical-align: top;\n",
       "    }\n",
       "\n",
       "    .dataframe thead th {\n",
       "        text-align: right;\n",
       "    }\n",
       "</style>\n",
       "<table border=\"1\" class=\"dataframe\">\n",
       "  <thead>\n",
       "    <tr style=\"text-align: right;\">\n",
       "      <th></th>\n",
       "      <th>FINANZ_MINIMALIST</th>\n",
       "      <th>FINANZ_SPARER</th>\n",
       "      <th>FINANZ_VORSORGER</th>\n",
       "      <th>FINANZ_ANLEGER</th>\n",
       "      <th>FINANZ_UNAUFFAELLIGER</th>\n",
       "      <th>FINANZ_HAUSBAUER</th>\n",
       "      <th>FINANZTYP</th>\n",
       "    </tr>\n",
       "  </thead>\n",
       "  <tbody>\n",
       "    <tr>\n",
       "      <th>0</th>\n",
       "      <td>3</td>\n",
       "      <td>4</td>\n",
       "      <td>3</td>\n",
       "      <td>5</td>\n",
       "      <td>5</td>\n",
       "      <td>3</td>\n",
       "      <td>4</td>\n",
       "    </tr>\n",
       "    <tr>\n",
       "      <th>11</th>\n",
       "      <td>3</td>\n",
       "      <td>4</td>\n",
       "      <td>3</td>\n",
       "      <td>5</td>\n",
       "      <td>5</td>\n",
       "      <td>3</td>\n",
       "      <td>4</td>\n",
       "    </tr>\n",
       "    <tr>\n",
       "      <th>14</th>\n",
       "      <td>3</td>\n",
       "      <td>4</td>\n",
       "      <td>3</td>\n",
       "      <td>5</td>\n",
       "      <td>5</td>\n",
       "      <td>3</td>\n",
       "      <td>4</td>\n",
       "    </tr>\n",
       "    <tr>\n",
       "      <th>17</th>\n",
       "      <td>3</td>\n",
       "      <td>4</td>\n",
       "      <td>3</td>\n",
       "      <td>5</td>\n",
       "      <td>5</td>\n",
       "      <td>3</td>\n",
       "      <td>4</td>\n",
       "    </tr>\n",
       "    <tr>\n",
       "      <th>24</th>\n",
       "      <td>3</td>\n",
       "      <td>4</td>\n",
       "      <td>3</td>\n",
       "      <td>5</td>\n",
       "      <td>5</td>\n",
       "      <td>3</td>\n",
       "      <td>4</td>\n",
       "    </tr>\n",
       "  </tbody>\n",
       "</table>\n",
       "</div>"
      ],
      "text/plain": [
       "    FINANZ_MINIMALIST  FINANZ_SPARER  FINANZ_VORSORGER  FINANZ_ANLEGER  \\\n",
       "0                   3              4                 3               5   \n",
       "11                  3              4                 3               5   \n",
       "14                  3              4                 3               5   \n",
       "17                  3              4                 3               5   \n",
       "24                  3              4                 3               5   \n",
       "\n",
       "    FINANZ_UNAUFFAELLIGER  FINANZ_HAUSBAUER  FINANZTYP  \n",
       "0                       5                 3          4  \n",
       "11                      5                 3          4  \n",
       "14                      5                 3          4  \n",
       "17                      5                 3          4  \n",
       "24                      5                 3          4  "
      ]
     },
     "execution_count": 14,
     "metadata": {},
     "output_type": "execute_result"
    }
   ],
   "source": [
    "az7over30.head()"
   ]
  },
  {
   "cell_type": "code",
   "execution_count": 15,
   "metadata": {},
   "outputs": [
    {
     "data": {
      "text/plain": [
       "Text(0.5,1,'30 or under NaNs per row')"
      ]
     },
     "execution_count": 15,
     "metadata": {},
     "output_type": "execute_result"
    },
    {
     "data": {
      "image/png": "[encoded data removed]",
      "text/plain": [
       "<matplotlib.figure.Figure at 0x7fd6809ea160>"
      ]
     },
     "metadata": {
      "needs_background": "light"
     },
     "output_type": "display_data"
    }
   ],
   "source": [
    "plt.figure(figsize=(16,6))\n",
    "plt.subplot(131)\n",
    "\n",
    "sns.countplot(az7over30['FINANZ_MINIMALIST'])\n",
    "plt.title('over 30 NaNs per row')\n",
    "\n",
    "plt.subplot(133)\n",
    "\n",
    "sns.countplot(az7und30['FINANZ_MINIMALIST'])\n",
    "plt.title('30 or under NaNs per row')"
   ]
  },
  {
   "cell_type": "code",
   "execution_count": 16,
   "metadata": {},
   "outputs": [
    {
     "data": {
      "text/plain": [
       "Text(0.5,1,'30 or under NaNs per row')"
      ]
     },
     "execution_count": 16,
     "metadata": {},
     "output_type": "execute_result"
    },
    {
     "data": {
      "image/png": "[encoded data removed]",
      "text/plain": [
       "<matplotlib.figure.Figure at 0x7fd66d2606d8>"
      ]
     },
     "metadata": {
      "needs_background": "light"
     },
     "output_type": "display_data"
    }
   ],
   "source": [
    "plt.figure(figsize=(16,6))\n",
    "plt.subplot(131)\n",
    "\n",
    "sns.countplot(az7over30['FINANZ_SPARER'])\n",
    "plt.title('over 30 NaNs per row')\n",
    "\n",
    "plt.subplot(133)\n",
    "\n",
    "sns.countplot(az7und30['FINANZ_SPARER'])\n",
    "plt.title('30 or under NaNs per row')"
   ]
  },
  {
   "cell_type": "code",
   "execution_count": 17,
   "metadata": {},
   "outputs": [
    {
     "data": {
      "text/plain": [
       "Text(0.5,1,'30 or under NaNs per row')"
      ]
     },
     "execution_count": 17,
     "metadata": {},
     "output_type": "execute_result"
    },
    {
     "data": {
      "image/png": "[encoded data removed]",
      "text/plain": [
       "<matplotlib.figure.Figure at 0x7fd66d1e4d68>"
      ]
     },
     "metadata": {
      "needs_background": "light"
     },
     "output_type": "display_data"
    }
   ],
   "source": [
    "plt.figure(figsize=(16,6))\n",
    "plt.subplot(131)\n",
    "\n",
    "sns.countplot(az7over30['FINANZ_VORSORGER'])\n",
    "plt.title('over 30 NaNs per row')\n",
    "\n",
    "plt.subplot(133)\n",
    "\n",
    "sns.countplot(az7und30['FINANZ_VORSORGER'])\n",
    "plt.title('30 or under NaNs per row')"
   ]
  },
  {
   "cell_type": "code",
   "execution_count": 18,
   "metadata": {},
   "outputs": [
    {
     "data": {
      "text/plain": [
       "Text(0.5,1,'30 or under NaNs per row')"
      ]
     },
     "execution_count": 18,
     "metadata": {},
     "output_type": "execute_result"
    },
    {
     "data": {
      "image/png": "[encoded data removed]",
      "text/plain": [
       "<matplotlib.figure.Figure at 0x7fd66d07bc88>"
      ]
     },
     "metadata": {
      "needs_background": "light"
     },
     "output_type": "display_data"
    }
   ],
   "source": [
    "plt.figure(figsize=(16,6))\n",
    "plt.subplot(131)\n",
    "\n",
    "sns.countplot(az7over30['FINANZ_ANLEGER'])\n",
    "plt.title('over 30 NaNs per row')\n",
    "\n",
    "plt.subplot(133)\n",
    "\n",
    "sns.countplot(az7und30['FINANZ_ANLEGER'])\n",
    "plt.title('30 or under NaNs per row')"
   ]
  },
  {
   "cell_type": "code",
   "execution_count": 19,
   "metadata": {},
   "outputs": [
    {
     "data": {
      "text/plain": [
       "Text(0.5,1,'30 or under NaNs per row')"
      ]
     },
     "execution_count": 19,
     "metadata": {},
     "output_type": "execute_result"
    },
    {
     "data": {
      "image/png": "[encoded data removed]",
      "text/plain": [
       "<matplotlib.figure.Figure at 0x7fd66d090ba8>"
      ]
     },
     "metadata": {
      "needs_background": "light"
     },
     "output_type": "display_data"
    }
   ],
   "source": [
    "plt.figure(figsize=(16,6))\n",
    "plt.subplot(131)\n",
    "\n",
    "sns.countplot(az7over30['FINANZ_UNAUFFAELLIGER'])\n",
    "plt.title('over 30 NaNs per row')\n",
    "\n",
    "plt.subplot(133)\n",
    "\n",
    "sns.countplot(az7und30['FINANZ_UNAUFFAELLIGER'])\n",
    "plt.title('30 or under NaNs per row')"
   ]
  },
  {
   "cell_type": "code",
   "execution_count": 20,
   "metadata": {},
   "outputs": [
    {
     "data": {
      "text/plain": [
       "Text(0.5,1,'30 or under NaNs per row')"
      ]
     },
     "execution_count": 20,
     "metadata": {},
     "output_type": "execute_result"
    },
    {
     "data": {
      "image/png": "[encoded data removed]",
      "text/plain": [
       "<matplotlib.figure.Figure at 0x7fd66cfadbe0>"
      ]
     },
     "metadata": {
      "needs_background": "light"
     },
     "output_type": "display_data"
    }
   ],
   "source": [
    "plt.figure(figsize=(16,6))\n",
    "plt.subplot(131)\n",
    "\n",
    "sns.countplot(az7over30['FINANZ_HAUSBAUER'])\n",
    "plt.title('over 30 NaNs per row')\n",
    "\n",
    "plt.subplot(133)\n",
    "\n",
    "sns.countplot(az7und30['FINANZ_HAUSBAUER'])\n",
    "plt.title('30 or under NaNs per row')"
   ]
  },
  {
   "cell_type": "code",
   "execution_count": 21,
   "metadata": {},
   "outputs": [
    {
     "data": {
      "text/plain": [
       "Text(0.5,1,'30 or under NaNs per row')"
      ]
     },
     "execution_count": 21,
     "metadata": {},
     "output_type": "execute_result"
    },
    {
     "data": {
      "image/png": "[encoded data removed]",
      "text/plain": [
       "<matplotlib.figure.Figure at 0x7fd66cf175c0>"
      ]
     },
     "metadata": {
      "needs_background": "light"
     },
     "output_type": "display_data"
    }
   ],
   "source": [
    "\n",
    "\n",
    "plt.figure(figsize=(16,6))\n",
    "plt.subplot(131)\n",
    "\n",
    "sns.countplot(az7over30['FINANZTYP'])\n",
    "plt.title('over 30 NaNs per row')\n",
    "\n",
    "plt.subplot(133)\n",
    "\n",
    "sns.countplot(az7und30['FINANZTYP'])\n",
    "plt.title('30 or under NaNs per row')"
   ]
  },
  {
   "cell_type": "code",
   "execution_count": 22,
   "metadata": {},
   "outputs": [],
   "source": [
    "#most are VORSORGER: be prepared"
   ]
  },
  {
   "cell_type": "markdown",
   "metadata": {},
   "source": [
    "#### Discussion 1.1.3: Assess Missing Data in Each Row\n",
    "\n",
    "(Double-click this cell and replace this text with your own text, reporting your observations regarding missing data in rows. Are the data with lots of missing values are qualitatively different from data with few or no missing values?)\n",
    "\n",
    "Yes they are different. The data with 30 or less NaNs per row has a more evenly spread distribution of values, while the data with more than 30 per row have a value that exceeds the rest. They tend to be a single financial type, so they may leave other choices as unknown."
   ]
  },
  {
   "cell_type": "markdown",
   "metadata": {},
   "source": [
    "### Step 1.2: Select and Re-Encode Features\n",
    "\n",
    "Checking for missing data isn't the only way in which you can prepare a dataset for analysis. Since the unsupervised learning techniques to be used will only work on data that is encoded numerically, you need to make a few encoding changes or additional assumptions to be able to make progress. In addition, while almost all of the values in the dataset are encoded using numbers, not all of them represent numeric values. Check the third column of the feature summary (`feat_info`) for a summary of types of measurement.\n",
    "- For numeric and interval data, these features can be kept without changes.\n",
    "- Most of the variables in the dataset are ordinal in nature. While ordinal values may technically be non-linear in spacing, make the simplifying assumption that the ordinal variables can be treated as being interval in nature (that is, kept without any changes).\n",
    "- Special handling may be necessary for the remaining two variable types: categorical, and 'mixed'.\n",
    "\n",
    "In the first two parts of this sub-step, you will perform an investigation of the categorical and mixed-type features and make a decision on each of them, whether you will keep, drop, or re-encode each. Then, in the last part, you will create a new data frame with only the selected and engineered columns.\n",
    "\n",
    "Data wrangling is often the trickiest part of the data analysis process, and there's a lot of it to be done here. But stick with it: once you're done with this step, you'll be ready to get to the machine learning parts of the project!"
   ]
  },
  {
   "cell_type": "code",
   "execution_count": 46,
   "metadata": {},
   "outputs": [
    {
     "data": {
      "text/plain": [
       "ordinal        49\n",
       "categorical    21\n",
       "numeric         7\n",
       "mixed           7\n",
       "interval        1\n",
       "Name: type, dtype: int64"
      ]
     },
     "execution_count": 46,
     "metadata": {},
     "output_type": "execute_result"
    }
   ],
   "source": [
    "# How many features are there of each data type?\n",
    "feat_info['type'].value_counts()\n"
   ]
  },
  {
   "cell_type": "code",
   "execution_count": 47,
   "metadata": {},
   "outputs": [
    {
     "data": {
      "text/html": [
       "<div>\n",
       "<style scoped>\n",
       "    .dataframe tbody tr th:only-of-type {\n",
       "        vertical-align: middle;\n",
       "    }\n",
       "\n",
       "    .dataframe tbody tr th {\n",
       "        vertical-align: top;\n",
       "    }\n",
       "\n",
       "    .dataframe thead th {\n",
       "        text-align: right;\n",
       "    }\n",
       "</style>\n",
       "<table border=\"1\" class=\"dataframe\">\n",
       "  <thead>\n",
       "    <tr style=\"text-align: right;\">\n",
       "      <th></th>\n",
       "      <th>attribute</th>\n",
       "      <th>information_level</th>\n",
       "      <th>type</th>\n",
       "      <th>missing_or_unknown</th>\n",
       "      <th>missing_or_unknown_list</th>\n",
       "    </tr>\n",
       "  </thead>\n",
       "  <tbody>\n",
       "    <tr>\n",
       "      <th>0</th>\n",
       "      <td>AGER_TYP</td>\n",
       "      <td>person</td>\n",
       "      <td>categorical</td>\n",
       "      <td>[-1,0]</td>\n",
       "      <td>[-1, 0]</td>\n",
       "    </tr>\n",
       "    <tr>\n",
       "      <th>1</th>\n",
       "      <td>ALTERSKATEGORIE_GROB</td>\n",
       "      <td>person</td>\n",
       "      <td>ordinal</td>\n",
       "      <td>[-1,0,9]</td>\n",
       "      <td>[-1, 0, 9]</td>\n",
       "    </tr>\n",
       "    <tr>\n",
       "      <th>2</th>\n",
       "      <td>ANREDE_KZ</td>\n",
       "      <td>person</td>\n",
       "      <td>categorical</td>\n",
       "      <td>[-1,0]</td>\n",
       "      <td>[-1, 0]</td>\n",
       "    </tr>\n",
       "    <tr>\n",
       "      <th>3</th>\n",
       "      <td>CJT_GESAMTTYP</td>\n",
       "      <td>person</td>\n",
       "      <td>categorical</td>\n",
       "      <td>[0]</td>\n",
       "      <td>[0]</td>\n",
       "    </tr>\n",
       "    <tr>\n",
       "      <th>4</th>\n",
       "      <td>FINANZ_MINIMALIST</td>\n",
       "      <td>person</td>\n",
       "      <td>ordinal</td>\n",
       "      <td>[-1]</td>\n",
       "      <td>[-1]</td>\n",
       "    </tr>\n",
       "  </tbody>\n",
       "</table>\n",
       "</div>"
      ],
      "text/plain": [
       "              attribute information_level         type missing_or_unknown  \\\n",
       "0              AGER_TYP            person  categorical             [-1,0]   \n",
       "1  ALTERSKATEGORIE_GROB            person      ordinal           [-1,0,9]   \n",
       "2             ANREDE_KZ            person  categorical             [-1,0]   \n",
       "3         CJT_GESAMTTYP            person  categorical                [0]   \n",
       "4     FINANZ_MINIMALIST            person      ordinal               [-1]   \n",
       "\n",
       "  missing_or_unknown_list  \n",
       "0                 [-1, 0]  \n",
       "1              [-1, 0, 9]  \n",
       "2                 [-1, 0]  \n",
       "3                     [0]  \n",
       "4                    [-1]  "
      ]
     },
     "execution_count": 47,
     "metadata": {},
     "output_type": "execute_result"
    }
   ],
   "source": [
    "feat_info.head()"
   ]
  },
  {
   "cell_type": "markdown",
   "metadata": {},
   "source": [
    "#### Step 1.2.1: Re-Encode Categorical Features\n",
    "\n",
    "For categorical data, you would ordinarily need to encode the levels as dummy variables. Depending on the number of categories, perform one of the following:\n",
    "- For binary (two-level) categoricals that take numeric values, you can keep them without needing to do anything.\n",
    "- There is one binary variable that takes on non-numeric values. For this one, you need to re-encode the values as numbers or create a dummy variable.\n",
    "- For multi-level categoricals (three or more values), you can choose to encode the values using multiple dummy variables (e.g. via [OneHotEncoder](http://scikit-learn.org/stable/modules/generated/sklearn.preprocessing.OneHotEncoder.html)), or (to keep things straightforward) just drop them from the analysis. As always, document your choices in the Discussion section."
   ]
  },
  {
   "cell_type": "code",
   "execution_count": 23,
   "metadata": {},
   "outputs": [],
   "source": [
    "# Assess categorical variables: which are binary, which are multi-level, and\n",
    "# which one needs to be re-encoded?\n",
    "\n",
    "\n",
    "catatt = feat_info[feat_info['type']=='categorical'].attribute.tolist()"
   ]
  },
  {
   "cell_type": "code",
   "execution_count": 24,
   "metadata": {},
   "outputs": [
    {
     "data": {
      "text/plain": [
       "['AGER_TYP',\n",
       " 'ANREDE_KZ',\n",
       " 'CJT_GESAMTTYP',\n",
       " 'FINANZTYP',\n",
       " 'GFK_URLAUBERTYP',\n",
       " 'GREEN_AVANTGARDE',\n",
       " 'LP_FAMILIE_FEIN',\n",
       " 'LP_FAMILIE_GROB',\n",
       " 'LP_STATUS_FEIN',\n",
       " 'LP_STATUS_GROB',\n",
       " 'NATIONALITAET_KZ',\n",
       " 'SHOPPER_TYP',\n",
       " 'SOHO_KZ',\n",
       " 'TITEL_KZ',\n",
       " 'VERS_TYP',\n",
       " 'ZABEOTYP',\n",
       " 'KK_KUNDENTYP',\n",
       " 'GEBAEUDETYP',\n",
       " 'OST_WEST_KZ',\n",
       " 'CAMEO_DEUG_2015',\n",
       " 'CAMEO_DEU_2015']"
      ]
     },
     "execution_count": 24,
     "metadata": {},
     "output_type": "execute_result"
    }
   ],
   "source": [
    "#these are the categorical variables\n",
    "catatt"
   ]
  },
  {
   "cell_type": "code",
   "execution_count": 25,
   "metadata": {},
   "outputs": [
    {
     "name": "stdout",
     "output_type": "stream",
     "text": [
      "2    416181\n",
      "1    381886\n",
      "Name: ANREDE_KZ, dtype: int64\n",
      "4.0    198296\n",
      "3.0    147220\n",
      "2.0    141269\n",
      "5.0    111114\n",
      "6.0    102108\n",
      "1.0     93311\n",
      "Name: CJT_GESAMTTYP, dtype: int64\n",
      "6    289061\n",
      "1    197172\n",
      "5    106333\n",
      "2    104774\n",
      "4     55924\n",
      "3     44803\n",
      "Name: FINANZTYP, dtype: int64\n",
      "12.0    130261\n",
      "10.0    102831\n",
      "8.0      83030\n",
      "11.0     75103\n",
      "5.0      70501\n",
      "4.0      60422\n",
      "9.0      57132\n",
      "3.0      53101\n",
      "1.0      50659\n",
      "2.0      43858\n",
      "7.0      40681\n",
      "6.0      25739\n",
      "Name: GFK_URLAUBERTYP, dtype: int64\n",
      "0    622842\n",
      "1    175225\n",
      "Name: GREEN_AVANTGARDE, dtype: int64\n",
      "1.0     402556\n",
      "10.0    128974\n",
      "2.0      98555\n",
      "11.0     48746\n",
      "8.0      21780\n",
      "7.0      19575\n",
      "4.0      11574\n",
      "5.0      11167\n",
      "9.0      10452\n",
      "6.0       8526\n",
      "3.0       4688\n",
      "Name: LP_FAMILIE_FEIN, dtype: int64\n",
      "1.0    402556\n",
      "5.0    188172\n",
      "2.0     98555\n",
      "4.0     49881\n",
      "3.0     27429\n",
      "Name: LP_FAMILIE_GROB, dtype: int64\n",
      "1.0     206853\n",
      "9.0     136353\n",
      "10.0    111574\n",
      "2.0     111118\n",
      "4.0      73973\n",
      "3.0      68918\n",
      "6.0      28896\n",
      "5.0      27592\n",
      "8.0      18837\n",
      "7.0       9204\n",
      "Name: LP_STATUS_FEIN, dtype: int64\n",
      "1.0    317971\n",
      "2.0    170483\n",
      "4.0    155190\n",
      "5.0    111574\n",
      "3.0     38100\n",
      "Name: LP_STATUS_GROB, dtype: int64\n",
      "1.0    667928\n",
      "2.0     63651\n",
      "3.0     32565\n",
      "Name: NATIONALITAET_KZ, dtype: int64\n",
      "1.0    247414\n",
      "2.0    205934\n",
      "3.0    180865\n",
      "0.0    127128\n",
      "Name: SHOPPER_TYP, dtype: int64\n",
      "0.0    791350\n",
      "1.0      6717\n",
      "Name: SOHO_KZ, dtype: int64\n",
      "2.0    394238\n",
      "1.0    367103\n",
      "Name: VERS_TYP, dtype: int64\n",
      "3    282243\n",
      "4    207532\n",
      "1    123458\n",
      "5     80963\n",
      "6     70866\n",
      "2     33005\n",
      "Name: ZABEOTYP, dtype: int64\n",
      "1.0    460463\n",
      "3.0    178667\n",
      "8.0    152474\n",
      "2.0      4934\n",
      "4.0       900\n",
      "6.0       628\n",
      "5.0         1\n",
      "Name: GEBAEUDETYP, dtype: int64\n",
      "W    629525\n",
      "O    168542\n",
      "Name: OST_WEST_KZ, dtype: int64\n",
      "8    134441\n",
      "9    108177\n",
      "6    105874\n",
      "4    103911\n",
      "3     86778\n",
      "2     83230\n",
      "7     77933\n",
      "5     55310\n",
      "1     36212\n",
      "Name: CAMEO_DEUG_2015, dtype: int64\n",
      "6B    56672\n",
      "8A    52438\n",
      "4C    47819\n",
      "2D    35074\n",
      "3C    34769\n",
      "7A    34399\n",
      "3D    34306\n",
      "8B    33434\n",
      "4A    33154\n",
      "8C    30993\n",
      "9D    28593\n",
      "9B    27676\n",
      "9C    24987\n",
      "7B    24503\n",
      "9A    20542\n",
      "2C    19422\n",
      "8D    17576\n",
      "6E    16107\n",
      "2B    15485\n",
      "5D    14943\n",
      "6C    14820\n",
      "2A    13249\n",
      "5A    12214\n",
      "1D    11909\n",
      "1A    10850\n",
      "3A    10543\n",
      "5B    10354\n",
      "5C     9935\n",
      "7C     9065\n",
      "4B     9047\n",
      "4D     8570\n",
      "3B     7160\n",
      "6A     6810\n",
      "9E     6379\n",
      "6D     6073\n",
      "6F     5392\n",
      "7D     5333\n",
      "4E     5321\n",
      "1E     5065\n",
      "7E     4633\n",
      "1C     4317\n",
      "5F     4283\n",
      "1B     4071\n",
      "5E     3581\n",
      "Name: CAMEO_DEU_2015, dtype: int64\n"
     ]
    }
   ],
   "source": [
    "#these are the value counts for the categorical features\n",
    "\n",
    "for i in catatt:\n",
    "    if i in azdias_und30.columns.tolist():\n",
    "        print(azdias_und30.loc[:,i].value_counts())"
   ]
  },
  {
   "cell_type": "code",
   "execution_count": 26,
   "metadata": {},
   "outputs": [],
   "source": [
    "azdias_und30new = azdias_und30.copy()\n",
    "azdias_over30new = azdias_over30.copy()"
   ]
  },
  {
   "cell_type": "code",
   "execution_count": 27,
   "metadata": {},
   "outputs": [],
   "source": [
    "#this reassigns the binary variable that is non numeric so W=1 and O=0\n",
    "\n",
    "azdias_und30new['OST_WEST_KZ'] = azdias_und30new['OST_WEST_KZ'].map({'W':1,'O':0})\n",
    "azdias_over30new['OST_WEST_KZ'] = azdias_over30new['OST_WEST_KZ'].map({'W':1,'O':0})"
   ]
  },
  {
   "cell_type": "code",
   "execution_count": 28,
   "metadata": {},
   "outputs": [
    {
     "data": {
      "text/plain": [
       "1    629525\n",
       "0    168542\n",
       "Name: OST_WEST_KZ, dtype: int64"
      ]
     },
     "execution_count": 28,
     "metadata": {},
     "output_type": "execute_result"
    }
   ],
   "source": [
    "azdias_und30new.loc[:,'OST_WEST_KZ'].value_counts()"
   ]
  },
  {
   "cell_type": "code",
   "execution_count": 29,
   "metadata": {},
   "outputs": [],
   "source": [
    "multi_level_cats = []\n",
    "for i in catatt:\n",
    "    if i in azdias_und30new.columns.tolist() and len(azdias_und30new.loc[:,i].value_counts()) > 2:\n",
    "        #print(azdias_und30new.loc[:,i].value_counts())\n",
    "        multi_level_cats.append(i)"
   ]
  },
  {
   "cell_type": "code",
   "execution_count": 30,
   "metadata": {},
   "outputs": [
    {
     "data": {
      "text/plain": [
       "['CJT_GESAMTTYP',\n",
       " 'FINANZTYP',\n",
       " 'GFK_URLAUBERTYP',\n",
       " 'LP_FAMILIE_FEIN',\n",
       " 'LP_FAMILIE_GROB',\n",
       " 'LP_STATUS_FEIN',\n",
       " 'LP_STATUS_GROB',\n",
       " 'NATIONALITAET_KZ',\n",
       " 'SHOPPER_TYP',\n",
       " 'ZABEOTYP',\n",
       " 'GEBAEUDETYP',\n",
       " 'CAMEO_DEUG_2015',\n",
       " 'CAMEO_DEU_2015']"
      ]
     },
     "execution_count": 30,
     "metadata": {},
     "output_type": "execute_result"
    }
   ],
   "source": [
    "#these are the categories that are multi-level\n",
    "multi_level_cats "
   ]
  },
  {
   "cell_type": "code",
   "execution_count": null,
   "metadata": {},
   "outputs": [],
   "source": []
  },
  {
   "cell_type": "code",
   "execution_count": null,
   "metadata": {},
   "outputs": [],
   "source": []
  },
  {
   "cell_type": "code",
   "execution_count": 31,
   "metadata": {},
   "outputs": [],
   "source": [
    "# Re-encode categorical variable(s) to be kept in the analysis.\n",
    "\n",
    "azdias_no_multcat =  azdias_und30new.drop(columns=multi_level_cats )\n"
   ]
  },
  {
   "cell_type": "code",
   "execution_count": 32,
   "metadata": {},
   "outputs": [],
   "source": [
    "azdias_no_multcatover30 = azdias_over30new.drop(columns=multi_level_cats )"
   ]
  },
  {
   "cell_type": "code",
   "execution_count": 33,
   "metadata": {},
   "outputs": [
    {
     "data": {
      "text/html": [
       "<div>\n",
       "<style scoped>\n",
       "    .dataframe tbody tr th:only-of-type {\n",
       "        vertical-align: middle;\n",
       "    }\n",
       "\n",
       "    .dataframe tbody tr th {\n",
       "        vertical-align: top;\n",
       "    }\n",
       "\n",
       "    .dataframe thead th {\n",
       "        text-align: right;\n",
       "    }\n",
       "</style>\n",
       "<table border=\"1\" class=\"dataframe\">\n",
       "  <thead>\n",
       "    <tr style=\"text-align: right;\">\n",
       "      <th></th>\n",
       "      <th>ALTERSKATEGORIE_GROB</th>\n",
       "      <th>ANREDE_KZ</th>\n",
       "      <th>FINANZ_MINIMALIST</th>\n",
       "      <th>FINANZ_SPARER</th>\n",
       "      <th>FINANZ_VORSORGER</th>\n",
       "      <th>FINANZ_ANLEGER</th>\n",
       "      <th>FINANZ_UNAUFFAELLIGER</th>\n",
       "      <th>FINANZ_HAUSBAUER</th>\n",
       "      <th>GREEN_AVANTGARDE</th>\n",
       "      <th>HEALTH_TYP</th>\n",
       "      <th>...</th>\n",
       "      <th>PLZ8_ANTG1</th>\n",
       "      <th>PLZ8_ANTG2</th>\n",
       "      <th>PLZ8_ANTG3</th>\n",
       "      <th>PLZ8_ANTG4</th>\n",
       "      <th>PLZ8_BAUMAX</th>\n",
       "      <th>PLZ8_HHZ</th>\n",
       "      <th>PLZ8_GBZ</th>\n",
       "      <th>ARBEIT</th>\n",
       "      <th>ORTSGR_KLS9</th>\n",
       "      <th>RELAT_AB</th>\n",
       "    </tr>\n",
       "  </thead>\n",
       "  <tbody>\n",
       "    <tr>\n",
       "      <th>1</th>\n",
       "      <td>1.0</td>\n",
       "      <td>2</td>\n",
       "      <td>1</td>\n",
       "      <td>5</td>\n",
       "      <td>2</td>\n",
       "      <td>5</td>\n",
       "      <td>4</td>\n",
       "      <td>5</td>\n",
       "      <td>0</td>\n",
       "      <td>3.0</td>\n",
       "      <td>...</td>\n",
       "      <td>2.0</td>\n",
       "      <td>3.0</td>\n",
       "      <td>2.0</td>\n",
       "      <td>1.0</td>\n",
       "      <td>1.0</td>\n",
       "      <td>5.0</td>\n",
       "      <td>4.0</td>\n",
       "      <td>3.0</td>\n",
       "      <td>5.0</td>\n",
       "      <td>4.0</td>\n",
       "    </tr>\n",
       "    <tr>\n",
       "      <th>2</th>\n",
       "      <td>3.0</td>\n",
       "      <td>2</td>\n",
       "      <td>1</td>\n",
       "      <td>4</td>\n",
       "      <td>1</td>\n",
       "      <td>2</td>\n",
       "      <td>3</td>\n",
       "      <td>5</td>\n",
       "      <td>1</td>\n",
       "      <td>3.0</td>\n",
       "      <td>...</td>\n",
       "      <td>3.0</td>\n",
       "      <td>3.0</td>\n",
       "      <td>1.0</td>\n",
       "      <td>0.0</td>\n",
       "      <td>1.0</td>\n",
       "      <td>4.0</td>\n",
       "      <td>4.0</td>\n",
       "      <td>3.0</td>\n",
       "      <td>5.0</td>\n",
       "      <td>2.0</td>\n",
       "    </tr>\n",
       "    <tr>\n",
       "      <th>3</th>\n",
       "      <td>4.0</td>\n",
       "      <td>2</td>\n",
       "      <td>4</td>\n",
       "      <td>2</td>\n",
       "      <td>5</td>\n",
       "      <td>2</td>\n",
       "      <td>1</td>\n",
       "      <td>2</td>\n",
       "      <td>0</td>\n",
       "      <td>2.0</td>\n",
       "      <td>...</td>\n",
       "      <td>2.0</td>\n",
       "      <td>2.0</td>\n",
       "      <td>2.0</td>\n",
       "      <td>0.0</td>\n",
       "      <td>1.0</td>\n",
       "      <td>3.0</td>\n",
       "      <td>4.0</td>\n",
       "      <td>2.0</td>\n",
       "      <td>3.0</td>\n",
       "      <td>3.0</td>\n",
       "    </tr>\n",
       "    <tr>\n",
       "      <th>4</th>\n",
       "      <td>3.0</td>\n",
       "      <td>1</td>\n",
       "      <td>4</td>\n",
       "      <td>3</td>\n",
       "      <td>4</td>\n",
       "      <td>1</td>\n",
       "      <td>3</td>\n",
       "      <td>2</td>\n",
       "      <td>0</td>\n",
       "      <td>3.0</td>\n",
       "      <td>...</td>\n",
       "      <td>2.0</td>\n",
       "      <td>4.0</td>\n",
       "      <td>2.0</td>\n",
       "      <td>1.0</td>\n",
       "      <td>2.0</td>\n",
       "      <td>3.0</td>\n",
       "      <td>3.0</td>\n",
       "      <td>4.0</td>\n",
       "      <td>6.0</td>\n",
       "      <td>5.0</td>\n",
       "    </tr>\n",
       "    <tr>\n",
       "      <th>5</th>\n",
       "      <td>1.0</td>\n",
       "      <td>2</td>\n",
       "      <td>3</td>\n",
       "      <td>1</td>\n",
       "      <td>5</td>\n",
       "      <td>2</td>\n",
       "      <td>2</td>\n",
       "      <td>5</td>\n",
       "      <td>0</td>\n",
       "      <td>3.0</td>\n",
       "      <td>...</td>\n",
       "      <td>2.0</td>\n",
       "      <td>3.0</td>\n",
       "      <td>1.0</td>\n",
       "      <td>1.0</td>\n",
       "      <td>1.0</td>\n",
       "      <td>5.0</td>\n",
       "      <td>5.0</td>\n",
       "      <td>2.0</td>\n",
       "      <td>3.0</td>\n",
       "      <td>3.0</td>\n",
       "    </tr>\n",
       "  </tbody>\n",
       "</table>\n",
       "<p>5 rows × 66 columns</p>\n",
       "</div>"
      ],
      "text/plain": [
       "   ALTERSKATEGORIE_GROB  ANREDE_KZ  FINANZ_MINIMALIST  FINANZ_SPARER  \\\n",
       "1                   1.0          2                  1              5   \n",
       "2                   3.0          2                  1              4   \n",
       "3                   4.0          2                  4              2   \n",
       "4                   3.0          1                  4              3   \n",
       "5                   1.0          2                  3              1   \n",
       "\n",
       "   FINANZ_VORSORGER  FINANZ_ANLEGER  FINANZ_UNAUFFAELLIGER  FINANZ_HAUSBAUER  \\\n",
       "1                 2               5                      4                 5   \n",
       "2                 1               2                      3                 5   \n",
       "3                 5               2                      1                 2   \n",
       "4                 4               1                      3                 2   \n",
       "5                 5               2                      2                 5   \n",
       "\n",
       "   GREEN_AVANTGARDE  HEALTH_TYP    ...     PLZ8_ANTG1  PLZ8_ANTG2  PLZ8_ANTG3  \\\n",
       "1                 0         3.0    ...            2.0         3.0         2.0   \n",
       "2                 1         3.0    ...            3.0         3.0         1.0   \n",
       "3                 0         2.0    ...            2.0         2.0         2.0   \n",
       "4                 0         3.0    ...            2.0         4.0         2.0   \n",
       "5                 0         3.0    ...            2.0         3.0         1.0   \n",
       "\n",
       "   PLZ8_ANTG4  PLZ8_BAUMAX  PLZ8_HHZ  PLZ8_GBZ  ARBEIT  ORTSGR_KLS9  RELAT_AB  \n",
       "1         1.0          1.0       5.0       4.0     3.0          5.0       4.0  \n",
       "2         0.0          1.0       4.0       4.0     3.0          5.0       2.0  \n",
       "3         0.0          1.0       3.0       4.0     2.0          3.0       3.0  \n",
       "4         1.0          2.0       3.0       3.0     4.0          6.0       5.0  \n",
       "5         1.0          1.0       5.0       5.0     2.0          3.0       3.0  \n",
       "\n",
       "[5 rows x 66 columns]"
      ]
     },
     "execution_count": 33,
     "metadata": {},
     "output_type": "execute_result"
    }
   ],
   "source": [
    "azdias_no_multcat.head()"
   ]
  },
  {
   "cell_type": "markdown",
   "metadata": {},
   "source": [
    "#### Discussion 1.2.1: Re-Encode Categorical Features\n",
    "\n",
    "(Double-click this cell and replace this text with your own text, reporting your findings and decisions regarding categorical features. Which ones did you keep, which did you drop, and what engineering steps did you perform?)\n",
    "\n",
    "There were 21 categorical varibles. The binary ones were kept, with the non numerical variable reassigned (mapped) with the values O=0 and W=1. The multi-level categorical variables were dropped, to keep things straightforward, listed below.\n",
    "\n",
    "\n",
    "'CJT_GESAMTTYP',\n",
    " 'FINANZTYP',\n",
    " 'GFK_URLAUBERTYP',\n",
    " 'LP_FAMILIE_FEIN',\n",
    " 'LP_FAMILIE_GROB',\n",
    " 'LP_STATUS_FEIN',\n",
    " 'LP_STATUS_GROB',\n",
    " 'NATIONALITAET_KZ',\n",
    " 'SHOPPER_TYP',\n",
    " 'ZABEOTYP',\n",
    " 'GEBAEUDETYP',\n",
    " 'CAMEO_DEUG_2015',\n",
    " 'CAMEO_DEU_2015'"
   ]
  },
  {
   "cell_type": "markdown",
   "metadata": {},
   "source": [
    "#### Step 1.2.2: Engineer Mixed-Type Features\n",
    "\n",
    "There are a handful of features that are marked as \"mixed\" in the feature summary that require special treatment in order to be included in the analysis. There are two in particular that deserve attention; the handling of the rest are up to your own choices:\n",
    "- \"PRAEGENDE_JUGENDJAHRE\" combines information on three dimensions: generation by decade, movement (mainstream vs. avantgarde), and nation (east vs. west). While there aren't enough levels to disentangle east from west, you should create two new variables to capture the other two dimensions: an interval-type variable for decade, and a binary variable for movement.\n",
    "- \"CAMEO_INTL_2015\" combines information on two axes: wealth and life stage. Break up the two-digit codes by their 'tens'-place and 'ones'-place digits into two new ordinal variables (which, for the purposes of this project, is equivalent to just treating them as their raw numeric values).\n",
    "- If you decide to keep or engineer new features around the other mixed-type features, make sure you note your steps in the Discussion section.\n",
    "\n",
    "Be sure to check `Data_Dictionary.md` for the details needed to finish these tasks."
   ]
  },
  {
   "cell_type": "code",
   "execution_count": 34,
   "metadata": {},
   "outputs": [
    {
     "data": {
      "text/plain": [
       "1    14.0\n",
       "2    15.0\n",
       "3     8.0\n",
       "4     8.0\n",
       "5     3.0\n",
       "Name: PRAEGENDE_JUGENDJAHRE, dtype: float64"
      ]
     },
     "execution_count": 34,
     "metadata": {},
     "output_type": "execute_result"
    }
   ],
   "source": [
    "# Investigate \"PRAEGENDE_JUGENDJAHRE\" and engineer two new variables.\n",
    "azdias_engmix = azdias_no_multcat.copy()\n",
    "azdias_engmix['PRAEGENDE_JUGENDJAHRE'].head()"
   ]
  },
  {
   "cell_type": "code",
   "execution_count": 35,
   "metadata": {},
   "outputs": [],
   "source": [
    "azdias_engmixover30 = azdias_no_multcatover30.copy()"
   ]
  },
  {
   "cell_type": "code",
   "execution_count": 36,
   "metadata": {},
   "outputs": [],
   "source": [
    "#changes 1-2 to 1 (40s), 3-4 to 2 (50s), 5-7 to 3 (60s), 8-9 to 4 (70s), 10-13 to 5 (80s), and 14-15 to 6 (90s)\n",
    "\n",
    "azdias_engmix['PRAEGENDE_JUGENDJAHRE_DECADE'] = \\\n",
    "azdias_engmix['PRAEGENDE_JUGENDJAHRE'].map({1:1,2:1,3:2,4:2, 5:3,6:3,7:3,8:4,9:4,10:5,11:5,12:5,13:5,14:6,15:6})"
   ]
  },
  {
   "cell_type": "code",
   "execution_count": 37,
   "metadata": {},
   "outputs": [],
   "source": [
    "azdias_engmixover30['PRAEGENDE_JUGENDJAHRE_DECADE'] = \\\n",
    "azdias_engmixover30['PRAEGENDE_JUGENDJAHRE'].map({1:1,2:1,3:2,4:2, 5:3,6:3,7:3,8:4,9:4,10:5,11:5,12:5,13:5,14:6,15:6})"
   ]
  },
  {
   "cell_type": "code",
   "execution_count": null,
   "metadata": {},
   "outputs": [],
   "source": []
  },
  {
   "cell_type": "code",
   "execution_count": 38,
   "metadata": {},
   "outputs": [
    {
     "data": {
      "text/plain": [
       "1    6.0\n",
       "2    6.0\n",
       "3    4.0\n",
       "4    4.0\n",
       "5    2.0\n",
       "Name: PRAEGENDE_JUGENDJAHRE_DECADE, dtype: float64"
      ]
     },
     "execution_count": 38,
     "metadata": {},
     "output_type": "execute_result"
    }
   ],
   "source": [
    "azdias_engmix['PRAEGENDE_JUGENDJAHRE_DECADE'].head()"
   ]
  },
  {
   "cell_type": "code",
   "execution_count": 39,
   "metadata": {},
   "outputs": [],
   "source": [
    "#changes mainstream to 0 and avantgarde to 1\n",
    "# so 1 to 0, 2 to 1, 3 to 0, 4 to 1, 5 to 0, 6 to 1, 7 to 1\n",
    "#8 to 0, 9 to 1, 10 to 0, 11 to 1, 12 to 0, 13 to 1, 14 to 0, 15 to 1\n",
    "\n",
    "azdias_engmix['PRAEGENDE_JUGENDJAHRE_MOVEMENT'] = \\\n",
    "azdias_engmix['PRAEGENDE_JUGENDJAHRE'].map({1:0,2:1,3:0,4:1,5:0,6:1,7:1,8:0,9:1,10:0,11:1,12:0,13:1,14:0,15:1})"
   ]
  },
  {
   "cell_type": "code",
   "execution_count": 40,
   "metadata": {},
   "outputs": [],
   "source": [
    "azdias_engmixover30['PRAEGENDE_JUGENDJAHRE_MOVEMENT'] = \\\n",
    "azdias_engmixover30['PRAEGENDE_JUGENDJAHRE'].map({1:0,2:1,3:0,4:1,5:0,6:1,7:1,8:0,9:1,10:0,11:1,12:0,13:1,14:0,15:1})"
   ]
  },
  {
   "cell_type": "code",
   "execution_count": 41,
   "metadata": {},
   "outputs": [
    {
     "data": {
      "text/plain": [
       "1    0.0\n",
       "2    1.0\n",
       "3    0.0\n",
       "4    0.0\n",
       "5    0.0\n",
       "Name: PRAEGENDE_JUGENDJAHRE_MOVEMENT, dtype: float64"
      ]
     },
     "execution_count": 41,
     "metadata": {},
     "output_type": "execute_result"
    }
   ],
   "source": [
    "azdias_engmix['PRAEGENDE_JUGENDJAHRE_MOVEMENT'].head()"
   ]
  },
  {
   "cell_type": "code",
   "execution_count": 42,
   "metadata": {},
   "outputs": [],
   "source": [
    "azdias_engmix.drop(columns='PRAEGENDE_JUGENDJAHRE', inplace=True)"
   ]
  },
  {
   "cell_type": "code",
   "execution_count": 43,
   "metadata": {},
   "outputs": [],
   "source": [
    "azdias_engmixover30.drop(columns='PRAEGENDE_JUGENDJAHRE', inplace=True)"
   ]
  },
  {
   "cell_type": "code",
   "execution_count": 44,
   "metadata": {},
   "outputs": [
    {
     "data": {
      "text/html": [
       "<div>\n",
       "<style scoped>\n",
       "    .dataframe tbody tr th:only-of-type {\n",
       "        vertical-align: middle;\n",
       "    }\n",
       "\n",
       "    .dataframe tbody tr th {\n",
       "        vertical-align: top;\n",
       "    }\n",
       "\n",
       "    .dataframe thead th {\n",
       "        text-align: right;\n",
       "    }\n",
       "</style>\n",
       "<table border=\"1\" class=\"dataframe\">\n",
       "  <thead>\n",
       "    <tr style=\"text-align: right;\">\n",
       "      <th></th>\n",
       "      <th>ALTERSKATEGORIE_GROB</th>\n",
       "      <th>ANREDE_KZ</th>\n",
       "      <th>FINANZ_MINIMALIST</th>\n",
       "      <th>FINANZ_SPARER</th>\n",
       "      <th>FINANZ_VORSORGER</th>\n",
       "      <th>FINANZ_ANLEGER</th>\n",
       "      <th>FINANZ_UNAUFFAELLIGER</th>\n",
       "      <th>FINANZ_HAUSBAUER</th>\n",
       "      <th>GREEN_AVANTGARDE</th>\n",
       "      <th>HEALTH_TYP</th>\n",
       "      <th>...</th>\n",
       "      <th>PLZ8_ANTG3</th>\n",
       "      <th>PLZ8_ANTG4</th>\n",
       "      <th>PLZ8_BAUMAX</th>\n",
       "      <th>PLZ8_HHZ</th>\n",
       "      <th>PLZ8_GBZ</th>\n",
       "      <th>ARBEIT</th>\n",
       "      <th>ORTSGR_KLS9</th>\n",
       "      <th>RELAT_AB</th>\n",
       "      <th>PRAEGENDE_JUGENDJAHRE_DECADE</th>\n",
       "      <th>PRAEGENDE_JUGENDJAHRE_MOVEMENT</th>\n",
       "    </tr>\n",
       "  </thead>\n",
       "  <tbody>\n",
       "    <tr>\n",
       "      <th>1</th>\n",
       "      <td>1.0</td>\n",
       "      <td>2</td>\n",
       "      <td>1</td>\n",
       "      <td>5</td>\n",
       "      <td>2</td>\n",
       "      <td>5</td>\n",
       "      <td>4</td>\n",
       "      <td>5</td>\n",
       "      <td>0</td>\n",
       "      <td>3.0</td>\n",
       "      <td>...</td>\n",
       "      <td>2.0</td>\n",
       "      <td>1.0</td>\n",
       "      <td>1.0</td>\n",
       "      <td>5.0</td>\n",
       "      <td>4.0</td>\n",
       "      <td>3.0</td>\n",
       "      <td>5.0</td>\n",
       "      <td>4.0</td>\n",
       "      <td>6.0</td>\n",
       "      <td>0.0</td>\n",
       "    </tr>\n",
       "    <tr>\n",
       "      <th>2</th>\n",
       "      <td>3.0</td>\n",
       "      <td>2</td>\n",
       "      <td>1</td>\n",
       "      <td>4</td>\n",
       "      <td>1</td>\n",
       "      <td>2</td>\n",
       "      <td>3</td>\n",
       "      <td>5</td>\n",
       "      <td>1</td>\n",
       "      <td>3.0</td>\n",
       "      <td>...</td>\n",
       "      <td>1.0</td>\n",
       "      <td>0.0</td>\n",
       "      <td>1.0</td>\n",
       "      <td>4.0</td>\n",
       "      <td>4.0</td>\n",
       "      <td>3.0</td>\n",
       "      <td>5.0</td>\n",
       "      <td>2.0</td>\n",
       "      <td>6.0</td>\n",
       "      <td>1.0</td>\n",
       "    </tr>\n",
       "    <tr>\n",
       "      <th>3</th>\n",
       "      <td>4.0</td>\n",
       "      <td>2</td>\n",
       "      <td>4</td>\n",
       "      <td>2</td>\n",
       "      <td>5</td>\n",
       "      <td>2</td>\n",
       "      <td>1</td>\n",
       "      <td>2</td>\n",
       "      <td>0</td>\n",
       "      <td>2.0</td>\n",
       "      <td>...</td>\n",
       "      <td>2.0</td>\n",
       "      <td>0.0</td>\n",
       "      <td>1.0</td>\n",
       "      <td>3.0</td>\n",
       "      <td>4.0</td>\n",
       "      <td>2.0</td>\n",
       "      <td>3.0</td>\n",
       "      <td>3.0</td>\n",
       "      <td>4.0</td>\n",
       "      <td>0.0</td>\n",
       "    </tr>\n",
       "    <tr>\n",
       "      <th>4</th>\n",
       "      <td>3.0</td>\n",
       "      <td>1</td>\n",
       "      <td>4</td>\n",
       "      <td>3</td>\n",
       "      <td>4</td>\n",
       "      <td>1</td>\n",
       "      <td>3</td>\n",
       "      <td>2</td>\n",
       "      <td>0</td>\n",
       "      <td>3.0</td>\n",
       "      <td>...</td>\n",
       "      <td>2.0</td>\n",
       "      <td>1.0</td>\n",
       "      <td>2.0</td>\n",
       "      <td>3.0</td>\n",
       "      <td>3.0</td>\n",
       "      <td>4.0</td>\n",
       "      <td>6.0</td>\n",
       "      <td>5.0</td>\n",
       "      <td>4.0</td>\n",
       "      <td>0.0</td>\n",
       "    </tr>\n",
       "    <tr>\n",
       "      <th>5</th>\n",
       "      <td>1.0</td>\n",
       "      <td>2</td>\n",
       "      <td>3</td>\n",
       "      <td>1</td>\n",
       "      <td>5</td>\n",
       "      <td>2</td>\n",
       "      <td>2</td>\n",
       "      <td>5</td>\n",
       "      <td>0</td>\n",
       "      <td>3.0</td>\n",
       "      <td>...</td>\n",
       "      <td>1.0</td>\n",
       "      <td>1.0</td>\n",
       "      <td>1.0</td>\n",
       "      <td>5.0</td>\n",
       "      <td>5.0</td>\n",
       "      <td>2.0</td>\n",
       "      <td>3.0</td>\n",
       "      <td>3.0</td>\n",
       "      <td>2.0</td>\n",
       "      <td>0.0</td>\n",
       "    </tr>\n",
       "  </tbody>\n",
       "</table>\n",
       "<p>5 rows × 67 columns</p>\n",
       "</div>"
      ],
      "text/plain": [
       "   ALTERSKATEGORIE_GROB  ANREDE_KZ  FINANZ_MINIMALIST  FINANZ_SPARER  \\\n",
       "1                   1.0          2                  1              5   \n",
       "2                   3.0          2                  1              4   \n",
       "3                   4.0          2                  4              2   \n",
       "4                   3.0          1                  4              3   \n",
       "5                   1.0          2                  3              1   \n",
       "\n",
       "   FINANZ_VORSORGER  FINANZ_ANLEGER  FINANZ_UNAUFFAELLIGER  FINANZ_HAUSBAUER  \\\n",
       "1                 2               5                      4                 5   \n",
       "2                 1               2                      3                 5   \n",
       "3                 5               2                      1                 2   \n",
       "4                 4               1                      3                 2   \n",
       "5                 5               2                      2                 5   \n",
       "\n",
       "   GREEN_AVANTGARDE  HEALTH_TYP               ...                PLZ8_ANTG3  \\\n",
       "1                 0         3.0               ...                       2.0   \n",
       "2                 1         3.0               ...                       1.0   \n",
       "3                 0         2.0               ...                       2.0   \n",
       "4                 0         3.0               ...                       2.0   \n",
       "5                 0         3.0               ...                       1.0   \n",
       "\n",
       "   PLZ8_ANTG4  PLZ8_BAUMAX  PLZ8_HHZ  PLZ8_GBZ  ARBEIT  ORTSGR_KLS9  RELAT_AB  \\\n",
       "1         1.0          1.0       5.0       4.0     3.0          5.0       4.0   \n",
       "2         0.0          1.0       4.0       4.0     3.0          5.0       2.0   \n",
       "3         0.0          1.0       3.0       4.0     2.0          3.0       3.0   \n",
       "4         1.0          2.0       3.0       3.0     4.0          6.0       5.0   \n",
       "5         1.0          1.0       5.0       5.0     2.0          3.0       3.0   \n",
       "\n",
       "   PRAEGENDE_JUGENDJAHRE_DECADE  PRAEGENDE_JUGENDJAHRE_MOVEMENT  \n",
       "1                           6.0                             0.0  \n",
       "2                           6.0                             1.0  \n",
       "3                           4.0                             0.0  \n",
       "4                           4.0                             0.0  \n",
       "5                           2.0                             0.0  \n",
       "\n",
       "[5 rows x 67 columns]"
      ]
     },
     "execution_count": 44,
     "metadata": {},
     "output_type": "execute_result"
    }
   ],
   "source": [
    "azdias_engmix.head()"
   ]
  },
  {
   "cell_type": "code",
   "execution_count": 45,
   "metadata": {},
   "outputs": [
    {
     "data": {
      "text/plain": [
       "1    51\n",
       "2    24\n",
       "3    12\n",
       "4    43\n",
       "5    54\n",
       "Name: CAMEO_INTL_2015, dtype: object"
      ]
     },
     "execution_count": 45,
     "metadata": {},
     "output_type": "execute_result"
    }
   ],
   "source": [
    "# Investigate \"CAMEO_INTL_2015\" and engineer two new variables.\n",
    "\n",
    "azdias_engmix[\"CAMEO_INTL_2015\"].head()"
   ]
  },
  {
   "cell_type": "code",
   "execution_count": 46,
   "metadata": {},
   "outputs": [],
   "source": [
    "#maps 11-15 to 1, 21-25 to 2, 31-35 to 3, 41-45 to 4, 51-55 to 5\n",
    "\n",
    "azdias_engmix[\"CAMEO_INTL_2015_WEALTH\"] = \\\n",
    "azdias_engmix[\"CAMEO_INTL_2015\"].map({'11':1,'12':1,'13':1,'14':1,'15':1, '21':2,'22':2,'23':2,'24':2,'25':2,\n",
    "                                     '31':3,'32':3,'33':3,'34':3,'35':3,'41':4,'42':4,'43':4,'44':4,'45':4,\n",
    "                                     '51':5,'52':5,'53':5,'54':5,'55':5})"
   ]
  },
  {
   "cell_type": "code",
   "execution_count": 47,
   "metadata": {},
   "outputs": [],
   "source": [
    "azdias_engmixover30[\"CAMEO_INTL_2015_WEALTH\"] = \\\n",
    "azdias_engmixover30[\"CAMEO_INTL_2015\"].map({'11':1,'12':1,'13':1,'14':1,'15':1, '21':2,'22':2,'23':2,'24':2,'25':2,\n",
    "                                     '31':3,'32':3,'33':3,'34':3,'35':3,'41':4,'42':4,'43':4,'44':4,'45':4,\n",
    "                                     '51':5,'52':5,'53':5,'54':5,'55':5})"
   ]
  },
  {
   "cell_type": "code",
   "execution_count": 48,
   "metadata": {},
   "outputs": [
    {
     "data": {
      "text/plain": [
       "1    5.0\n",
       "2    2.0\n",
       "3    1.0\n",
       "4    4.0\n",
       "5    5.0\n",
       "Name: CAMEO_INTL_2015_WEALTH, dtype: float64"
      ]
     },
     "execution_count": 48,
     "metadata": {},
     "output_type": "execute_result"
    }
   ],
   "source": [
    "azdias_engmix[\"CAMEO_INTL_2015_WEALTH\"].head()"
   ]
  },
  {
   "cell_type": "code",
   "execution_count": 49,
   "metadata": {},
   "outputs": [],
   "source": [
    "#maps the second digit to its value\n",
    "\n",
    "azdias_engmix[\"CAMEO_INTL_2015_STAGE\"] = \\\n",
    "azdias_engmix[\"CAMEO_INTL_2015\"].map({'11':1,'12':2,'13':3,'14':4,'15':5, '21':1,'22':2,'23':3,'24':4,'25':5,\n",
    "                                     '31':1,'32':2,'33':3,'34':4,'35':5,'41':1,'42':2,'43':3,'44':4,'45':5,\n",
    "                                     '51':1,'52':2,'53':3,'54':4,'55':5})"
   ]
  },
  {
   "cell_type": "code",
   "execution_count": 50,
   "metadata": {},
   "outputs": [],
   "source": [
    "azdias_engmixover30[\"CAMEO_INTL_2015_STAGE\"] = \\\n",
    "azdias_engmixover30[\"CAMEO_INTL_2015\"].map({'11':1,'12':2,'13':3,'14':4,'15':5, '21':1,'22':2,'23':3,'24':4,'25':5,\n",
    "                                     '31':1,'32':2,'33':3,'34':4,'35':5,'41':1,'42':2,'43':3,'44':4,'45':5,\n",
    "                                     '51':1,'52':2,'53':3,'54':4,'55':5})"
   ]
  },
  {
   "cell_type": "code",
   "execution_count": 51,
   "metadata": {},
   "outputs": [
    {
     "data": {
      "text/plain": [
       "1    1.0\n",
       "2    4.0\n",
       "3    2.0\n",
       "4    3.0\n",
       "5    4.0\n",
       "Name: CAMEO_INTL_2015_STAGE, dtype: float64"
      ]
     },
     "execution_count": 51,
     "metadata": {},
     "output_type": "execute_result"
    }
   ],
   "source": [
    "azdias_engmix[\"CAMEO_INTL_2015_STAGE\"].head()"
   ]
  },
  {
   "cell_type": "code",
   "execution_count": 52,
   "metadata": {},
   "outputs": [],
   "source": [
    "azdias_engmix.drop(columns=\"CAMEO_INTL_2015\", inplace=True)"
   ]
  },
  {
   "cell_type": "code",
   "execution_count": 53,
   "metadata": {},
   "outputs": [],
   "source": [
    "azdias_engmixover30.drop(columns=\"CAMEO_INTL_2015\", inplace=True)"
   ]
  },
  {
   "cell_type": "code",
   "execution_count": 54,
   "metadata": {},
   "outputs": [
    {
     "data": {
      "text/html": [
       "<div>\n",
       "<style scoped>\n",
       "    .dataframe tbody tr th:only-of-type {\n",
       "        vertical-align: middle;\n",
       "    }\n",
       "\n",
       "    .dataframe tbody tr th {\n",
       "        vertical-align: top;\n",
       "    }\n",
       "\n",
       "    .dataframe thead th {\n",
       "        text-align: right;\n",
       "    }\n",
       "</style>\n",
       "<table border=\"1\" class=\"dataframe\">\n",
       "  <thead>\n",
       "    <tr style=\"text-align: right;\">\n",
       "      <th></th>\n",
       "      <th>ALTERSKATEGORIE_GROB</th>\n",
       "      <th>ANREDE_KZ</th>\n",
       "      <th>FINANZ_MINIMALIST</th>\n",
       "      <th>FINANZ_SPARER</th>\n",
       "      <th>FINANZ_VORSORGER</th>\n",
       "      <th>FINANZ_ANLEGER</th>\n",
       "      <th>FINANZ_UNAUFFAELLIGER</th>\n",
       "      <th>FINANZ_HAUSBAUER</th>\n",
       "      <th>GREEN_AVANTGARDE</th>\n",
       "      <th>HEALTH_TYP</th>\n",
       "      <th>...</th>\n",
       "      <th>PLZ8_BAUMAX</th>\n",
       "      <th>PLZ8_HHZ</th>\n",
       "      <th>PLZ8_GBZ</th>\n",
       "      <th>ARBEIT</th>\n",
       "      <th>ORTSGR_KLS9</th>\n",
       "      <th>RELAT_AB</th>\n",
       "      <th>PRAEGENDE_JUGENDJAHRE_DECADE</th>\n",
       "      <th>PRAEGENDE_JUGENDJAHRE_MOVEMENT</th>\n",
       "      <th>CAMEO_INTL_2015_WEALTH</th>\n",
       "      <th>CAMEO_INTL_2015_STAGE</th>\n",
       "    </tr>\n",
       "  </thead>\n",
       "  <tbody>\n",
       "    <tr>\n",
       "      <th>1</th>\n",
       "      <td>1.0</td>\n",
       "      <td>2</td>\n",
       "      <td>1</td>\n",
       "      <td>5</td>\n",
       "      <td>2</td>\n",
       "      <td>5</td>\n",
       "      <td>4</td>\n",
       "      <td>5</td>\n",
       "      <td>0</td>\n",
       "      <td>3.0</td>\n",
       "      <td>...</td>\n",
       "      <td>1.0</td>\n",
       "      <td>5.0</td>\n",
       "      <td>4.0</td>\n",
       "      <td>3.0</td>\n",
       "      <td>5.0</td>\n",
       "      <td>4.0</td>\n",
       "      <td>6.0</td>\n",
       "      <td>0.0</td>\n",
       "      <td>5.0</td>\n",
       "      <td>1.0</td>\n",
       "    </tr>\n",
       "    <tr>\n",
       "      <th>2</th>\n",
       "      <td>3.0</td>\n",
       "      <td>2</td>\n",
       "      <td>1</td>\n",
       "      <td>4</td>\n",
       "      <td>1</td>\n",
       "      <td>2</td>\n",
       "      <td>3</td>\n",
       "      <td>5</td>\n",
       "      <td>1</td>\n",
       "      <td>3.0</td>\n",
       "      <td>...</td>\n",
       "      <td>1.0</td>\n",
       "      <td>4.0</td>\n",
       "      <td>4.0</td>\n",
       "      <td>3.0</td>\n",
       "      <td>5.0</td>\n",
       "      <td>2.0</td>\n",
       "      <td>6.0</td>\n",
       "      <td>1.0</td>\n",
       "      <td>2.0</td>\n",
       "      <td>4.0</td>\n",
       "    </tr>\n",
       "    <tr>\n",
       "      <th>3</th>\n",
       "      <td>4.0</td>\n",
       "      <td>2</td>\n",
       "      <td>4</td>\n",
       "      <td>2</td>\n",
       "      <td>5</td>\n",
       "      <td>2</td>\n",
       "      <td>1</td>\n",
       "      <td>2</td>\n",
       "      <td>0</td>\n",
       "      <td>2.0</td>\n",
       "      <td>...</td>\n",
       "      <td>1.0</td>\n",
       "      <td>3.0</td>\n",
       "      <td>4.0</td>\n",
       "      <td>2.0</td>\n",
       "      <td>3.0</td>\n",
       "      <td>3.0</td>\n",
       "      <td>4.0</td>\n",
       "      <td>0.0</td>\n",
       "      <td>1.0</td>\n",
       "      <td>2.0</td>\n",
       "    </tr>\n",
       "    <tr>\n",
       "      <th>4</th>\n",
       "      <td>3.0</td>\n",
       "      <td>1</td>\n",
       "      <td>4</td>\n",
       "      <td>3</td>\n",
       "      <td>4</td>\n",
       "      <td>1</td>\n",
       "      <td>3</td>\n",
       "      <td>2</td>\n",
       "      <td>0</td>\n",
       "      <td>3.0</td>\n",
       "      <td>...</td>\n",
       "      <td>2.0</td>\n",
       "      <td>3.0</td>\n",
       "      <td>3.0</td>\n",
       "      <td>4.0</td>\n",
       "      <td>6.0</td>\n",
       "      <td>5.0</td>\n",
       "      <td>4.0</td>\n",
       "      <td>0.0</td>\n",
       "      <td>4.0</td>\n",
       "      <td>3.0</td>\n",
       "    </tr>\n",
       "    <tr>\n",
       "      <th>5</th>\n",
       "      <td>1.0</td>\n",
       "      <td>2</td>\n",
       "      <td>3</td>\n",
       "      <td>1</td>\n",
       "      <td>5</td>\n",
       "      <td>2</td>\n",
       "      <td>2</td>\n",
       "      <td>5</td>\n",
       "      <td>0</td>\n",
       "      <td>3.0</td>\n",
       "      <td>...</td>\n",
       "      <td>1.0</td>\n",
       "      <td>5.0</td>\n",
       "      <td>5.0</td>\n",
       "      <td>2.0</td>\n",
       "      <td>3.0</td>\n",
       "      <td>3.0</td>\n",
       "      <td>2.0</td>\n",
       "      <td>0.0</td>\n",
       "      <td>5.0</td>\n",
       "      <td>4.0</td>\n",
       "    </tr>\n",
       "  </tbody>\n",
       "</table>\n",
       "<p>5 rows × 68 columns</p>\n",
       "</div>"
      ],
      "text/plain": [
       "   ALTERSKATEGORIE_GROB  ANREDE_KZ  FINANZ_MINIMALIST  FINANZ_SPARER  \\\n",
       "1                   1.0          2                  1              5   \n",
       "2                   3.0          2                  1              4   \n",
       "3                   4.0          2                  4              2   \n",
       "4                   3.0          1                  4              3   \n",
       "5                   1.0          2                  3              1   \n",
       "\n",
       "   FINANZ_VORSORGER  FINANZ_ANLEGER  FINANZ_UNAUFFAELLIGER  FINANZ_HAUSBAUER  \\\n",
       "1                 2               5                      4                 5   \n",
       "2                 1               2                      3                 5   \n",
       "3                 5               2                      1                 2   \n",
       "4                 4               1                      3                 2   \n",
       "5                 5               2                      2                 5   \n",
       "\n",
       "   GREEN_AVANTGARDE  HEALTH_TYP          ...            PLZ8_BAUMAX  PLZ8_HHZ  \\\n",
       "1                 0         3.0          ...                    1.0       5.0   \n",
       "2                 1         3.0          ...                    1.0       4.0   \n",
       "3                 0         2.0          ...                    1.0       3.0   \n",
       "4                 0         3.0          ...                    2.0       3.0   \n",
       "5                 0         3.0          ...                    1.0       5.0   \n",
       "\n",
       "   PLZ8_GBZ  ARBEIT  ORTSGR_KLS9  RELAT_AB  PRAEGENDE_JUGENDJAHRE_DECADE  \\\n",
       "1       4.0     3.0          5.0       4.0                           6.0   \n",
       "2       4.0     3.0          5.0       2.0                           6.0   \n",
       "3       4.0     2.0          3.0       3.0                           4.0   \n",
       "4       3.0     4.0          6.0       5.0                           4.0   \n",
       "5       5.0     2.0          3.0       3.0                           2.0   \n",
       "\n",
       "   PRAEGENDE_JUGENDJAHRE_MOVEMENT  CAMEO_INTL_2015_WEALTH  \\\n",
       "1                             0.0                     5.0   \n",
       "2                             1.0                     2.0   \n",
       "3                             0.0                     1.0   \n",
       "4                             0.0                     4.0   \n",
       "5                             0.0                     5.0   \n",
       "\n",
       "   CAMEO_INTL_2015_STAGE  \n",
       "1                    1.0  \n",
       "2                    4.0  \n",
       "3                    2.0  \n",
       "4                    3.0  \n",
       "5                    4.0  \n",
       "\n",
       "[5 rows x 68 columns]"
      ]
     },
     "execution_count": 54,
     "metadata": {},
     "output_type": "execute_result"
    }
   ],
   "source": [
    "azdias_engmix.head()"
   ]
  },
  {
   "cell_type": "code",
   "execution_count": 55,
   "metadata": {},
   "outputs": [
    {
     "data": {
      "text/plain": [
       "['LP_LEBENSPHASE_FEIN',\n",
       " 'LP_LEBENSPHASE_GROB',\n",
       " 'WOHNLAGE',\n",
       " 'KBA05_BAUMAX',\n",
       " 'PLZ8_BAUMAX']"
      ]
     },
     "execution_count": 55,
     "metadata": {},
     "output_type": "execute_result"
    }
   ],
   "source": [
    "mixatt = feat_info[feat_info['type']=='mixed'].attribute.tolist()\n",
    "mixatt.remove('PRAEGENDE_JUGENDJAHRE')\n",
    "mixatt.remove('CAMEO_INTL_2015')\n",
    "mixatt"
   ]
  },
  {
   "cell_type": "code",
   "execution_count": 56,
   "metadata": {},
   "outputs": [],
   "source": [
    "#drop the rest of the mixed, 'KBA05_BAUMAX' was already dropped due to high NaNs\n",
    "for i in mixatt:\n",
    "    if i not in nan_out_list:\n",
    "        azdias_engmixdrop = azdias_engmix.drop(columns=i)\n"
   ]
  },
  {
   "cell_type": "code",
   "execution_count": 57,
   "metadata": {},
   "outputs": [],
   "source": [
    "for i in mixatt:\n",
    "    if i not in nan_out_list:\n",
    "        azdias_engmixdropover30 = azdias_engmixover30.drop(columns=i)\n"
   ]
  },
  {
   "cell_type": "code",
   "execution_count": 58,
   "metadata": {},
   "outputs": [
    {
     "data": {
      "text/plain": [
       "Index(['ALTERSKATEGORIE_GROB', 'ANREDE_KZ', 'FINANZ_MINIMALIST',\n",
       "       'FINANZ_SPARER', 'FINANZ_VORSORGER', 'FINANZ_ANLEGER',\n",
       "       'FINANZ_UNAUFFAELLIGER', 'FINANZ_HAUSBAUER', 'GREEN_AVANTGARDE',\n",
       "       'HEALTH_TYP', 'LP_LEBENSPHASE_FEIN', 'LP_LEBENSPHASE_GROB',\n",
       "       'RETOURTYP_BK_S', 'SEMIO_SOZ', 'SEMIO_FAM', 'SEMIO_REL', 'SEMIO_MAT',\n",
       "       'SEMIO_VERT', 'SEMIO_LUST', 'SEMIO_ERL', 'SEMIO_KULT', 'SEMIO_RAT',\n",
       "       'SEMIO_KRIT', 'SEMIO_DOM', 'SEMIO_KAEM', 'SEMIO_PFLICHT', 'SEMIO_TRADV',\n",
       "       'SOHO_KZ', 'VERS_TYP', 'ANZ_PERSONEN', 'ANZ_TITEL',\n",
       "       'HH_EINKOMMEN_SCORE', 'W_KEIT_KIND_HH', 'WOHNDAUER_2008',\n",
       "       'ANZ_HAUSHALTE_AKTIV', 'ANZ_HH_TITEL', 'KONSUMNAEHE',\n",
       "       'MIN_GEBAEUDEJAHR', 'OST_WEST_KZ', 'WOHNLAGE', 'KBA05_ANTG1',\n",
       "       'KBA05_ANTG2', 'KBA05_ANTG3', 'KBA05_ANTG4', 'KBA05_GBZ', 'BALLRAUM',\n",
       "       'EWDICHTE', 'INNENSTADT', 'GEBAEUDETYP_RASTER', 'KKK', 'MOBI_REGIO',\n",
       "       'ONLINE_AFFINITAET', 'REGIOTYP', 'KBA13_ANZAHL_PKW', 'PLZ8_ANTG1',\n",
       "       'PLZ8_ANTG2', 'PLZ8_ANTG3', 'PLZ8_ANTG4', 'PLZ8_HHZ', 'PLZ8_GBZ',\n",
       "       'ARBEIT', 'ORTSGR_KLS9', 'RELAT_AB', 'PRAEGENDE_JUGENDJAHRE_DECADE',\n",
       "       'PRAEGENDE_JUGENDJAHRE_MOVEMENT', 'CAMEO_INTL_2015_WEALTH',\n",
       "       'CAMEO_INTL_2015_STAGE'],\n",
       "      dtype='object')"
      ]
     },
     "execution_count": 58,
     "metadata": {},
     "output_type": "execute_result"
    }
   ],
   "source": [
    "azdias_engmixdrop.columns"
   ]
  },
  {
   "cell_type": "markdown",
   "metadata": {},
   "source": [
    "#### Discussion 1.2.2: Engineer Mixed-Type Features\n",
    "\n",
    "(Double-click this cell and replace this text with your own text, reporting your findings and decisions regarding mixed-value features. Which ones did you keep, which did you drop, and what engineering steps did you perform?)\n",
    "\n",
    "For 'PRAEGENDE_JUGENDJAHRE' I engineered two new variables 'PRAEGENDE_JUGENDJAHRE_DECADE' that maps 1-2 to 1 (40s), 3-4 to 2 (50s), 5-7 to 3 (60s), 8-9 to 4 (70s), 10-13 to 5 (80s), and 14-15 to 6 (90s), and \n",
    "'PRAEGENDE_JUGENDJAHRE_MOVEMENT' that maps mainstream to 0 and avantgarde to 1, i.e. 1 to 0, 2 to 1, 3 to 0, 4 to 1, 5 to 0, 6 to 1, 7 to 1, 8 to 0, 9 to 1, 10 to 0, 11 to 1, 12 to 0, 13 to 1, 14 to 0, and 15 to 1.\n",
    "\n",
    "For \"CAMEO_INTL_2015\" I engineered two new variables, \"CAMEO_INTL_2015_WEALTH\" that maps its first digit to its values, i.e. 11-15 to 1, 21-25 to 2, 31-35 to 3, 41-45 to 4, 51-55 to 5, and \n",
    "\"CAMEO_INTL_2015_STAGE\" that maps its second digit to its value or 11,21,31,41,51 to 1, 12,22,32,42,52 to 2, \n",
    "13,23,33,43,53 to 3, 14,24,34,44,54 to 4, and 15,25,35,45,55 to 5\n",
    "\n",
    "The original mixed variables above and any other mixed values were dropped ('KBA05_BAUMAX' had already been dropped before due to being a high NaN number outlier)\n",
    "\n",
    "'LP_LEBENSPHASE_FEIN',\n",
    " 'LP_LEBENSPHASE_GROB',\n",
    " 'PRAEGENDE_JUGENDJAHRE',\n",
    " 'WOHNLAGE',\n",
    " 'CAMEO_INTL_2015',\n",
    " 'KBA05_BAUMAX',\n",
    " 'PLZ8_BAUMAX'"
   ]
  },
  {
   "cell_type": "markdown",
   "metadata": {},
   "source": [
    "#### Step 1.2.3: Complete Feature Selection\n",
    "\n",
    "In order to finish this step up, you need to make sure that your data frame now only has the columns that you want to keep. To summarize, the dataframe should consist of the following:\n",
    "- All numeric, interval, and ordinal type columns from the original dataset.\n",
    "- Binary categorical features (all numerically-encoded).\n",
    "- Engineered features from other multi-level categorical features and mixed features.\n",
    "\n",
    "Make sure that for any new columns that you have engineered, that you've excluded the original columns from the final dataset. Otherwise, their values will interfere with the analysis later on the project. For example, you should not keep \"PRAEGENDE_JUGENDJAHRE\", since its values won't be useful for the algorithm: only the values derived from it in the engineered features you created should be retained. As a reminder, your data should only be from **the subset with few or no missing values**."
   ]
  },
  {
   "cell_type": "code",
   "execution_count": 59,
   "metadata": {},
   "outputs": [
    {
     "data": {
      "text/html": [
       "<div>\n",
       "<style scoped>\n",
       "    .dataframe tbody tr th:only-of-type {\n",
       "        vertical-align: middle;\n",
       "    }\n",
       "\n",
       "    .dataframe tbody tr th {\n",
       "        vertical-align: top;\n",
       "    }\n",
       "\n",
       "    .dataframe thead th {\n",
       "        text-align: right;\n",
       "    }\n",
       "</style>\n",
       "<table border=\"1\" class=\"dataframe\">\n",
       "  <thead>\n",
       "    <tr style=\"text-align: right;\">\n",
       "      <th></th>\n",
       "      <th>ALTERSKATEGORIE_GROB</th>\n",
       "      <th>ANREDE_KZ</th>\n",
       "      <th>FINANZ_MINIMALIST</th>\n",
       "      <th>FINANZ_SPARER</th>\n",
       "      <th>FINANZ_VORSORGER</th>\n",
       "      <th>FINANZ_ANLEGER</th>\n",
       "      <th>FINANZ_UNAUFFAELLIGER</th>\n",
       "      <th>FINANZ_HAUSBAUER</th>\n",
       "      <th>GREEN_AVANTGARDE</th>\n",
       "      <th>HEALTH_TYP</th>\n",
       "      <th>...</th>\n",
       "      <th>PLZ8_ANTG4</th>\n",
       "      <th>PLZ8_HHZ</th>\n",
       "      <th>PLZ8_GBZ</th>\n",
       "      <th>ARBEIT</th>\n",
       "      <th>ORTSGR_KLS9</th>\n",
       "      <th>RELAT_AB</th>\n",
       "      <th>PRAEGENDE_JUGENDJAHRE_DECADE</th>\n",
       "      <th>PRAEGENDE_JUGENDJAHRE_MOVEMENT</th>\n",
       "      <th>CAMEO_INTL_2015_WEALTH</th>\n",
       "      <th>CAMEO_INTL_2015_STAGE</th>\n",
       "    </tr>\n",
       "  </thead>\n",
       "  <tbody>\n",
       "    <tr>\n",
       "      <th>1</th>\n",
       "      <td>1.0</td>\n",
       "      <td>2</td>\n",
       "      <td>1</td>\n",
       "      <td>5</td>\n",
       "      <td>2</td>\n",
       "      <td>5</td>\n",
       "      <td>4</td>\n",
       "      <td>5</td>\n",
       "      <td>0</td>\n",
       "      <td>3.0</td>\n",
       "      <td>...</td>\n",
       "      <td>1.0</td>\n",
       "      <td>5.0</td>\n",
       "      <td>4.0</td>\n",
       "      <td>3.0</td>\n",
       "      <td>5.0</td>\n",
       "      <td>4.0</td>\n",
       "      <td>6.0</td>\n",
       "      <td>0.0</td>\n",
       "      <td>5.0</td>\n",
       "      <td>1.0</td>\n",
       "    </tr>\n",
       "    <tr>\n",
       "      <th>2</th>\n",
       "      <td>3.0</td>\n",
       "      <td>2</td>\n",
       "      <td>1</td>\n",
       "      <td>4</td>\n",
       "      <td>1</td>\n",
       "      <td>2</td>\n",
       "      <td>3</td>\n",
       "      <td>5</td>\n",
       "      <td>1</td>\n",
       "      <td>3.0</td>\n",
       "      <td>...</td>\n",
       "      <td>0.0</td>\n",
       "      <td>4.0</td>\n",
       "      <td>4.0</td>\n",
       "      <td>3.0</td>\n",
       "      <td>5.0</td>\n",
       "      <td>2.0</td>\n",
       "      <td>6.0</td>\n",
       "      <td>1.0</td>\n",
       "      <td>2.0</td>\n",
       "      <td>4.0</td>\n",
       "    </tr>\n",
       "    <tr>\n",
       "      <th>3</th>\n",
       "      <td>4.0</td>\n",
       "      <td>2</td>\n",
       "      <td>4</td>\n",
       "      <td>2</td>\n",
       "      <td>5</td>\n",
       "      <td>2</td>\n",
       "      <td>1</td>\n",
       "      <td>2</td>\n",
       "      <td>0</td>\n",
       "      <td>2.0</td>\n",
       "      <td>...</td>\n",
       "      <td>0.0</td>\n",
       "      <td>3.0</td>\n",
       "      <td>4.0</td>\n",
       "      <td>2.0</td>\n",
       "      <td>3.0</td>\n",
       "      <td>3.0</td>\n",
       "      <td>4.0</td>\n",
       "      <td>0.0</td>\n",
       "      <td>1.0</td>\n",
       "      <td>2.0</td>\n",
       "    </tr>\n",
       "    <tr>\n",
       "      <th>4</th>\n",
       "      <td>3.0</td>\n",
       "      <td>1</td>\n",
       "      <td>4</td>\n",
       "      <td>3</td>\n",
       "      <td>4</td>\n",
       "      <td>1</td>\n",
       "      <td>3</td>\n",
       "      <td>2</td>\n",
       "      <td>0</td>\n",
       "      <td>3.0</td>\n",
       "      <td>...</td>\n",
       "      <td>1.0</td>\n",
       "      <td>3.0</td>\n",
       "      <td>3.0</td>\n",
       "      <td>4.0</td>\n",
       "      <td>6.0</td>\n",
       "      <td>5.0</td>\n",
       "      <td>4.0</td>\n",
       "      <td>0.0</td>\n",
       "      <td>4.0</td>\n",
       "      <td>3.0</td>\n",
       "    </tr>\n",
       "    <tr>\n",
       "      <th>5</th>\n",
       "      <td>1.0</td>\n",
       "      <td>2</td>\n",
       "      <td>3</td>\n",
       "      <td>1</td>\n",
       "      <td>5</td>\n",
       "      <td>2</td>\n",
       "      <td>2</td>\n",
       "      <td>5</td>\n",
       "      <td>0</td>\n",
       "      <td>3.0</td>\n",
       "      <td>...</td>\n",
       "      <td>1.0</td>\n",
       "      <td>5.0</td>\n",
       "      <td>5.0</td>\n",
       "      <td>2.0</td>\n",
       "      <td>3.0</td>\n",
       "      <td>3.0</td>\n",
       "      <td>2.0</td>\n",
       "      <td>0.0</td>\n",
       "      <td>5.0</td>\n",
       "      <td>4.0</td>\n",
       "    </tr>\n",
       "  </tbody>\n",
       "</table>\n",
       "<p>5 rows × 67 columns</p>\n",
       "</div>"
      ],
      "text/plain": [
       "   ALTERSKATEGORIE_GROB  ANREDE_KZ  FINANZ_MINIMALIST  FINANZ_SPARER  \\\n",
       "1                   1.0          2                  1              5   \n",
       "2                   3.0          2                  1              4   \n",
       "3                   4.0          2                  4              2   \n",
       "4                   3.0          1                  4              3   \n",
       "5                   1.0          2                  3              1   \n",
       "\n",
       "   FINANZ_VORSORGER  FINANZ_ANLEGER  FINANZ_UNAUFFAELLIGER  FINANZ_HAUSBAUER  \\\n",
       "1                 2               5                      4                 5   \n",
       "2                 1               2                      3                 5   \n",
       "3                 5               2                      1                 2   \n",
       "4                 4               1                      3                 2   \n",
       "5                 5               2                      2                 5   \n",
       "\n",
       "   GREEN_AVANTGARDE  HEALTH_TYP          ...            PLZ8_ANTG4  PLZ8_HHZ  \\\n",
       "1                 0         3.0          ...                   1.0       5.0   \n",
       "2                 1         3.0          ...                   0.0       4.0   \n",
       "3                 0         2.0          ...                   0.0       3.0   \n",
       "4                 0         3.0          ...                   1.0       3.0   \n",
       "5                 0         3.0          ...                   1.0       5.0   \n",
       "\n",
       "   PLZ8_GBZ  ARBEIT  ORTSGR_KLS9  RELAT_AB  PRAEGENDE_JUGENDJAHRE_DECADE  \\\n",
       "1       4.0     3.0          5.0       4.0                           6.0   \n",
       "2       4.0     3.0          5.0       2.0                           6.0   \n",
       "3       4.0     2.0          3.0       3.0                           4.0   \n",
       "4       3.0     4.0          6.0       5.0                           4.0   \n",
       "5       5.0     2.0          3.0       3.0                           2.0   \n",
       "\n",
       "   PRAEGENDE_JUGENDJAHRE_MOVEMENT  CAMEO_INTL_2015_WEALTH  \\\n",
       "1                             0.0                     5.0   \n",
       "2                             1.0                     2.0   \n",
       "3                             0.0                     1.0   \n",
       "4                             0.0                     4.0   \n",
       "5                             0.0                     5.0   \n",
       "\n",
       "   CAMEO_INTL_2015_STAGE  \n",
       "1                    1.0  \n",
       "2                    4.0  \n",
       "3                    2.0  \n",
       "4                    3.0  \n",
       "5                    4.0  \n",
       "\n",
       "[5 rows x 67 columns]"
      ]
     },
     "execution_count": 59,
     "metadata": {},
     "output_type": "execute_result"
    }
   ],
   "source": [
    "# If there are other re-engineering tasks you need to perform, make sure you\n",
    "# take care of them here. (Dealing with missing data will come in step 2.1.)\n",
    "\n",
    "azdias_engmixdrop.head()"
   ]
  },
  {
   "cell_type": "code",
   "execution_count": 60,
   "metadata": {},
   "outputs": [
    {
     "name": "stdout",
     "output_type": "stream",
     "text": [
      "<class 'pandas.core.frame.DataFrame'>\n",
      "Int64Index: 798067 entries, 1 to 891220\n",
      "Data columns (total 67 columns):\n",
      "ALTERSKATEGORIE_GROB              795264 non-null float64\n",
      "ANREDE_KZ                         798067 non-null int64\n",
      "FINANZ_MINIMALIST                 798067 non-null int64\n",
      "FINANZ_SPARER                     798067 non-null int64\n",
      "FINANZ_VORSORGER                  798067 non-null int64\n",
      "FINANZ_ANLEGER                    798067 non-null int64\n",
      "FINANZ_UNAUFFAELLIGER             798067 non-null int64\n",
      "FINANZ_HAUSBAUER                  798067 non-null int64\n",
      "GREEN_AVANTGARDE                  798067 non-null int64\n",
      "HEALTH_TYP                        761341 non-null float64\n",
      "LP_LEBENSPHASE_FEIN               747828 non-null float64\n",
      "LP_LEBENSPHASE_GROB               750721 non-null float64\n",
      "RETOURTYP_BK_S                    793318 non-null float64\n",
      "SEMIO_SOZ                         798067 non-null int64\n",
      "SEMIO_FAM                         798067 non-null int64\n",
      "SEMIO_REL                         798067 non-null int64\n",
      "SEMIO_MAT                         798067 non-null int64\n",
      "SEMIO_VERT                        798067 non-null int64\n",
      "SEMIO_LUST                        798067 non-null int64\n",
      "SEMIO_ERL                         798067 non-null int64\n",
      "SEMIO_KULT                        798067 non-null int64\n",
      "SEMIO_RAT                         798067 non-null int64\n",
      "SEMIO_KRIT                        798067 non-null int64\n",
      "SEMIO_DOM                         798067 non-null int64\n",
      "SEMIO_KAEM                        798067 non-null int64\n",
      "SEMIO_PFLICHT                     798067 non-null int64\n",
      "SEMIO_TRADV                       798067 non-null int64\n",
      "SOHO_KZ                           798067 non-null float64\n",
      "VERS_TYP                          761341 non-null float64\n",
      "ANZ_PERSONEN                      798067 non-null float64\n",
      "ANZ_TITEL                         798067 non-null float64\n",
      "HH_EINKOMMEN_SCORE                798067 non-null float64\n",
      "W_KEIT_KIND_HH                    738762 non-null float64\n",
      "WOHNDAUER_2008                    798067 non-null float64\n",
      "ANZ_HAUSHALTE_AKTIV               791605 non-null float64\n",
      "ANZ_HH_TITEL                      794208 non-null float64\n",
      "KONSUMNAEHE                       797995 non-null float64\n",
      "MIN_GEBAEUDEJAHR                  798067 non-null float64\n",
      "OST_WEST_KZ                       798067 non-null int64\n",
      "WOHNLAGE                          798067 non-null float64\n",
      "KBA05_ANTG1                       757897 non-null float64\n",
      "KBA05_ANTG2                       757897 non-null float64\n",
      "KBA05_ANTG3                       757897 non-null float64\n",
      "KBA05_ANTG4                       757897 non-null float64\n",
      "KBA05_GBZ                         757897 non-null float64\n",
      "BALLRAUM                          797475 non-null float64\n",
      "EWDICHTE                          797475 non-null float64\n",
      "INNENSTADT                        797475 non-null float64\n",
      "GEBAEUDETYP_RASTER                798060 non-null float64\n",
      "KKK                               733157 non-null float64\n",
      "MOBI_REGIO                        757897 non-null float64\n",
      "ONLINE_AFFINITAET                 793318 non-null float64\n",
      "REGIOTYP                          733157 non-null float64\n",
      "KBA13_ANZAHL_PKW                  785420 non-null float64\n",
      "PLZ8_ANTG1                        774706 non-null float64\n",
      "PLZ8_ANTG2                        774706 non-null float64\n",
      "PLZ8_ANTG3                        774706 non-null float64\n",
      "PLZ8_ANTG4                        774706 non-null float64\n",
      "PLZ8_HHZ                          774706 non-null float64\n",
      "PLZ8_GBZ                          774706 non-null float64\n",
      "ARBEIT                            793840 non-null float64\n",
      "ORTSGR_KLS9                       793941 non-null float64\n",
      "RELAT_AB                          793840 non-null float64\n",
      "PRAEGENDE_JUGENDJAHRE_DECADE      769309 non-null float64\n",
      "PRAEGENDE_JUGENDJAHRE_MOVEMENT    769309 non-null float64\n",
      "CAMEO_INTL_2015_WEALTH            791866 non-null float64\n",
      "CAMEO_INTL_2015_STAGE             791866 non-null float64\n",
      "dtypes: float64(44), int64(23)\n",
      "memory usage: 414.0 MB\n"
     ]
    }
   ],
   "source": [
    "# Do whatever you need to in order to ensure that the dataframe only contains\n",
    "# the columns that should be passed to the algorithm functions.\n",
    "\n",
    "\n",
    "azdias_engmixdrop.info()"
   ]
  },
  {
   "cell_type": "markdown",
   "metadata": {},
   "source": [
    "### Step 1.3: Create a Cleaning Function\n",
    "\n",
    "Even though you've finished cleaning up the general population demographics data, it's important to look ahead to the future and realize that you'll need to perform the same cleaning steps on the customer demographics data. In this substep, complete the function below to execute the main feature selection, encoding, and re-engineering steps you performed above. Then, when it comes to looking at the customer data in Step 3, you can just run this function on that DataFrame to get the trimmed dataset in a single step."
   ]
  },
  {
   "cell_type": "code",
   "execution_count": 61,
   "metadata": {},
   "outputs": [],
   "source": [
    "def clean_data(df):\n",
    "    \"\"\"\n",
    "    Perform feature trimming, re-encoding, and engineering for demographics\n",
    "    data\n",
    "    \n",
    "    INPUT: Demographics DataFrame\n",
    "    OUTPUT: Trimmed and cleaned demographics DataFrame\n",
    "    \"\"\"\n",
    "    \n",
    "    # Put in code here to execute all main cleaning steps:\n",
    "    # convert missing value codes into NaNs, ...\n",
    "    def miss_nan(x, list_nan):\n",
    "    \n",
    "        x_new=x\n",
    "        for j in list_nan:\n",
    "            try:\n",
    "                nan_value = (float(j))\n",
    "            except ValueError:\n",
    "                nan_value = j\n",
    "            if x == nan_value:\n",
    "                x_new = np.nan\n",
    "                break\n",
    "        return x_new\n",
    "    df_nan=df.copy()\n",
    "    for feat_col in list(df_nan.columns):\n",
    "        miss_list = feat_info[feat_info.attribute==feat_col]['missing_or_unknown_list'].values[0]\n",
    "        df_nan[feat_col]=df_nan[feat_col].apply(lambda x: miss_nan(x, miss_list))\n",
    "    \n",
    "    # remove selected columns and rows, ...\n",
    "    dfnan_out_list = []\n",
    "    for i in df_nan.columns.tolist():\n",
    "        if df_nan[i].isnull().sum() > 200000:\n",
    "            dfnan_out_list.append(i)\n",
    "    dfnan_out = pd.Series(dfnan_out_list)  \n",
    "    df_drop_nan = df_nan.drop(columns=dfnan_out)\n",
    "    \n",
    "    df_over30 = []\n",
    "    df_30under = []\n",
    "    for index, data in df_drop_nan.iterrows():\n",
    "        if df_drop_nan.iloc[index].isnull().sum() > 30:\n",
    "            df_over30.append(index)\n",
    "        else:\n",
    "            df_30under.append(index)\n",
    "    \n",
    "    df_und30 = df_drop_nan.drop(df_over30)\n",
    "    df_over30 = df_drop_nan.drop(df_30under)\n",
    "    \n",
    "    # select, re-encode, and engineer column values.\n",
    "    df_und30new = df_und30.copy()\n",
    "    df_und30new['OST_WEST_KZ'] = df_und30new['OST_WEST_KZ'].map({'W':1,'O':0})\n",
    "    \n",
    "    df_no_multcat =  df_und30new.drop(columns=multi_level_cats )\n",
    "    df_engmix = df_no_multcat.copy()\n",
    "    \n",
    "    df_engmix['PRAEGENDE_JUGENDJAHRE_DECADE'] = \\\n",
    "    df_engmix['PRAEGENDE_JUGENDJAHRE'].map({1:1,2:1,3:2,4:2, 5:3,6:3,7:3,8:4,9:4,10:5,11:5,12:5,13:5,14:6,15:6})\n",
    "    \n",
    "    df_engmix['PRAEGENDE_JUGENDJAHRE_MOVEMENT'] = \\\n",
    "    df_engmix['PRAEGENDE_JUGENDJAHRE'].map({1:0,2:1,3:0,4:1,5:0,6:1,7:1,8:0,9:1,10:0,11:1,12:0,13:1,14:0,15:1})\n",
    "    \n",
    "    df_engmix.drop(columns='PRAEGENDE_JUGENDJAHRE', inplace=True)\n",
    "    \n",
    "    df_engmix[\"CAMEO_INTL_2015_WEALTH\"] = \\\n",
    "    df_engmix[\"CAMEO_INTL_2015\"].map({'11':1,'12':1,'13':1,'14':1,'15':1, '21':2,'22':2,'23':2,'24':2,'25':2,\n",
    "                                     '31':3,'32':3,'33':3,'34':3,'35':3,'41':4,'42':4,'43':4,'44':4,'45':4,\n",
    "                                     '51':5,'52':5,'53':5,'54':5,'55':5})\n",
    "    \n",
    "    df_engmix[\"CAMEO_INTL_2015_STAGE\"] = \\\n",
    "    df_engmix[\"CAMEO_INTL_2015\"].map({'11':1,'12':2,'13':3,'14':4,'15':5, '21':1,'22':2,'23':3,'24':4,'25':5,\n",
    "                                     '31':1,'32':2,'33':3,'34':4,'35':5,'41':1,'42':2,'43':3,'44':4,'45':5,\n",
    "                                     '51':1,'52':2,'53':3,'54':4,'55':5})\n",
    "    \n",
    "    df_engmix.drop(columns=\"CAMEO_INTL_2015\", inplace=True)\n",
    "    \n",
    "    for i in mixatt:\n",
    "        if i not in dfnan_out_list:\n",
    "            df_engmixdrop = df_engmix.drop(columns=i)\n",
    "    \n",
    "    df_new = df_engmixdrop.copy()\n",
    "    \n",
    "    # Return the cleaned dataframe.\n",
    "    return df_new, df_over30\n",
    "    "
   ]
  },
  {
   "cell_type": "markdown",
   "metadata": {},
   "source": [
    "## Step 2: Feature Transformation\n",
    "\n",
    "### Step 2.1: Apply Feature Scaling\n",
    "\n",
    "Before we apply dimensionality reduction techniques to the data, we need to perform feature scaling so that the principal component vectors are not influenced by the natural differences in scale for features. Starting from this part of the project, you'll want to keep an eye on the [API reference page for sklearn](http://scikit-learn.org/stable/modules/classes.html) to help you navigate to all of the classes and functions that you'll need. In this substep, you'll need to check the following:\n",
    "\n",
    "- sklearn requires that data not have missing values in order for its estimators to work properly. So, before applying the scaler to your data, make sure that you've cleaned the DataFrame of the remaining missing values. This can be as simple as just removing all data points with missing data, or applying an [Imputer](http://scikit-learn.org/stable/modules/generated/sklearn.preprocessing.Imputer.html) to replace all missing values. You might also try a more complicated procedure where you temporarily remove missing values in order to compute the scaling parameters before re-introducing those missing values and applying imputation. Think about how much missing data you have and what possible effects each approach might have on your analysis, and justify your decision in the discussion section below.\n",
    "- For the actual scaling function, a [StandardScaler](http://scikit-learn.org/stable/modules/generated/sklearn.preprocessing.StandardScaler.html) instance is suggested, scaling each feature to mean 0 and standard deviation 1.\n",
    "- For these classes, you can make use of the `.fit_transform()` method to both fit a procedure to the data as well as apply the transformation to the data at the same time. Don't forget to keep the fit sklearn objects handy, since you'll be applying them to the customer demographics data towards the end of the project."
   ]
  },
  {
   "cell_type": "code",
   "execution_count": 63,
   "metadata": {},
   "outputs": [],
   "source": [
    "# If you've not yet cleaned the dataset of all NaN values, then investigate and\n",
    "# do that now.\n",
    "imp = Imputer()\n",
    "\n",
    "#azdias_dropna = azdias_engmixdrop.dropna()"
   ]
  },
  {
   "cell_type": "code",
   "execution_count": 167,
   "metadata": {},
   "outputs": [],
   "source": [
    "#azdias_dropnaover30 = azdias_engmixdropover30.dropna()"
   ]
  },
  {
   "cell_type": "code",
   "execution_count": 168,
   "metadata": {},
   "outputs": [],
   "source": [
    "#azdias_impover30 = imp.fit_transform(azdias_engmixdropover30)"
   ]
  },
  {
   "cell_type": "code",
   "execution_count": 77,
   "metadata": {},
   "outputs": [
    {
     "data": {
      "text/plain": [
       "(798067, 67)"
      ]
     },
     "execution_count": 77,
     "metadata": {},
     "output_type": "execute_result"
    }
   ],
   "source": [
    "azdias_engmixdrop.shape"
   ]
  },
  {
   "cell_type": "code",
   "execution_count": 64,
   "metadata": {},
   "outputs": [],
   "source": [
    "azdias_imp = imp.fit_transform(azdias_engmixdrop)"
   ]
  },
  {
   "cell_type": "code",
   "execution_count": 65,
   "metadata": {},
   "outputs": [
    {
     "data": {
      "text/plain": [
       "(798067, 67)"
      ]
     },
     "execution_count": 65,
     "metadata": {},
     "output_type": "execute_result"
    }
   ],
   "source": [
    "azdias_imp.shape"
   ]
  },
  {
   "cell_type": "code",
   "execution_count": 66,
   "metadata": {},
   "outputs": [],
   "source": [
    "azdias_impdf = pd.DataFrame(azdias_imp, columns =azdias_engmixdrop.columns )"
   ]
  },
  {
   "cell_type": "code",
   "execution_count": 67,
   "metadata": {},
   "outputs": [
    {
     "data": {
      "text/html": [
       "<div>\n",
       "<style scoped>\n",
       "    .dataframe tbody tr th:only-of-type {\n",
       "        vertical-align: middle;\n",
       "    }\n",
       "\n",
       "    .dataframe tbody tr th {\n",
       "        vertical-align: top;\n",
       "    }\n",
       "\n",
       "    .dataframe thead th {\n",
       "        text-align: right;\n",
       "    }\n",
       "</style>\n",
       "<table border=\"1\" class=\"dataframe\">\n",
       "  <thead>\n",
       "    <tr style=\"text-align: right;\">\n",
       "      <th></th>\n",
       "      <th>ALTERSKATEGORIE_GROB</th>\n",
       "      <th>ANREDE_KZ</th>\n",
       "      <th>FINANZ_MINIMALIST</th>\n",
       "      <th>FINANZ_SPARER</th>\n",
       "      <th>FINANZ_VORSORGER</th>\n",
       "      <th>FINANZ_ANLEGER</th>\n",
       "      <th>FINANZ_UNAUFFAELLIGER</th>\n",
       "      <th>FINANZ_HAUSBAUER</th>\n",
       "      <th>GREEN_AVANTGARDE</th>\n",
       "      <th>HEALTH_TYP</th>\n",
       "      <th>...</th>\n",
       "      <th>PLZ8_ANTG4</th>\n",
       "      <th>PLZ8_HHZ</th>\n",
       "      <th>PLZ8_GBZ</th>\n",
       "      <th>ARBEIT</th>\n",
       "      <th>ORTSGR_KLS9</th>\n",
       "      <th>RELAT_AB</th>\n",
       "      <th>PRAEGENDE_JUGENDJAHRE_DECADE</th>\n",
       "      <th>PRAEGENDE_JUGENDJAHRE_MOVEMENT</th>\n",
       "      <th>CAMEO_INTL_2015_WEALTH</th>\n",
       "      <th>CAMEO_INTL_2015_STAGE</th>\n",
       "    </tr>\n",
       "  </thead>\n",
       "  <tbody>\n",
       "    <tr>\n",
       "      <th>0</th>\n",
       "      <td>1.0</td>\n",
       "      <td>2.0</td>\n",
       "      <td>1.0</td>\n",
       "      <td>5.0</td>\n",
       "      <td>2.0</td>\n",
       "      <td>5.0</td>\n",
       "      <td>4.0</td>\n",
       "      <td>5.0</td>\n",
       "      <td>0.0</td>\n",
       "      <td>3.0</td>\n",
       "      <td>...</td>\n",
       "      <td>1.0</td>\n",
       "      <td>5.0</td>\n",
       "      <td>4.0</td>\n",
       "      <td>3.0</td>\n",
       "      <td>5.0</td>\n",
       "      <td>4.0</td>\n",
       "      <td>6.0</td>\n",
       "      <td>0.0</td>\n",
       "      <td>5.0</td>\n",
       "      <td>1.0</td>\n",
       "    </tr>\n",
       "    <tr>\n",
       "      <th>1</th>\n",
       "      <td>3.0</td>\n",
       "      <td>2.0</td>\n",
       "      <td>1.0</td>\n",
       "      <td>4.0</td>\n",
       "      <td>1.0</td>\n",
       "      <td>2.0</td>\n",
       "      <td>3.0</td>\n",
       "      <td>5.0</td>\n",
       "      <td>1.0</td>\n",
       "      <td>3.0</td>\n",
       "      <td>...</td>\n",
       "      <td>0.0</td>\n",
       "      <td>4.0</td>\n",
       "      <td>4.0</td>\n",
       "      <td>3.0</td>\n",
       "      <td>5.0</td>\n",
       "      <td>2.0</td>\n",
       "      <td>6.0</td>\n",
       "      <td>1.0</td>\n",
       "      <td>2.0</td>\n",
       "      <td>4.0</td>\n",
       "    </tr>\n",
       "    <tr>\n",
       "      <th>2</th>\n",
       "      <td>4.0</td>\n",
       "      <td>2.0</td>\n",
       "      <td>4.0</td>\n",
       "      <td>2.0</td>\n",
       "      <td>5.0</td>\n",
       "      <td>2.0</td>\n",
       "      <td>1.0</td>\n",
       "      <td>2.0</td>\n",
       "      <td>0.0</td>\n",
       "      <td>2.0</td>\n",
       "      <td>...</td>\n",
       "      <td>0.0</td>\n",
       "      <td>3.0</td>\n",
       "      <td>4.0</td>\n",
       "      <td>2.0</td>\n",
       "      <td>3.0</td>\n",
       "      <td>3.0</td>\n",
       "      <td>4.0</td>\n",
       "      <td>0.0</td>\n",
       "      <td>1.0</td>\n",
       "      <td>2.0</td>\n",
       "    </tr>\n",
       "    <tr>\n",
       "      <th>3</th>\n",
       "      <td>3.0</td>\n",
       "      <td>1.0</td>\n",
       "      <td>4.0</td>\n",
       "      <td>3.0</td>\n",
       "      <td>4.0</td>\n",
       "      <td>1.0</td>\n",
       "      <td>3.0</td>\n",
       "      <td>2.0</td>\n",
       "      <td>0.0</td>\n",
       "      <td>3.0</td>\n",
       "      <td>...</td>\n",
       "      <td>1.0</td>\n",
       "      <td>3.0</td>\n",
       "      <td>3.0</td>\n",
       "      <td>4.0</td>\n",
       "      <td>6.0</td>\n",
       "      <td>5.0</td>\n",
       "      <td>4.0</td>\n",
       "      <td>0.0</td>\n",
       "      <td>4.0</td>\n",
       "      <td>3.0</td>\n",
       "    </tr>\n",
       "    <tr>\n",
       "      <th>4</th>\n",
       "      <td>1.0</td>\n",
       "      <td>2.0</td>\n",
       "      <td>3.0</td>\n",
       "      <td>1.0</td>\n",
       "      <td>5.0</td>\n",
       "      <td>2.0</td>\n",
       "      <td>2.0</td>\n",
       "      <td>5.0</td>\n",
       "      <td>0.0</td>\n",
       "      <td>3.0</td>\n",
       "      <td>...</td>\n",
       "      <td>1.0</td>\n",
       "      <td>5.0</td>\n",
       "      <td>5.0</td>\n",
       "      <td>2.0</td>\n",
       "      <td>3.0</td>\n",
       "      <td>3.0</td>\n",
       "      <td>2.0</td>\n",
       "      <td>0.0</td>\n",
       "      <td>5.0</td>\n",
       "      <td>4.0</td>\n",
       "    </tr>\n",
       "  </tbody>\n",
       "</table>\n",
       "<p>5 rows × 67 columns</p>\n",
       "</div>"
      ],
      "text/plain": [
       "   ALTERSKATEGORIE_GROB  ANREDE_KZ  FINANZ_MINIMALIST  FINANZ_SPARER  \\\n",
       "0                   1.0        2.0                1.0            5.0   \n",
       "1                   3.0        2.0                1.0            4.0   \n",
       "2                   4.0        2.0                4.0            2.0   \n",
       "3                   3.0        1.0                4.0            3.0   \n",
       "4                   1.0        2.0                3.0            1.0   \n",
       "\n",
       "   FINANZ_VORSORGER  FINANZ_ANLEGER  FINANZ_UNAUFFAELLIGER  FINANZ_HAUSBAUER  \\\n",
       "0               2.0             5.0                    4.0               5.0   \n",
       "1               1.0             2.0                    3.0               5.0   \n",
       "2               5.0             2.0                    1.0               2.0   \n",
       "3               4.0             1.0                    3.0               2.0   \n",
       "4               5.0             2.0                    2.0               5.0   \n",
       "\n",
       "   GREEN_AVANTGARDE  HEALTH_TYP          ...            PLZ8_ANTG4  PLZ8_HHZ  \\\n",
       "0               0.0         3.0          ...                   1.0       5.0   \n",
       "1               1.0         3.0          ...                   0.0       4.0   \n",
       "2               0.0         2.0          ...                   0.0       3.0   \n",
       "3               0.0         3.0          ...                   1.0       3.0   \n",
       "4               0.0         3.0          ...                   1.0       5.0   \n",
       "\n",
       "   PLZ8_GBZ  ARBEIT  ORTSGR_KLS9  RELAT_AB  PRAEGENDE_JUGENDJAHRE_DECADE  \\\n",
       "0       4.0     3.0          5.0       4.0                           6.0   \n",
       "1       4.0     3.0          5.0       2.0                           6.0   \n",
       "2       4.0     2.0          3.0       3.0                           4.0   \n",
       "3       3.0     4.0          6.0       5.0                           4.0   \n",
       "4       5.0     2.0          3.0       3.0                           2.0   \n",
       "\n",
       "   PRAEGENDE_JUGENDJAHRE_MOVEMENT  CAMEO_INTL_2015_WEALTH  \\\n",
       "0                             0.0                     5.0   \n",
       "1                             1.0                     2.0   \n",
       "2                             0.0                     1.0   \n",
       "3                             0.0                     4.0   \n",
       "4                             0.0                     5.0   \n",
       "\n",
       "   CAMEO_INTL_2015_STAGE  \n",
       "0                    1.0  \n",
       "1                    4.0  \n",
       "2                    2.0  \n",
       "3                    3.0  \n",
       "4                    4.0  \n",
       "\n",
       "[5 rows x 67 columns]"
      ]
     },
     "execution_count": 67,
     "metadata": {},
     "output_type": "execute_result"
    }
   ],
   "source": [
    "azdias_impdf.head()"
   ]
  },
  {
   "cell_type": "code",
   "execution_count": 68,
   "metadata": {},
   "outputs": [],
   "source": [
    "#azdias_dropna.describe()"
   ]
  },
  {
   "cell_type": "code",
   "execution_count": 69,
   "metadata": {},
   "outputs": [],
   "source": [
    "# Apply feature scaling to the general population demographics data.\n",
    "ss =  StandardScaler()\n"
   ]
  },
  {
   "cell_type": "code",
   "execution_count": 47,
   "metadata": {},
   "outputs": [],
   "source": [
    "#azdias_ss_ft = ss.fit_transform(azdias_dropna)"
   ]
  },
  {
   "cell_type": "code",
   "execution_count": 169,
   "metadata": {},
   "outputs": [],
   "source": [
    "#[np.std(i) for i in azdias_ss_ft]"
   ]
  },
  {
   "cell_type": "code",
   "execution_count": 170,
   "metadata": {},
   "outputs": [],
   "source": [
    "#azdias_impover30\n",
    "#azimp_ss_ftover30 = ss.fit_transform(azdias_impover30)"
   ]
  },
  {
   "cell_type": "code",
   "execution_count": 74,
   "metadata": {},
   "outputs": [],
   "source": [
    "\n",
    "azimp_ss = ss.fit_transform(azdias_impdf)"
   ]
  },
  {
   "cell_type": "code",
   "execution_count": 337,
   "metadata": {},
   "outputs": [],
   "source": [
    "#azimp_ss_ft = ss.fit_transform(azdias_imp)"
   ]
  },
  {
   "cell_type": "code",
   "execution_count": 76,
   "metadata": {},
   "outputs": [
    {
     "data": {
      "text/plain": [
       "(798067, 67)"
      ]
     },
     "execution_count": 76,
     "metadata": {},
     "output_type": "execute_result"
    }
   ],
   "source": [
    "azimp_ss.shape"
   ]
  },
  {
   "cell_type": "code",
   "execution_count": 78,
   "metadata": {},
   "outputs": [],
   "source": [
    "#623209/798067"
   ]
  },
  {
   "cell_type": "markdown",
   "metadata": {},
   "source": [
    "### Discussion 2.1: Apply Feature Scaling\n",
    "\n",
    "(Double-click this cell and replace this text with your own text, reporting your decisions regarding feature scaling.)\n",
    "\n",
    "Rows with NaNs were almost dropped since this retains over 78% of the data. However, since this process dropped to much of the customer data later on, Imputer was used to be consistent. StandardScaler with fit_transform was then applied to the data frame with a mean = 0 and std = 1."
   ]
  },
  {
   "cell_type": "markdown",
   "metadata": {},
   "source": [
    "### Step 2.2: Perform Dimensionality Reduction\n",
    "\n",
    "On your scaled data, you are now ready to apply dimensionality reduction techniques.\n",
    "\n",
    "- Use sklearn's [PCA](http://scikit-learn.org/stable/modules/generated/sklearn.decomposition.PCA.html) class to apply principal component analysis on the data, thus finding the vectors of maximal variance in the data. To start, you should not set any parameters (so all components are computed) or set a number of components that is at least half the number of features (so there's enough features to see the general trend in variability).\n",
    "- Check out the ratio of variance explained by each principal component as well as the cumulative variance explained. Try plotting the cumulative or sequential values using matplotlib's [`plot()`](https://matplotlib.org/api/_as_gen/matplotlib.pyplot.plot.html) function. Based on what you find, select a value for the number of transformed features you'll retain for the clustering part of the project.\n",
    "- Once you've made a choice for the number of components to keep, make sure you re-fit a PCA instance to perform the decided-on transformation."
   ]
  },
  {
   "cell_type": "code",
   "execution_count": 79,
   "metadata": {},
   "outputs": [],
   "source": [
    "# Apply PCA to the data.\n",
    "pca = PCA(n_components=40)\n"
   ]
  },
  {
   "cell_type": "code",
   "execution_count": 80,
   "metadata": {},
   "outputs": [],
   "source": [
    "#azdias_pca = pca.fit_transform(azdias_ss_ft)\n",
    "\n",
    "azimp_pca = pca.fit_transform(azimp_ss)"
   ]
  },
  {
   "cell_type": "code",
   "execution_count": 81,
   "metadata": {},
   "outputs": [
    {
     "data": {
      "text/plain": [
       "(798067, 40)"
      ]
     },
     "execution_count": 81,
     "metadata": {},
     "output_type": "execute_result"
    }
   ],
   "source": [
    "#azdias_pca\n",
    "azimp_pca.shape"
   ]
  },
  {
   "cell_type": "code",
   "execution_count": 82,
   "metadata": {},
   "outputs": [
    {
     "data": {
      "text/plain": [
       "array([ 11.21738573,   8.65172726,   6.06763367,   3.76410582,\n",
       "         2.71950017,   2.2222459 ,   2.05080413,   1.72318974,\n",
       "         1.53298386,   1.42119422,   1.35897047,   1.33090881,\n",
       "         1.19742616,   1.16785895,   1.07474955,   1.04292965,\n",
       "         0.99981795,   0.93369638,   0.8449338 ,   0.83232974,\n",
       "         0.79731002,   0.77095725,   0.74565832,   0.72718662,\n",
       "         0.70468822,   0.64380312,   0.59403156,   0.50446433,\n",
       "         0.49040809,   0.47373231,   0.46259677,   0.44461982,\n",
       "         0.43753553,   0.41841317,   0.400294  ,   0.39286967,\n",
       "         0.38330639,   0.34457839,   0.32864865,   0.30773742])"
      ]
     },
     "execution_count": 82,
     "metadata": {},
     "output_type": "execute_result"
    }
   ],
   "source": [
    "# Investigate the variance accounted for by each principal component.\n",
    "\n",
    "pca.explained_variance_ "
   ]
  },
  {
   "cell_type": "code",
   "execution_count": 83,
   "metadata": {},
   "outputs": [
    {
     "data": {
      "text/plain": [
       "0.93324109374474151"
      ]
     },
     "execution_count": 83,
     "metadata": {},
     "output_type": "execute_result"
    }
   ],
   "source": [
    "pca.explained_variance_ratio_.sum()"
   ]
  },
  {
   "cell_type": "code",
   "execution_count": null,
   "metadata": {},
   "outputs": [],
   "source": [
    "#x = np.linspace(0,len(pca.explained_variance_ratio_ ), num = len(pca.explained_variance_ratio_ ))\n",
    "#len(x), len(pca.explained_variance_ratio_ )"
   ]
  },
  {
   "cell_type": "code",
   "execution_count": 84,
   "metadata": {},
   "outputs": [
    {
     "data": {
      "image/png": "[encoded data removed]",
      "text/plain": [
       "<matplotlib.figure.Figure at 0x7fd66cafdc18>"
      ]
     },
     "metadata": {
      "needs_background": "light"
     },
     "output_type": "display_data"
    }
   ],
   "source": [
    "#the ratio plot looks the same\n",
    "plt.figure()\n",
    "x = np.linspace(0,len(pca.explained_variance_ratio_  ), num = len(pca.explained_variance_ratio_  ))\n",
    "plt.plot(x, pca.explained_variance_ratio_, 'r.')\n",
    "plt.xlabel('components')\n",
    "plt.ylabel('explained variance ratio')\n",
    "plt.show()\n"
   ]
  },
  {
   "cell_type": "code",
   "execution_count": 85,
   "metadata": {},
   "outputs": [],
   "source": [
    "def scree_plot(pca):\n",
    "    '''\n",
    "    Creates a scree plot associated with the principal components \n",
    "    \n",
    "    INPUT: pca - the result of instantian of PCA in scikit learn\n",
    "            \n",
    "    OUTPUT:\n",
    "            None\n",
    "    '''\n",
    "    num_components=len(pca.explained_variance_ratio_)\n",
    "    ind = np.arange(num_components)\n",
    "    vals = pca.explained_variance_ratio_\n",
    " \n",
    "    plt.figure(figsize=(10, 6))\n",
    "    ax = plt.subplot(111)\n",
    "    cumvals = np.cumsum(vals)\n",
    "    ax.bar(ind, vals)\n",
    "    ax.plot(ind, cumvals)\n",
    "    for i in range(num_components):\n",
    "        ax.annotate(r\"%s%%\" % ((str(vals[i]*100)[:4])), (ind[i]+0.2, vals[i]), va=\"bottom\", ha=\"center\", fontsize=12)\n",
    " \n",
    "    ax.xaxis.set_tick_params(width=0)\n",
    "    ax.yaxis.set_tick_params(width=2, length=12)\n",
    " \n",
    "    ax.set_xlabel(\"Principal Component\")\n",
    "    ax.set_ylabel(\"Variance Explained (%)\")\n",
    "    plt.title('Explained Variance Per Principal Component')"
   ]
  },
  {
   "cell_type": "code",
   "execution_count": 86,
   "metadata": {},
   "outputs": [
    {
     "data": {
      "image/png": "[encoded data removed]",
      "text/plain": [
       "<matplotlib.figure.Figure at 0x7fd66cae2470>"
      ]
     },
     "metadata": {
      "needs_background": "light"
     },
     "output_type": "display_data"
    }
   ],
   "source": [
    "scree_plot(pca)"
   ]
  },
  {
   "cell_type": "code",
   "execution_count": 87,
   "metadata": {},
   "outputs": [],
   "source": [
    "# Re-apply PCA to the data while selecting for number of components to retain.\n",
    "pca = PCA(n_components= 8)\n"
   ]
  },
  {
   "cell_type": "code",
   "execution_count": 56,
   "metadata": {},
   "outputs": [],
   "source": [
    "#azdias_pca = pca.fit_transform(azdias_ss_ft) "
   ]
  },
  {
   "cell_type": "code",
   "execution_count": 88,
   "metadata": {},
   "outputs": [],
   "source": [
    "#azimp_pca = pca.fit_transform(azimp_ss_ft)\n",
    "\n",
    "azimp_pca = pca.fit_transform(azimp_ss)"
   ]
  },
  {
   "cell_type": "code",
   "execution_count": 348,
   "metadata": {},
   "outputs": [],
   "source": [
    "#azimp_pca = pca.fit_transform(azimp_ss_ftdf)"
   ]
  },
  {
   "cell_type": "code",
   "execution_count": 89,
   "metadata": {},
   "outputs": [
    {
     "data": {
      "text/plain": [
       "(798067, 8)"
      ]
     },
     "execution_count": 89,
     "metadata": {},
     "output_type": "execute_result"
    }
   ],
   "source": [
    "azimp_pca.shape"
   ]
  },
  {
   "cell_type": "code",
   "execution_count": 94,
   "metadata": {},
   "outputs": [
    {
     "data": {
      "text/html": [
       "<div>\n",
       "<style scoped>\n",
       "    .dataframe tbody tr th:only-of-type {\n",
       "        vertical-align: middle;\n",
       "    }\n",
       "\n",
       "    .dataframe tbody tr th {\n",
       "        vertical-align: top;\n",
       "    }\n",
       "\n",
       "    .dataframe thead th {\n",
       "        text-align: right;\n",
       "    }\n",
       "</style>\n",
       "<table border=\"1\" class=\"dataframe\">\n",
       "  <thead>\n",
       "    <tr style=\"text-align: right;\">\n",
       "      <th></th>\n",
       "      <th>ALTERSKATEGORIE_GROB</th>\n",
       "      <th>ANREDE_KZ</th>\n",
       "      <th>FINANZ_MINIMALIST</th>\n",
       "      <th>FINANZ_SPARER</th>\n",
       "      <th>FINANZ_VORSORGER</th>\n",
       "      <th>FINANZ_ANLEGER</th>\n",
       "      <th>FINANZ_UNAUFFAELLIGER</th>\n",
       "      <th>FINANZ_HAUSBAUER</th>\n",
       "      <th>GREEN_AVANTGARDE</th>\n",
       "      <th>HEALTH_TYP</th>\n",
       "      <th>...</th>\n",
       "      <th>PLZ8_ANTG4</th>\n",
       "      <th>PLZ8_HHZ</th>\n",
       "      <th>PLZ8_GBZ</th>\n",
       "      <th>ARBEIT</th>\n",
       "      <th>ORTSGR_KLS9</th>\n",
       "      <th>RELAT_AB</th>\n",
       "      <th>PRAEGENDE_JUGENDJAHRE_DECADE</th>\n",
       "      <th>PRAEGENDE_JUGENDJAHRE_MOVEMENT</th>\n",
       "      <th>CAMEO_INTL_2015_WEALTH</th>\n",
       "      <th>CAMEO_INTL_2015_STAGE</th>\n",
       "    </tr>\n",
       "  </thead>\n",
       "  <tbody>\n",
       "    <tr>\n",
       "      <th>0</th>\n",
       "      <td>1.0</td>\n",
       "      <td>2.0</td>\n",
       "      <td>1.0</td>\n",
       "      <td>5.0</td>\n",
       "      <td>2.0</td>\n",
       "      <td>5.0</td>\n",
       "      <td>4.0</td>\n",
       "      <td>5.0</td>\n",
       "      <td>0.0</td>\n",
       "      <td>3.0</td>\n",
       "      <td>...</td>\n",
       "      <td>1.0</td>\n",
       "      <td>5.0</td>\n",
       "      <td>4.0</td>\n",
       "      <td>3.0</td>\n",
       "      <td>5.0</td>\n",
       "      <td>4.0</td>\n",
       "      <td>6.0</td>\n",
       "      <td>0.0</td>\n",
       "      <td>5.0</td>\n",
       "      <td>1.0</td>\n",
       "    </tr>\n",
       "    <tr>\n",
       "      <th>1</th>\n",
       "      <td>3.0</td>\n",
       "      <td>2.0</td>\n",
       "      <td>1.0</td>\n",
       "      <td>4.0</td>\n",
       "      <td>1.0</td>\n",
       "      <td>2.0</td>\n",
       "      <td>3.0</td>\n",
       "      <td>5.0</td>\n",
       "      <td>1.0</td>\n",
       "      <td>3.0</td>\n",
       "      <td>...</td>\n",
       "      <td>0.0</td>\n",
       "      <td>4.0</td>\n",
       "      <td>4.0</td>\n",
       "      <td>3.0</td>\n",
       "      <td>5.0</td>\n",
       "      <td>2.0</td>\n",
       "      <td>6.0</td>\n",
       "      <td>1.0</td>\n",
       "      <td>2.0</td>\n",
       "      <td>4.0</td>\n",
       "    </tr>\n",
       "    <tr>\n",
       "      <th>2</th>\n",
       "      <td>4.0</td>\n",
       "      <td>2.0</td>\n",
       "      <td>4.0</td>\n",
       "      <td>2.0</td>\n",
       "      <td>5.0</td>\n",
       "      <td>2.0</td>\n",
       "      <td>1.0</td>\n",
       "      <td>2.0</td>\n",
       "      <td>0.0</td>\n",
       "      <td>2.0</td>\n",
       "      <td>...</td>\n",
       "      <td>0.0</td>\n",
       "      <td>3.0</td>\n",
       "      <td>4.0</td>\n",
       "      <td>2.0</td>\n",
       "      <td>3.0</td>\n",
       "      <td>3.0</td>\n",
       "      <td>4.0</td>\n",
       "      <td>0.0</td>\n",
       "      <td>1.0</td>\n",
       "      <td>2.0</td>\n",
       "    </tr>\n",
       "    <tr>\n",
       "      <th>3</th>\n",
       "      <td>3.0</td>\n",
       "      <td>1.0</td>\n",
       "      <td>4.0</td>\n",
       "      <td>3.0</td>\n",
       "      <td>4.0</td>\n",
       "      <td>1.0</td>\n",
       "      <td>3.0</td>\n",
       "      <td>2.0</td>\n",
       "      <td>0.0</td>\n",
       "      <td>3.0</td>\n",
       "      <td>...</td>\n",
       "      <td>1.0</td>\n",
       "      <td>3.0</td>\n",
       "      <td>3.0</td>\n",
       "      <td>4.0</td>\n",
       "      <td>6.0</td>\n",
       "      <td>5.0</td>\n",
       "      <td>4.0</td>\n",
       "      <td>0.0</td>\n",
       "      <td>4.0</td>\n",
       "      <td>3.0</td>\n",
       "    </tr>\n",
       "    <tr>\n",
       "      <th>4</th>\n",
       "      <td>1.0</td>\n",
       "      <td>2.0</td>\n",
       "      <td>3.0</td>\n",
       "      <td>1.0</td>\n",
       "      <td>5.0</td>\n",
       "      <td>2.0</td>\n",
       "      <td>2.0</td>\n",
       "      <td>5.0</td>\n",
       "      <td>0.0</td>\n",
       "      <td>3.0</td>\n",
       "      <td>...</td>\n",
       "      <td>1.0</td>\n",
       "      <td>5.0</td>\n",
       "      <td>5.0</td>\n",
       "      <td>2.0</td>\n",
       "      <td>3.0</td>\n",
       "      <td>3.0</td>\n",
       "      <td>2.0</td>\n",
       "      <td>0.0</td>\n",
       "      <td>5.0</td>\n",
       "      <td>4.0</td>\n",
       "    </tr>\n",
       "  </tbody>\n",
       "</table>\n",
       "<p>5 rows × 67 columns</p>\n",
       "</div>"
      ],
      "text/plain": [
       "   ALTERSKATEGORIE_GROB  ANREDE_KZ  FINANZ_MINIMALIST  FINANZ_SPARER  \\\n",
       "0                   1.0        2.0                1.0            5.0   \n",
       "1                   3.0        2.0                1.0            4.0   \n",
       "2                   4.0        2.0                4.0            2.0   \n",
       "3                   3.0        1.0                4.0            3.0   \n",
       "4                   1.0        2.0                3.0            1.0   \n",
       "\n",
       "   FINANZ_VORSORGER  FINANZ_ANLEGER  FINANZ_UNAUFFAELLIGER  FINANZ_HAUSBAUER  \\\n",
       "0               2.0             5.0                    4.0               5.0   \n",
       "1               1.0             2.0                    3.0               5.0   \n",
       "2               5.0             2.0                    1.0               2.0   \n",
       "3               4.0             1.0                    3.0               2.0   \n",
       "4               5.0             2.0                    2.0               5.0   \n",
       "\n",
       "   GREEN_AVANTGARDE  HEALTH_TYP          ...            PLZ8_ANTG4  PLZ8_HHZ  \\\n",
       "0               0.0         3.0          ...                   1.0       5.0   \n",
       "1               1.0         3.0          ...                   0.0       4.0   \n",
       "2               0.0         2.0          ...                   0.0       3.0   \n",
       "3               0.0         3.0          ...                   1.0       3.0   \n",
       "4               0.0         3.0          ...                   1.0       5.0   \n",
       "\n",
       "   PLZ8_GBZ  ARBEIT  ORTSGR_KLS9  RELAT_AB  PRAEGENDE_JUGENDJAHRE_DECADE  \\\n",
       "0       4.0     3.0          5.0       4.0                           6.0   \n",
       "1       4.0     3.0          5.0       2.0                           6.0   \n",
       "2       4.0     2.0          3.0       3.0                           4.0   \n",
       "3       3.0     4.0          6.0       5.0                           4.0   \n",
       "4       5.0     2.0          3.0       3.0                           2.0   \n",
       "\n",
       "   PRAEGENDE_JUGENDJAHRE_MOVEMENT  CAMEO_INTL_2015_WEALTH  \\\n",
       "0                             0.0                     5.0   \n",
       "1                             1.0                     2.0   \n",
       "2                             0.0                     1.0   \n",
       "3                             0.0                     4.0   \n",
       "4                             0.0                     5.0   \n",
       "\n",
       "   CAMEO_INTL_2015_STAGE  \n",
       "0                    1.0  \n",
       "1                    4.0  \n",
       "2                    2.0  \n",
       "3                    3.0  \n",
       "4                    4.0  \n",
       "\n",
       "[5 rows x 67 columns]"
      ]
     },
     "execution_count": 94,
     "metadata": {},
     "output_type": "execute_result"
    }
   ],
   "source": [
    "azdias_impdf.head()"
   ]
  },
  {
   "cell_type": "code",
   "execution_count": null,
   "metadata": {},
   "outputs": [],
   "source": []
  },
  {
   "cell_type": "code",
   "execution_count": 171,
   "metadata": {},
   "outputs": [],
   "source": [
    "#azimp_ss_ftover30\n",
    "#azdias_pcaover30 = pca.fit_transform(azimp_ss_ftover30) "
   ]
  },
  {
   "cell_type": "code",
   "execution_count": 95,
   "metadata": {},
   "outputs": [],
   "source": [
    "#pca.components_[0] "
   ]
  },
  {
   "cell_type": "code",
   "execution_count": null,
   "metadata": {},
   "outputs": [],
   "source": []
  },
  {
   "cell_type": "code",
   "execution_count": null,
   "metadata": {},
   "outputs": [],
   "source": []
  },
  {
   "cell_type": "code",
   "execution_count": 96,
   "metadata": {},
   "outputs": [],
   "source": [
    "#pca.components_.shape"
   ]
  },
  {
   "cell_type": "code",
   "execution_count": null,
   "metadata": {},
   "outputs": [],
   "source": [
    "#azcompca = pd.DataFrame(pca.components_,columns=azdias_dropna.columns) "
   ]
  },
  {
   "cell_type": "code",
   "execution_count": null,
   "metadata": {},
   "outputs": [],
   "source": [
    "#azcompca.describe()"
   ]
  },
  {
   "cell_type": "code",
   "execution_count": null,
   "metadata": {},
   "outputs": [],
   "source": [
    "#pd.DataFrame(pca.components_,columns=azdias_dropna.columns).hist(figsize=(16,26))"
   ]
  },
  {
   "cell_type": "markdown",
   "metadata": {},
   "source": [
    "### Discussion 2.2: Perform Dimensionality Reduction\n",
    "\n",
    "(Double-click this cell and replace this text with your own text, reporting your findings and decisions regarding dimensionality reduction. How many principal components / transformed features are you retaining for the next step of the analysis?)\n",
    "\n",
    "I'll be keeping 8 components since the variance rate change seems to flatten out around 8.\n"
   ]
  },
  {
   "cell_type": "markdown",
   "metadata": {},
   "source": [
    "### Step 2.3: Interpret Principal Components\n",
    "\n",
    "Now that we have our transformed principal components, it's a nice idea to check out the weight of each variable on the first few components to see if they can be interpreted in some fashion.\n",
    "\n",
    "As a reminder, each principal component is a unit vector that points in the direction of highest variance (after accounting for the variance captured by earlier principal components). The further a weight is from zero, the more the principal component is in the direction of the corresponding feature. If two features have large weights of the same sign (both positive or both negative), then increases in one tend expect to be associated with increases in the other. To contrast, features with different signs can be expected to show a negative correlation: increases in one variable should result in a decrease in the other.\n",
    "\n",
    "- To investigate the features, you should map each weight to their corresponding feature name, then sort the features according to weight. The most interesting features for each principal component, then, will be those at the beginning and end of the sorted list. Use the data dictionary document to help you understand these most prominent features, their relationships, and what a positive or negative value on the principal component might indicate.\n",
    "- You should investigate and interpret feature associations from the first three principal components in this substep. To help facilitate this, you should write a function that you can call at any time to print the sorted list of feature weights, for the *i*-th principal component. This might come in handy in the next step of the project, when you interpret the tendencies of the discovered clusters."
   ]
  },
  {
   "cell_type": "code",
   "execution_count": 97,
   "metadata": {},
   "outputs": [
    {
     "data": {
      "text/plain": [
       "MOBI_REGIO                       -0.240637\n",
       "KBA05_ANTG1                      -0.223926\n",
       "PLZ8_ANTG1                       -0.223315\n",
       "KBA05_GBZ                        -0.215729\n",
       "FINANZ_MINIMALIST                -0.210954\n",
       "KONSUMNAEHE                      -0.167344\n",
       "PLZ8_GBZ                         -0.164503\n",
       "INNENSTADT                       -0.163791\n",
       "LP_LEBENSPHASE_FEIN              -0.149851\n",
       "LP_LEBENSPHASE_GROB              -0.134703\n",
       "BALLRAUM                         -0.126821\n",
       "CAMEO_INTL_2015_STAGE            -0.120807\n",
       "GEBAEUDETYP_RASTER               -0.115888\n",
       "GREEN_AVANTGARDE                 -0.107790\n",
       "PRAEGENDE_JUGENDJAHRE_MOVEMENT   -0.105573\n",
       "ALTERSKATEGORIE_GROB             -0.100399\n",
       "ANZ_PERSONEN                     -0.096857\n",
       "FINANZ_VORSORGER                 -0.096611\n",
       "WOHNLAGE                         -0.086038\n",
       "KBA13_ANZAHL_PKW                 -0.076689\n",
       "SEMIO_ERL                        -0.061238\n",
       "ONLINE_AFFINITAET                -0.060833\n",
       "SEMIO_LUST                       -0.059516\n",
       "WOHNDAUER_2008                   -0.057476\n",
       "OST_WEST_KZ                      -0.052182\n",
       "MIN_GEBAEUDEJAHR                 -0.052085\n",
       "SEMIO_VERT                       -0.042415\n",
       "RETOURTYP_BK_S                   -0.007490\n",
       "ANZ_TITEL                        -0.004178\n",
       "SOHO_KZ                          -0.002248\n",
       "                                    ...   \n",
       "SEMIO_SOZ                         0.036709\n",
       "KKK                               0.040713\n",
       "PLZ8_HHZ                          0.042550\n",
       "SEMIO_KAEM                        0.043366\n",
       "FINANZ_ANLEGER                    0.053122\n",
       "W_KEIT_KIND_HH                    0.054916\n",
       "SEMIO_KULT                        0.057996\n",
       "FINANZ_UNAUFFAELLIGER             0.058635\n",
       "SEMIO_FAM                         0.065794\n",
       "SEMIO_MAT                         0.066920\n",
       "REGIOTYP                          0.070499\n",
       "SEMIO_TRADV                       0.072351\n",
       "SEMIO_RAT                         0.080255\n",
       "PRAEGENDE_JUGENDJAHRE_DECADE      0.082502\n",
       "SEMIO_REL                         0.094210\n",
       "SEMIO_PFLICHT                     0.097810\n",
       "FINANZ_SPARER                     0.127759\n",
       "KBA05_ANTG3                       0.134549\n",
       "RELAT_AB                          0.135153\n",
       "ANZ_HAUSHALTE_AKTIV               0.135378\n",
       "ARBEIT                            0.143252\n",
       "KBA05_ANTG4                       0.151521\n",
       "PLZ8_ANTG2                        0.153725\n",
       "FINANZ_HAUSBAUER                  0.166096\n",
       "EWDICHTE                          0.195744\n",
       "ORTSGR_KLS9                       0.197801\n",
       "HH_EINKOMMEN_SCORE                0.203447\n",
       "CAMEO_INTL_2015_WEALTH            0.205022\n",
       "PLZ8_ANTG4                        0.217069\n",
       "PLZ8_ANTG3                        0.224558\n",
       "Name: 0, Length: 67, dtype: float64"
      ]
     },
     "execution_count": 97,
     "metadata": {},
     "output_type": "execute_result"
    }
   ],
   "source": [
    "# Map weights for the first principal component to corresponding feature names\n",
    "# and then print the linked values, sorted by weight.\n",
    "# HINT: Try defining a function here or in a new cell that you can reuse in the\n",
    "# other cells.\n",
    "azcompca = pd.DataFrame(pca.components_,columns=azdias_impdf.columns)\n",
    "azcompca.iloc[0].sort_values()"
   ]
  },
  {
   "cell_type": "code",
   "execution_count": 98,
   "metadata": {},
   "outputs": [
    {
     "data": {
      "text/plain": [
       "SEMIO_REL                      -0.261079\n",
       "PRAEGENDE_JUGENDJAHRE_DECADE   -0.257783\n",
       "FINANZ_SPARER                  -0.245762\n",
       "SEMIO_TRADV                    -0.236400\n",
       "SEMIO_PFLICHT                  -0.235150\n",
       "FINANZ_UNAUFFAELLIGER          -0.231355\n",
       "SEMIO_KULT                     -0.222441\n",
       "FINANZ_ANLEGER                 -0.210014\n",
       "SEMIO_FAM                      -0.187677\n",
       "SEMIO_RAT                      -0.177465\n",
       "SEMIO_MAT                      -0.167739\n",
       "ONLINE_AFFINITAET              -0.163032\n",
       "SEMIO_SOZ                      -0.104138\n",
       "PLZ8_ANTG1                     -0.070292\n",
       "KBA05_GBZ                      -0.068671\n",
       "MOBI_REGIO                     -0.067451\n",
       "SEMIO_VERT                     -0.064937\n",
       "INNENSTADT                     -0.060705\n",
       "ANZ_PERSONEN                   -0.060133\n",
       "HEALTH_TYP                     -0.059565\n",
       "KBA05_ANTG1                    -0.058662\n",
       "KONSUMNAEHE                    -0.055947\n",
       "PLZ8_GBZ                       -0.055908\n",
       "BALLRAUM                       -0.050122\n",
       "WOHNLAGE                       -0.048145\n",
       "MIN_GEBAEUDEJAHR               -0.045485\n",
       "LP_LEBENSPHASE_GROB            -0.039601\n",
       "GEBAEUDETYP_RASTER             -0.033590\n",
       "LP_LEBENSPHASE_FEIN            -0.032396\n",
       "KBA13_ANZAHL_PKW               -0.028485\n",
       "                                  ...   \n",
       "PLZ8_HHZ                        0.010312\n",
       "CAMEO_INTL_2015_STAGE           0.012557\n",
       "REGIOTYP                        0.014635\n",
       "ANZ_HH_TITEL                    0.027972\n",
       "KBA05_ANTG3                     0.031311\n",
       "VERS_TYP                        0.032042\n",
       "HH_EINKOMMEN_SCORE              0.039857\n",
       "ANZ_HAUSHALTE_AKTIV             0.051280\n",
       "PLZ8_ANTG2                      0.051365\n",
       "RELAT_AB                        0.053938\n",
       "KBA05_ANTG4                     0.054777\n",
       "ARBEIT                          0.055868\n",
       "CAMEO_INTL_2015_WEALTH          0.056731\n",
       "WOHNDAUER_2008                  0.063572\n",
       "SEMIO_DOM                       0.068356\n",
       "PLZ8_ANTG4                      0.069480\n",
       "PLZ8_ANTG3                      0.073489\n",
       "ORTSGR_KLS9                     0.075160\n",
       "EWDICHTE                        0.076445\n",
       "FINANZ_MINIMALIST               0.083000\n",
       "ANREDE_KZ                       0.087523\n",
       "FINANZ_HAUSBAUER                0.104215\n",
       "SEMIO_KAEM                      0.107236\n",
       "SEMIO_KRIT                      0.114094\n",
       "W_KEIT_KIND_HH                  0.120521\n",
       "RETOURTYP_BK_S                  0.164254\n",
       "SEMIO_LUST                      0.187722\n",
       "SEMIO_ERL                       0.233733\n",
       "FINANZ_VORSORGER                0.240449\n",
       "ALTERSKATEGORIE_GROB            0.267354\n",
       "Name: 1, Length: 67, dtype: float64"
      ]
     },
     "execution_count": 98,
     "metadata": {},
     "output_type": "execute_result"
    }
   ],
   "source": [
    "# Map weights for the second principal component to corresponding feature names\n",
    "# and then print the linked values, sorted by weight.\n",
    "azcompca.iloc[1].sort_values()\n"
   ]
  },
  {
   "cell_type": "code",
   "execution_count": 100,
   "metadata": {},
   "outputs": [
    {
     "data": {
      "text/plain": [
       "ANREDE_KZ                        -0.368926\n",
       "SEMIO_KAEM                       -0.337173\n",
       "SEMIO_DOM                        -0.313627\n",
       "SEMIO_KRIT                       -0.276457\n",
       "SEMIO_RAT                        -0.216897\n",
       "FINANZ_ANLEGER                   -0.189121\n",
       "SEMIO_ERL                        -0.177369\n",
       "PRAEGENDE_JUGENDJAHRE_DECADE     -0.106691\n",
       "FINANZ_SPARER                    -0.105780\n",
       "FINANZ_UNAUFFAELLIGER            -0.098317\n",
       "SEMIO_TRADV                      -0.077928\n",
       "SEMIO_PFLICHT                    -0.077844\n",
       "ONLINE_AFFINITAET                -0.053425\n",
       "FINANZ_HAUSBAUER                 -0.043912\n",
       "PLZ8_ANTG1                       -0.043788\n",
       "INNENSTADT                       -0.042191\n",
       "KONSUMNAEHE                      -0.036733\n",
       "PLZ8_GBZ                         -0.036414\n",
       "BALLRAUM                         -0.034607\n",
       "GEBAEUDETYP_RASTER               -0.029185\n",
       "MOBI_REGIO                       -0.026867\n",
       "KBA05_GBZ                        -0.024278\n",
       "HEALTH_TYP                       -0.023394\n",
       "WOHNLAGE                         -0.022727\n",
       "KBA13_ANZAHL_PKW                 -0.022328\n",
       "HH_EINKOMMEN_SCORE               -0.021252\n",
       "KBA05_ANTG1                      -0.020721\n",
       "MIN_GEBAEUDEJAHR                 -0.017801\n",
       "KKK                              -0.015243\n",
       "OST_WEST_KZ                      -0.013889\n",
       "                                    ...   \n",
       "PLZ8_HHZ                          0.004534\n",
       "KBA05_ANTG3                       0.006654\n",
       "ANZ_TITEL                         0.009745\n",
       "VERS_TYP                          0.011628\n",
       "ANZ_HH_TITEL                      0.012943\n",
       "ANZ_HAUSHALTE_AKTIV               0.023905\n",
       "KBA05_ANTG4                       0.025089\n",
       "CAMEO_INTL_2015_WEALTH            0.025140\n",
       "PLZ8_ANTG2                        0.029403\n",
       "RELAT_AB                          0.031441\n",
       "WOHNDAUER_2008                    0.032995\n",
       "ARBEIT                            0.034372\n",
       "PLZ8_ANTG3                        0.043490\n",
       "PLZ8_ANTG4                        0.043611\n",
       "EWDICHTE                          0.045998\n",
       "ORTSGR_KLS9                       0.046826\n",
       "PRAEGENDE_JUGENDJAHRE_MOVEMENT    0.048053\n",
       "GREEN_AVANTGARDE                  0.050025\n",
       "SEMIO_MAT                         0.056058\n",
       "SEMIO_LUST                        0.063756\n",
       "SEMIO_REL                         0.070283\n",
       "ALTERSKATEGORIE_GROB              0.077805\n",
       "W_KEIT_KIND_HH                    0.089893\n",
       "FINANZ_VORSORGER                  0.100389\n",
       "RETOURTYP_BK_S                    0.107558\n",
       "FINANZ_MINIMALIST                 0.156974\n",
       "SEMIO_KULT                        0.236021\n",
       "SEMIO_FAM                         0.250419\n",
       "SEMIO_SOZ                         0.262700\n",
       "SEMIO_VERT                        0.345656\n",
       "Name: 2, Length: 67, dtype: float64"
      ]
     },
     "execution_count": 100,
     "metadata": {},
     "output_type": "execute_result"
    }
   ],
   "source": [
    "# Map weights for the third principal component to corresponding feature names\n",
    "# and then print the linked values, sorted by weight.\n",
    "\n",
    "azcompca.iloc[2].sort_values()"
   ]
  },
  {
   "cell_type": "markdown",
   "metadata": {},
   "source": [
    "### Discussion 2.3: Interpret Principal Components\n",
    "\n",
    "(Double-click this cell and replace this text with your own text, reporting your observations from detailed investigation of the first few principal components generated. Can we interpret positive and negative values from them in a meaningful way?)\n",
    "\n",
    "The first component does not seem to be correlated with the next two. However, the second and third seem to be somewhat negatively correlated, since features like SEMIO_KULT and SEMIO_REL have strong negative weights in the second and strong positive weights in the third."
   ]
  },
  {
   "cell_type": "markdown",
   "metadata": {},
   "source": [
    "## Step 3: Clustering\n",
    "\n",
    "### Step 3.1: Apply Clustering to General Population\n",
    "\n",
    "You've assessed and cleaned the demographics data, then scaled and transformed them. Now, it's time to see how the data clusters in the principal components space. In this substep, you will apply k-means clustering to the dataset and use the average within-cluster distances from each point to their assigned cluster's centroid to decide on a number of clusters to keep.\n",
    "\n",
    "- Use sklearn's [KMeans](http://scikit-learn.org/stable/modules/generated/sklearn.cluster.KMeans.html#sklearn.cluster.KMeans) class to perform k-means clustering on the PCA-transformed data.\n",
    "- Then, compute the average difference from each point to its assigned cluster's center. **Hint**: The KMeans object's `.score()` method might be useful here, but note that in sklearn, scores tend to be defined so that larger is better. Try applying it to a small, toy dataset, or use an internet search to help your understanding.\n",
    "- Perform the above two steps for a number of different cluster counts. You can then see how the average distance decreases with an increasing number of clusters. However, each additional cluster provides a smaller net benefit. Use this fact to select a final number of clusters in which to group the data. **Warning**: because of the large size of the dataset, it can take a long time for the algorithm to resolve. The more clusters to fit, the longer the algorithm will take. You should test for cluster counts through at least 10 clusters to get the full picture, but you shouldn't need to test for a number of clusters above about 30.\n",
    "- Once you've selected a final number of clusters to use, re-fit a KMeans instance to perform the clustering operation. Make sure that you also obtain the cluster assignments for the general demographics data, since you'll be using them in the final Step 3.3."
   ]
  },
  {
   "cell_type": "code",
   "execution_count": 101,
   "metadata": {},
   "outputs": [],
   "source": [
    "# Over a number of different cluster counts...\n",
    "kmeans = KMeans(n_clusters=10)\n",
    "\n",
    "# run k-means clustering on the data and...\n",
    "#pred = kmeans.fit_predict(azdias_pca)\n",
    "\n",
    "#azimp_pca\n",
    " \n",
    "az_pred = kmeans.fit_predict(azimp_pca)\n",
    " \n",
    "    "
   ]
  },
  {
   "cell_type": "code",
   "execution_count": 104,
   "metadata": {},
   "outputs": [
    {
     "data": {
      "text/plain": [
       "3.8866703652664798"
      ]
     },
     "execution_count": 104,
     "metadata": {},
     "output_type": "execute_result"
    }
   ],
   "source": [
    "# compute the average within-cluster distances.\n",
    "\n",
    "azavdn = []\n",
    "for i,j in enumerate(az_pred):\n",
    "    azavdn.append(np.linalg.norm(azimp_pca[i]-kmeans.cluster_centers_[j]))\n",
    "\n",
    "azavdmn = np.mean(azavdn)\n",
    "azavdsn = np.sum(azavdn)\n",
    "azavdmn "
   ]
  },
  {
   "cell_type": "code",
   "execution_count": 105,
   "metadata": {},
   "outputs": [
    {
     "data": {
      "text/plain": [
       "10034212.718941091"
      ]
     },
     "execution_count": 105,
     "metadata": {},
     "output_type": "execute_result"
    }
   ],
   "source": [
    "kmeans.inertia_"
   ]
  },
  {
   "cell_type": "code",
   "execution_count": 254,
   "metadata": {},
   "outputs": [
    {
     "data": {
      "text/plain": [
       "'from sklearn.datasets.samples_generator import make_blobs\\nXb, y_trueb = make_blobs(n_samples=300, centers=4,\\n                       cluster_std=0.60, random_state=0)\\nplt.scatter(Xb[:, 0], Xb[:, 1], s=50);'"
      ]
     },
     "execution_count": 254,
     "metadata": {},
     "output_type": "execute_result"
    }
   ],
   "source": [
    "'''from sklearn.datasets.samples_generator import make_blobs\n",
    "Xb, y_trueb = make_blobs(n_samples=300, centers=4,\n",
    "                       cluster_std=0.60, random_state=0)\n",
    "plt.scatter(Xb[:, 0], Xb[:, 1], s=50);'''"
   ]
  },
  {
   "cell_type": "code",
   "execution_count": 255,
   "metadata": {},
   "outputs": [
    {
     "data": {
      "text/plain": [
       "'kmeansb = KMeans(n_clusters=4)\\nkmeansb.fit(Xb)\\ny_kmeansb = kmeansb.predict(Xb)'"
      ]
     },
     "execution_count": 255,
     "metadata": {},
     "output_type": "execute_result"
    }
   ],
   "source": [
    "'''kmeansb = KMeans(n_clusters=4)\n",
    "kmeansb.fit(Xb)\n",
    "y_kmeansb = kmeansb.predict(Xb)'''"
   ]
  },
  {
   "cell_type": "code",
   "execution_count": 256,
   "metadata": {},
   "outputs": [
    {
     "data": {
      "text/plain": [
       "\"plt.scatter(Xb[:, 0], Xb[:, 1], c=y_kmeansb, s=50, cmap='viridis')\\n\\ncentersb = kmeansb.cluster_centers_\\nplt.scatter(centersb[:, 0], centersb[:, 1], c='black', s=200, alpha=0.5);\""
      ]
     },
     "execution_count": 256,
     "metadata": {},
     "output_type": "execute_result"
    }
   ],
   "source": [
    "'''plt.scatter(Xb[:, 0], Xb[:, 1], c=y_kmeansb, s=50, cmap='viridis')\n",
    "\n",
    "centersb = kmeansb.cluster_centers_\n",
    "plt.scatter(centersb[:, 0], centersb[:, 1], c='black', s=200, alpha=0.5);'''"
   ]
  },
  {
   "cell_type": "code",
   "execution_count": 257,
   "metadata": {},
   "outputs": [],
   "source": [
    "#kmeansb.inertia_"
   ]
  },
  {
   "cell_type": "code",
   "execution_count": 258,
   "metadata": {},
   "outputs": [],
   "source": [
    "#kmeansb.score(Xb)"
   ]
  },
  {
   "cell_type": "code",
   "execution_count": 259,
   "metadata": {},
   "outputs": [
    {
     "data": {
      "text/plain": [
       "'avd = []\\nfor i,j  in enumerate(y_kmeansb):\\n    avd.append(euclidean(Xb[i],centersb[j])**2)\\n\\navdm = np.mean(avd)\\navds = np.sum(avd)\\navds   '"
      ]
     },
     "execution_count": 259,
     "metadata": {},
     "output_type": "execute_result"
    }
   ],
   "source": [
    "'''avd = []\n",
    "for i,j  in enumerate(y_kmeansb):\n",
    "    avd.append(euclidean(Xb[i],centersb[j])**2)\n",
    "\n",
    "avdm = np.mean(avd)\n",
    "avds = np.sum(avd)\n",
    "avds   '''"
   ]
  },
  {
   "cell_type": "code",
   "execution_count": 260,
   "metadata": {},
   "outputs": [
    {
     "data": {
      "text/plain": [
       "'\\navdn = []\\nfor i,j  in enumerate(y_kmeansb):\\n    avdn.append(np.linalg.norm(Xb[i]-centersb[j])**2)\\n\\navdmn = np.mean(avdn)\\navdsn = np.sum(avdn)\\navdsn   '"
      ]
     },
     "execution_count": 260,
     "metadata": {},
     "output_type": "execute_result"
    }
   ],
   "source": [
    "'''\n",
    "avdn = []\n",
    "for i,j  in enumerate(y_kmeansb):\n",
    "    avdn.append(np.linalg.norm(Xb[i]-centersb[j])**2)\n",
    "\n",
    "avdmn = np.mean(avdn)\n",
    "avdsn = np.sum(avdn)\n",
    "avdsn   '''"
   ]
  },
  {
   "cell_type": "code",
   "execution_count": null,
   "metadata": {},
   "outputs": [],
   "source": []
  },
  {
   "cell_type": "code",
   "execution_count": null,
   "metadata": {},
   "outputs": [],
   "source": [
    "        "
   ]
  },
  {
   "cell_type": "code",
   "execution_count": null,
   "metadata": {},
   "outputs": [],
   "source": []
  },
  {
   "cell_type": "code",
   "execution_count": null,
   "metadata": {},
   "outputs": [],
   "source": []
  },
  {
   "cell_type": "code",
   "execution_count": null,
   "metadata": {},
   "outputs": [],
   "source": [
    "   "
   ]
  },
  {
   "cell_type": "code",
   "execution_count": null,
   "metadata": {},
   "outputs": [],
   "source": []
  },
  {
   "cell_type": "code",
   "execution_count": null,
   "metadata": {},
   "outputs": [],
   "source": []
  },
  {
   "cell_type": "code",
   "execution_count": null,
   "metadata": {},
   "outputs": [],
   "source": [
    "\n",
    "\n"
   ]
  },
  {
   "cell_type": "code",
   "execution_count": 113,
   "metadata": {},
   "outputs": [
    {
     "data": {
      "text/plain": [
       "[3.8856099043697547,\n",
       " 3.8258381867847526,\n",
       " 3.763634936328343,\n",
       " 3.7155206343426519,\n",
       " 3.671998854317867,\n",
       " 3.6303496561980966,\n",
       " 3.5920325510438902,\n",
       " 3.55709611587681,\n",
       " 3.5170433387585924,\n",
       " 3.4739984816165701,\n",
       " 3.4443209544469142,\n",
       " 3.4122834808403568,\n",
       " 3.3897281132379171,\n",
       " 3.3578097284708037,\n",
       " 3.3277992621818329,\n",
       " 3.3100901030173451,\n",
       " 3.2771554736753261,\n",
       " 3.2551546811822223,\n",
       " 3.2415360016897381,\n",
       " 3.2153655227835807,\n",
       " 3.1940469684445594]"
      ]
     },
     "execution_count": 113,
     "metadata": {},
     "output_type": "execute_result"
    }
   ],
   "source": [
    "# Investigate the change in within-cluster distance across number of clusters.\n",
    "# HINT: Use matplotlib's plot function to visualize this relationship.\n",
    "azavdml = []\n",
    "for i in range(10,31): \n",
    "    kmeans = KMeans(n_clusters=i)\n",
    "    pred = kmeans.fit_predict(azimp_pca)\n",
    "    azavdnn = []\n",
    "    for j,k in enumerate(az_pred):\n",
    "        azavdnn.append(np.linalg.norm(azimp_pca[j]-kmeans.cluster_centers_[k]))\n",
    "    azavdmnn = np.mean(azavdnn)\n",
    "    #azavdsnn = np.sum(azavdnn)\n",
    "    azavdml.append(azavdmnn) \n",
    "azavdml"
   ]
  },
  {
   "cell_type": "code",
   "execution_count": 121,
   "metadata": {},
   "outputs": [],
   "source": [
    "#azavdml"
   ]
  },
  {
   "cell_type": "code",
   "execution_count": 120,
   "metadata": {},
   "outputs": [
    {
     "data": {
      "image/png": "[encoded data removed]",
      "text/plain": [
       "<matplotlib.figure.Figure at 0x7f132fa984a8>"
      ]
     },
     "metadata": {
      "needs_background": "light"
     },
     "output_type": "display_data"
    }
   ],
   "source": [
    "plt.figure()\n",
    "plt.plot(list(range(10,31)),azavdml)\n",
    "plt.xlabel('Number of Clusters')\n",
    "plt.ylabel('Mean distance of data points to respective cluster centers')\n",
    "plt.show()"
   ]
  },
  {
   "cell_type": "code",
   "execution_count": null,
   "metadata": {},
   "outputs": [],
   "source": []
  },
  {
   "cell_type": "code",
   "execution_count": null,
   "metadata": {},
   "outputs": [],
   "source": []
  },
  {
   "cell_type": "code",
   "execution_count": null,
   "metadata": {},
   "outputs": [],
   "source": []
  },
  {
   "cell_type": "code",
   "execution_count": 102,
   "metadata": {},
   "outputs": [
    {
     "data": {
      "text/plain": [
       "\"plt.figure( figsize=(16,12))\\nplt.scatter(azimp_pca[:,0],azimp_pca[:,1], c=pred, edgecolor='black', lw=1.5, s=100, cmap=plt.get_cmap('viridis'))\\nplt.show()\""
      ]
     },
     "execution_count": 102,
     "metadata": {},
     "output_type": "execute_result"
    }
   ],
   "source": [
    "'''plt.figure( figsize=(16,12))\n",
    "plt.scatter(azimp_pca[:,0],azimp_pca[:,1], c=pred, edgecolor='black', lw=1.5, s=100, cmap=plt.get_cmap('viridis'))\n",
    "plt.show()'''"
   ]
  },
  {
   "cell_type": "code",
   "execution_count": null,
   "metadata": {},
   "outputs": [],
   "source": []
  },
  {
   "cell_type": "code",
   "execution_count": null,
   "metadata": {},
   "outputs": [],
   "source": []
  },
  {
   "cell_type": "code",
   "execution_count": 106,
   "metadata": {},
   "outputs": [],
   "source": [
    "# Re-fit the k-means model with the selected number of clusters and obtain\n",
    "# cluster predictions for the general population demographics data.\n",
    "kmeans = KMeans(n_clusters=21)\n"
   ]
  },
  {
   "cell_type": "code",
   "execution_count": 107,
   "metadata": {},
   "outputs": [],
   "source": [
    "az_pred = kmeans.fit_predict(azimp_pca)"
   ]
  },
  {
   "cell_type": "code",
   "execution_count": 59,
   "metadata": {},
   "outputs": [],
   "source": [
    "#pred = kmeans.fit_predict(azdias_pca)"
   ]
  },
  {
   "cell_type": "code",
   "execution_count": 60,
   "metadata": {},
   "outputs": [],
   "source": [
    "#predgd = kmeans.fit_predict(azdias_ss_ft)"
   ]
  },
  {
   "cell_type": "code",
   "execution_count": 172,
   "metadata": {},
   "outputs": [],
   "source": [
    "\n",
    "#predgdover30 = kmeans.fit_predict(azimp_ss_ftover30)"
   ]
  },
  {
   "cell_type": "code",
   "execution_count": 173,
   "metadata": {},
   "outputs": [],
   "source": [
    "#predover30 = kmeans.fit_predict(azdias_pcaover30)"
   ]
  },
  {
   "cell_type": "code",
   "execution_count": 108,
   "metadata": {},
   "outputs": [],
   "source": [
    "#predover30.shape"
   ]
  },
  {
   "cell_type": "code",
   "execution_count": 109,
   "metadata": {},
   "outputs": [],
   "source": [
    "#azimp_ss_ftover30.shape"
   ]
  },
  {
   "cell_type": "code",
   "execution_count": 110,
   "metadata": {},
   "outputs": [],
   "source": [
    "#azimp_prednf = kmeans.predict(azimp_pca)"
   ]
  },
  {
   "cell_type": "code",
   "execution_count": 111,
   "metadata": {},
   "outputs": [],
   "source": [
    "#azimp_prednf"
   ]
  },
  {
   "cell_type": "code",
   "execution_count": 112,
   "metadata": {},
   "outputs": [],
   "source": [
    "#azimp_pred = kmeans.fit_predict(azimp_pca)"
   ]
  },
  {
   "cell_type": "code",
   "execution_count": null,
   "metadata": {},
   "outputs": [],
   "source": []
  },
  {
   "cell_type": "code",
   "execution_count": 99,
   "metadata": {},
   "outputs": [],
   "source": [
    "#azimp_predgd = kmeans.fit_predict(azimp_ss_ft)"
   ]
  },
  {
   "cell_type": "markdown",
   "metadata": {},
   "source": [
    "### Discussion 3.1: Apply Clustering to General Population\n",
    "\n",
    "(Double-click this cell and replace this text with your own text, reporting your findings and decisions regarding clustering. Into how many clusters have you decided to segment the population?)\n",
    "\n",
    "The average within-cluster distances was between 3 and 4 for the range of 10-30 clusters. Though the decrease didn't noticably start to level out, a cluster value of 21 was chosen since the decrease seemed slightly less steep by that point. Prediction fits were then done on the pca data and the pre-pca standardized data."
   ]
  },
  {
   "cell_type": "markdown",
   "metadata": {},
   "source": [
    "### Step 3.2: Apply All Steps to the Customer Data\n",
    "\n",
    "Now that you have clusters and cluster centers for the general population, it's time to see how the customer data maps on to those clusters. Take care to not confuse this for re-fitting all of the models to the customer data. Instead, you're going to use the fits from the general population to clean, transform, and cluster the customer data. In the last step of the project, you will interpret how the general population fits apply to the customer data.\n",
    "\n",
    "- Don't forget when loading in the customers data, that it is semicolon (`;`) delimited.\n",
    "- Apply the same feature wrangling, selection, and engineering steps to the customer demographics using the `clean_data()` function you created earlier. (You can assume that the customer demographics data has similar meaning behind missing data patterns as the general demographics data.)\n",
    "- Use the sklearn objects from the general demographics data, and apply their transformations to the customers data. That is, you should not be using a `.fit()` or `.fit_transform()` method to re-fit the old objects, nor should you be creating new sklearn objects! Carry the data through the feature scaling, PCA, and clustering steps, obtaining cluster assignments for all of the data in the customer demographics data."
   ]
  },
  {
   "cell_type": "code",
   "execution_count": 113,
   "metadata": {},
   "outputs": [],
   "source": [
    "# Load in the customer demographics data.\n",
    "customers =  pd.read_csv('Udacity_CUSTOMERS_Subset.csv', delimiter=';')"
   ]
  },
  {
   "cell_type": "code",
   "execution_count": 114,
   "metadata": {},
   "outputs": [
    {
     "data": {
      "text/plain": [
       "(191652, 85)"
      ]
     },
     "execution_count": 114,
     "metadata": {},
     "output_type": "execute_result"
    }
   ],
   "source": [
    "customers.shape"
   ]
  },
  {
   "cell_type": "code",
   "execution_count": 115,
   "metadata": {},
   "outputs": [],
   "source": [
    "# Apply preprocessing, feature transformation, and clustering from the general\n",
    "# demographics onto the customer data, obtaining cluster predictions for the\n",
    "# customer demographics data.\n",
    "cust_clean , cust_over30 = clean_data(customers)\n"
   ]
  },
  {
   "cell_type": "code",
   "execution_count": 116,
   "metadata": {},
   "outputs": [
    {
     "data": {
      "text/plain": [
       "(141717, 73)"
      ]
     },
     "execution_count": 116,
     "metadata": {},
     "output_type": "execute_result"
    }
   ],
   "source": [
    "cust_clean.shape"
   ]
  },
  {
   "cell_type": "code",
   "execution_count": 117,
   "metadata": {},
   "outputs": [
    {
     "data": {
      "text/plain": [
       "(49935, 85)"
      ]
     },
     "execution_count": 117,
     "metadata": {},
     "output_type": "execute_result"
    }
   ],
   "source": [
    "cust_over30.shape"
   ]
  },
  {
   "cell_type": "code",
   "execution_count": 118,
   "metadata": {},
   "outputs": [],
   "source": [
    "#I think this needs to be refit with the imputer since it will have different averages\n",
    "cust_imp = imp.fit_transform(cust_clean)"
   ]
  },
  {
   "cell_type": "code",
   "execution_count": 119,
   "metadata": {},
   "outputs": [],
   "source": [
    "#azdias_impdf.columns"
   ]
  },
  {
   "cell_type": "code",
   "execution_count": null,
   "metadata": {},
   "outputs": [],
   "source": []
  },
  {
   "cell_type": "code",
   "execution_count": null,
   "metadata": {},
   "outputs": [],
   "source": []
  },
  {
   "cell_type": "code",
   "execution_count": null,
   "metadata": {},
   "outputs": [],
   "source": []
  },
  {
   "cell_type": "code",
   "execution_count": 120,
   "metadata": {},
   "outputs": [
    {
     "data": {
      "text/plain": [
       "(141717, 73)"
      ]
     },
     "execution_count": 120,
     "metadata": {},
     "output_type": "execute_result"
    }
   ],
   "source": [
    "cust_imp.shape\n"
   ]
  },
  {
   "cell_type": "code",
   "execution_count": 121,
   "metadata": {},
   "outputs": [
    {
     "data": {
      "text/html": [
       "<div>\n",
       "<style scoped>\n",
       "    .dataframe tbody tr th:only-of-type {\n",
       "        vertical-align: middle;\n",
       "    }\n",
       "\n",
       "    .dataframe tbody tr th {\n",
       "        vertical-align: top;\n",
       "    }\n",
       "\n",
       "    .dataframe thead th {\n",
       "        text-align: right;\n",
       "    }\n",
       "</style>\n",
       "<table border=\"1\" class=\"dataframe\">\n",
       "  <thead>\n",
       "    <tr style=\"text-align: right;\">\n",
       "      <th></th>\n",
       "      <th>AGER_TYP</th>\n",
       "      <th>ALTERSKATEGORIE_GROB</th>\n",
       "      <th>ANREDE_KZ</th>\n",
       "      <th>FINANZ_MINIMALIST</th>\n",
       "      <th>FINANZ_SPARER</th>\n",
       "      <th>FINANZ_VORSORGER</th>\n",
       "      <th>FINANZ_ANLEGER</th>\n",
       "      <th>FINANZ_UNAUFFAELLIGER</th>\n",
       "      <th>FINANZ_HAUSBAUER</th>\n",
       "      <th>GEBURTSJAHR</th>\n",
       "      <th>...</th>\n",
       "      <th>PLZ8_ANTG4</th>\n",
       "      <th>PLZ8_HHZ</th>\n",
       "      <th>PLZ8_GBZ</th>\n",
       "      <th>ARBEIT</th>\n",
       "      <th>ORTSGR_KLS9</th>\n",
       "      <th>RELAT_AB</th>\n",
       "      <th>PRAEGENDE_JUGENDJAHRE_DECADE</th>\n",
       "      <th>PRAEGENDE_JUGENDJAHRE_MOVEMENT</th>\n",
       "      <th>CAMEO_INTL_2015_WEALTH</th>\n",
       "      <th>CAMEO_INTL_2015_STAGE</th>\n",
       "    </tr>\n",
       "  </thead>\n",
       "  <tbody>\n",
       "    <tr>\n",
       "      <th>0</th>\n",
       "      <td>2.000000</td>\n",
       "      <td>4.0</td>\n",
       "      <td>1.0</td>\n",
       "      <td>5.0</td>\n",
       "      <td>1.0</td>\n",
       "      <td>5.0</td>\n",
       "      <td>1.0</td>\n",
       "      <td>2.0</td>\n",
       "      <td>2.0</td>\n",
       "      <td>1949.748144</td>\n",
       "      <td>...</td>\n",
       "      <td>0.0</td>\n",
       "      <td>5.0</td>\n",
       "      <td>5.0</td>\n",
       "      <td>1.0</td>\n",
       "      <td>2.0</td>\n",
       "      <td>1.0</td>\n",
       "      <td>2.0</td>\n",
       "      <td>1.0</td>\n",
       "      <td>1.0</td>\n",
       "      <td>3.0</td>\n",
       "    </tr>\n",
       "    <tr>\n",
       "      <th>1</th>\n",
       "      <td>1.653803</td>\n",
       "      <td>4.0</td>\n",
       "      <td>2.0</td>\n",
       "      <td>5.0</td>\n",
       "      <td>1.0</td>\n",
       "      <td>5.0</td>\n",
       "      <td>1.0</td>\n",
       "      <td>4.0</td>\n",
       "      <td>4.0</td>\n",
       "      <td>1949.748144</td>\n",
       "      <td>...</td>\n",
       "      <td>1.0</td>\n",
       "      <td>3.0</td>\n",
       "      <td>2.0</td>\n",
       "      <td>3.0</td>\n",
       "      <td>5.0</td>\n",
       "      <td>3.0</td>\n",
       "      <td>2.0</td>\n",
       "      <td>1.0</td>\n",
       "      <td>3.0</td>\n",
       "      <td>4.0</td>\n",
       "    </tr>\n",
       "    <tr>\n",
       "      <th>2</th>\n",
       "      <td>1.000000</td>\n",
       "      <td>4.0</td>\n",
       "      <td>1.0</td>\n",
       "      <td>5.0</td>\n",
       "      <td>1.0</td>\n",
       "      <td>5.0</td>\n",
       "      <td>2.0</td>\n",
       "      <td>1.0</td>\n",
       "      <td>2.0</td>\n",
       "      <td>1949.748144</td>\n",
       "      <td>...</td>\n",
       "      <td>0.0</td>\n",
       "      <td>3.0</td>\n",
       "      <td>4.0</td>\n",
       "      <td>1.0</td>\n",
       "      <td>3.0</td>\n",
       "      <td>1.0</td>\n",
       "      <td>1.0</td>\n",
       "      <td>0.0</td>\n",
       "      <td>2.0</td>\n",
       "      <td>4.0</td>\n",
       "    </tr>\n",
       "    <tr>\n",
       "      <th>3</th>\n",
       "      <td>1.653803</td>\n",
       "      <td>3.0</td>\n",
       "      <td>1.0</td>\n",
       "      <td>3.0</td>\n",
       "      <td>1.0</td>\n",
       "      <td>4.0</td>\n",
       "      <td>4.0</td>\n",
       "      <td>5.0</td>\n",
       "      <td>2.0</td>\n",
       "      <td>1960.000000</td>\n",
       "      <td>...</td>\n",
       "      <td>1.0</td>\n",
       "      <td>3.0</td>\n",
       "      <td>3.0</td>\n",
       "      <td>3.0</td>\n",
       "      <td>5.0</td>\n",
       "      <td>1.0</td>\n",
       "      <td>4.0</td>\n",
       "      <td>0.0</td>\n",
       "      <td>4.0</td>\n",
       "      <td>1.0</td>\n",
       "    </tr>\n",
       "    <tr>\n",
       "      <th>4</th>\n",
       "      <td>1.000000</td>\n",
       "      <td>3.0</td>\n",
       "      <td>1.0</td>\n",
       "      <td>5.0</td>\n",
       "      <td>1.0</td>\n",
       "      <td>5.0</td>\n",
       "      <td>1.0</td>\n",
       "      <td>2.0</td>\n",
       "      <td>3.0</td>\n",
       "      <td>1949.748144</td>\n",
       "      <td>...</td>\n",
       "      <td>1.0</td>\n",
       "      <td>5.0</td>\n",
       "      <td>5.0</td>\n",
       "      <td>3.0</td>\n",
       "      <td>7.0</td>\n",
       "      <td>5.0</td>\n",
       "      <td>2.0</td>\n",
       "      <td>1.0</td>\n",
       "      <td>3.0</td>\n",
       "      <td>4.0</td>\n",
       "    </tr>\n",
       "  </tbody>\n",
       "</table>\n",
       "<p>5 rows × 73 columns</p>\n",
       "</div>"
      ],
      "text/plain": [
       "   AGER_TYP  ALTERSKATEGORIE_GROB  ANREDE_KZ  FINANZ_MINIMALIST  \\\n",
       "0  2.000000                   4.0        1.0                5.0   \n",
       "1  1.653803                   4.0        2.0                5.0   \n",
       "2  1.000000                   4.0        1.0                5.0   \n",
       "3  1.653803                   3.0        1.0                3.0   \n",
       "4  1.000000                   3.0        1.0                5.0   \n",
       "\n",
       "   FINANZ_SPARER  FINANZ_VORSORGER  FINANZ_ANLEGER  FINANZ_UNAUFFAELLIGER  \\\n",
       "0            1.0               5.0             1.0                    2.0   \n",
       "1            1.0               5.0             1.0                    4.0   \n",
       "2            1.0               5.0             2.0                    1.0   \n",
       "3            1.0               4.0             4.0                    5.0   \n",
       "4            1.0               5.0             1.0                    2.0   \n",
       "\n",
       "   FINANZ_HAUSBAUER  GEBURTSJAHR          ...            PLZ8_ANTG4  PLZ8_HHZ  \\\n",
       "0               2.0  1949.748144          ...                   0.0       5.0   \n",
       "1               4.0  1949.748144          ...                   1.0       3.0   \n",
       "2               2.0  1949.748144          ...                   0.0       3.0   \n",
       "3               2.0  1960.000000          ...                   1.0       3.0   \n",
       "4               3.0  1949.748144          ...                   1.0       5.0   \n",
       "\n",
       "   PLZ8_GBZ  ARBEIT  ORTSGR_KLS9  RELAT_AB  PRAEGENDE_JUGENDJAHRE_DECADE  \\\n",
       "0       5.0     1.0          2.0       1.0                           2.0   \n",
       "1       2.0     3.0          5.0       3.0                           2.0   \n",
       "2       4.0     1.0          3.0       1.0                           1.0   \n",
       "3       3.0     3.0          5.0       1.0                           4.0   \n",
       "4       5.0     3.0          7.0       5.0                           2.0   \n",
       "\n",
       "   PRAEGENDE_JUGENDJAHRE_MOVEMENT  CAMEO_INTL_2015_WEALTH  \\\n",
       "0                             1.0                     1.0   \n",
       "1                             1.0                     3.0   \n",
       "2                             0.0                     2.0   \n",
       "3                             0.0                     4.0   \n",
       "4                             1.0                     3.0   \n",
       "\n",
       "   CAMEO_INTL_2015_STAGE  \n",
       "0                    3.0  \n",
       "1                    4.0  \n",
       "2                    4.0  \n",
       "3                    1.0  \n",
       "4                    4.0  \n",
       "\n",
       "[5 rows x 73 columns]"
      ]
     },
     "execution_count": 121,
     "metadata": {},
     "output_type": "execute_result"
    }
   ],
   "source": [
    "cust_impdf = pd.DataFrame(cust_imp, columns = cust_clean.columns)\n",
    "cust_impdf.head()"
   ]
  },
  {
   "cell_type": "code",
   "execution_count": 122,
   "metadata": {},
   "outputs": [],
   "source": [
    "#this makes the customer data use the same columns as the preprocessed azdias data\n",
    "cust_azcol = cust_impdf.copy()\n",
    "for i in cust_azcol.columns:\n",
    "    #print(i)\n",
    "    if i not in azdias_impdf.columns:\n",
    "        #print(i)\n",
    "        cust_azcol.drop(i, axis=1, inplace=True)"
   ]
  },
  {
   "cell_type": "code",
   "execution_count": 123,
   "metadata": {},
   "outputs": [
    {
     "data": {
      "text/plain": [
       "(141717, 67)"
      ]
     },
     "execution_count": 123,
     "metadata": {},
     "output_type": "execute_result"
    }
   ],
   "source": [
    "cust_azcol.shape"
   ]
  },
  {
   "cell_type": "code",
   "execution_count": 124,
   "metadata": {},
   "outputs": [
    {
     "data": {
      "text/plain": [
       "(798067, 67)"
      ]
     },
     "execution_count": 124,
     "metadata": {},
     "output_type": "execute_result"
    }
   ],
   "source": [
    "azdias_impdf.shape"
   ]
  },
  {
   "cell_type": "code",
   "execution_count": 125,
   "metadata": {},
   "outputs": [],
   "source": [
    "cust_ss_azcol = ss.transform(cust_azcol)"
   ]
  },
  {
   "cell_type": "code",
   "execution_count": 126,
   "metadata": {},
   "outputs": [],
   "source": [
    "cust_azcol_pca = pca.transform(cust_ss_azcol) "
   ]
  },
  {
   "cell_type": "code",
   "execution_count": 127,
   "metadata": {},
   "outputs": [],
   "source": [
    "cust_azcol_pred = kmeans.predict(cust_azcol_pca)"
   ]
  },
  {
   "cell_type": "code",
   "execution_count": null,
   "metadata": {},
   "outputs": [],
   "source": []
  },
  {
   "cell_type": "code",
   "execution_count": null,
   "metadata": {},
   "outputs": [],
   "source": []
  },
  {
   "cell_type": "code",
   "execution_count": null,
   "metadata": {},
   "outputs": [],
   "source": []
  },
  {
   "cell_type": "code",
   "execution_count": 78,
   "metadata": {},
   "outputs": [],
   "source": [
    "\n",
    "\n",
    "#cust_dropna = cust_clean.dropna()"
   ]
  },
  {
   "cell_type": "code",
   "execution_count": 128,
   "metadata": {},
   "outputs": [],
   "source": [
    "#cust_dropna.shape"
   ]
  },
  {
   "cell_type": "code",
   "execution_count": 129,
   "metadata": {},
   "outputs": [],
   "source": [
    "#cust_ss_ft = ss.fit_transform(cust_dropna)\n",
    "\n"
   ]
  },
  {
   "cell_type": "code",
   "execution_count": 130,
   "metadata": {},
   "outputs": [],
   "source": [
    "# cust_ss_ft = ss.fit_transform(cust_dropna)"
   ]
  },
  {
   "cell_type": "code",
   "execution_count": null,
   "metadata": {},
   "outputs": [],
   "source": []
  },
  {
   "cell_type": "code",
   "execution_count": null,
   "metadata": {},
   "outputs": [],
   "source": []
  },
  {
   "cell_type": "code",
   "execution_count": 66,
   "metadata": {},
   "outputs": [],
   "source": [
    "#cust_pca = pca.fit_transform(cust_ss_ft) "
   ]
  },
  {
   "cell_type": "code",
   "execution_count": 67,
   "metadata": {},
   "outputs": [],
   "source": [
    "#cust_pred = kmeans.fit_predict(cust_pca)"
   ]
  },
  {
   "cell_type": "code",
   "execution_count": 68,
   "metadata": {},
   "outputs": [],
   "source": [
    "#cust_predgd = kmeans.fit_predict(cust_ss_ft)"
   ]
  },
  {
   "cell_type": "code",
   "execution_count": 100,
   "metadata": {},
   "outputs": [],
   "source": [
    "#custimp_ss_ft = ss.fit_transform(cust_imp)"
   ]
  },
  {
   "cell_type": "code",
   "execution_count": 370,
   "metadata": {},
   "outputs": [],
   "source": [
    "#custimp_ss_t = ss.transform(cust_impdf)"
   ]
  },
  {
   "cell_type": "code",
   "execution_count": 131,
   "metadata": {},
   "outputs": [],
   "source": [
    "#custimp_ss_ft.shape"
   ]
  },
  {
   "cell_type": "code",
   "execution_count": null,
   "metadata": {},
   "outputs": [],
   "source": []
  },
  {
   "cell_type": "code",
   "execution_count": 132,
   "metadata": {},
   "outputs": [],
   "source": [
    "#custimp_pca = pca.fit_transform(custimp_ss_ft) "
   ]
  },
  {
   "cell_type": "code",
   "execution_count": 372,
   "metadata": {},
   "outputs": [],
   "source": [
    "#custimp_pca = pca.transform(custimp_ss_ft) "
   ]
  },
  {
   "cell_type": "code",
   "execution_count": null,
   "metadata": {},
   "outputs": [],
   "source": []
  },
  {
   "cell_type": "code",
   "execution_count": 102,
   "metadata": {},
   "outputs": [],
   "source": [
    "#custimp_pred = kmeans.fit_predict(custimp_pca)"
   ]
  },
  {
   "cell_type": "code",
   "execution_count": 103,
   "metadata": {},
   "outputs": [],
   "source": [
    "#custimp_predgd = kmeans.fit_predict(custimp_ss_ft)"
   ]
  },
  {
   "cell_type": "code",
   "execution_count": 126,
   "metadata": {},
   "outputs": [],
   "source": [
    "#custimp_ss_df = pd.DataFrame(ss.fit_transform(cust_impdf), columns = cust_impdf.columns)"
   ]
  },
  {
   "cell_type": "code",
   "execution_count": 139,
   "metadata": {},
   "outputs": [],
   "source": [
    "#custimp_ss_df.shape"
   ]
  },
  {
   "cell_type": "code",
   "execution_count": 130,
   "metadata": {},
   "outputs": [],
   "source": [
    "#custimp_pcadf = pca.fit_transform(custimp_ss_df) "
   ]
  },
  {
   "cell_type": "code",
   "execution_count": 133,
   "metadata": {},
   "outputs": [],
   "source": [
    "#custimp_pcadf.shape"
   ]
  },
  {
   "cell_type": "code",
   "execution_count": 134,
   "metadata": {},
   "outputs": [],
   "source": [
    "#custimp_pred = kmeans.fit_predict(custimp_pcadf)"
   ]
  },
  {
   "cell_type": "code",
   "execution_count": 135,
   "metadata": {},
   "outputs": [],
   "source": [
    "#custimp_ss_df.shape"
   ]
  },
  {
   "cell_type": "code",
   "execution_count": 136,
   "metadata": {},
   "outputs": [],
   "source": [
    "#custimp_predgddf = kmeans.fit_predict(custimp_ss_df)"
   ]
  },
  {
   "cell_type": "code",
   "execution_count": 137,
   "metadata": {},
   "outputs": [],
   "source": [
    "#custimp_predgddf.shape"
   ]
  },
  {
   "cell_type": "code",
   "execution_count": 138,
   "metadata": {},
   "outputs": [],
   "source": [
    "#custimp_pred.shape"
   ]
  },
  {
   "cell_type": "markdown",
   "metadata": {},
   "source": [
    "### Step 3.3: Compare Customer Data to Demographics Data\n",
    "\n",
    "At this point, you have clustered data based on demographics of the general population of Germany, and seen how the customer data for a mail-order sales company maps onto those demographic clusters. In this final substep, you will compare the two cluster distributions to see where the strongest customer base for the company is.\n",
    "\n",
    "Consider the proportion of persons in each cluster for the general population, and the proportions for the customers. If we think the company's customer base to be universal, then the cluster assignment proportions should be fairly similar between the two. If there are only particular segments of the population that are interested in the company's products, then we should see a mismatch from one to the other. If there is a higher proportion of persons in a cluster for the customer data compared to the general population (e.g. 5% of persons are assigned to a cluster for the general population, but 15% of the customer data is closest to that cluster's centroid) then that suggests the people in that cluster to be a target audience for the company. On the other hand, the proportion of the data in a cluster being larger in the general population than the customer data (e.g. only 2% of customers closest to a population centroid that captures 6% of the data) suggests that group of persons to be outside of the target demographics.\n",
    "\n",
    "Take a look at the following points in this step:\n",
    "\n",
    "- Compute the proportion of data points in each cluster for the general population and the customer data. Visualizations will be useful here: both for the individual dataset proportions, but also to visualize the ratios in cluster representation between groups. Seaborn's [`countplot()`](https://seaborn.pydata.org/generated/seaborn.countplot.html) or [`barplot()`](https://seaborn.pydata.org/generated/seaborn.barplot.html) function could be handy.\n",
    "  - Recall the analysis you performed in step 1.1.3 of the project, where you separated out certain data points from the dataset if they had more than a specified threshold of missing values. If you found that this group was qualitatively different from the main bulk of the data, you should treat this as an additional data cluster in this analysis. Make sure that you account for the number of data points in this subset, for both the general population and customer datasets, when making your computations!\n",
    "- Which cluster or clusters are overrepresented in the customer dataset compared to the general population? Select at least one such cluster and infer what kind of people might be represented by that cluster. Use the principal component interpretations from step 2.3 or look at additional components to help you make this inference. Alternatively, you can use the `.inverse_transform()` method of the PCA and StandardScaler objects to transform centroids back to the original data space and interpret the retrieved values directly.\n",
    "- Perform a similar investigation for the underrepresented clusters. Which cluster or clusters are underrepresented in the customer dataset compared to the general population, and what kinds of people are typified by these clusters?"
   ]
  },
  {
   "cell_type": "code",
   "execution_count": 141,
   "metadata": {},
   "outputs": [
    {
     "data": {
      "text/plain": [
       "(array([ 6,  0,  9, ..., 12,  7, 19], dtype=int32),\n",
       " array([ 8, 11,  2, ...,  8, 10, 13], dtype=int32))"
      ]
     },
     "execution_count": 141,
     "metadata": {},
     "output_type": "execute_result"
    }
   ],
   "source": [
    "# Compare the proportion of data in each cluster for the customer data to the\n",
    "# proportion of data in each cluster for the general population.\n",
    "\n",
    "#azimp_pred\n",
    "az_pred, cust_azcol_pred"
   ]
  },
  {
   "cell_type": "code",
   "execution_count": 142,
   "metadata": {},
   "outputs": [],
   "source": [
    "#custimp_predgd.shape"
   ]
  },
  {
   "cell_type": "code",
   "execution_count": 143,
   "metadata": {},
   "outputs": [],
   "source": [
    "#predgd.shape"
   ]
  },
  {
   "cell_type": "code",
   "execution_count": 144,
   "metadata": {},
   "outputs": [
    {
     "data": {
      "image/png": "[encoded data removed]",
      "text/plain": [
       "<matplotlib.figure.Figure at 0x7fd60c0ed278>"
      ]
     },
     "metadata": {
      "needs_background": "light"
     },
     "output_type": "display_data"
    }
   ],
   "source": [
    "plt.figure()\n",
    "sns.countplot(cust_azcol_pred)\n",
    "plt.xlabel('Cluster number')\n",
    "plt.title('Customer cluster counts')\n",
    "plt.show()"
   ]
  },
  {
   "cell_type": "code",
   "execution_count": 423,
   "metadata": {},
   "outputs": [],
   "source": [
    "#unique_pred_azcol, counts_pred_azcol = np.unique(cust_azcol_pred, return_counts=True)\n",
    "#predcountdict_azcol = dict(zip(unique_pred_azcol, counts_pred_azcol))"
   ]
  },
  {
   "cell_type": "code",
   "execution_count": 145,
   "metadata": {},
   "outputs": [],
   "source": [
    "unique_custpred_azcol, counts_custpred_azcol = np.unique(cust_azcol_pred, return_counts=True)\n",
    "custpredcountdict_azcol = dict(zip(unique_custpred_azcol, counts_custpred_azcol))"
   ]
  },
  {
   "cell_type": "code",
   "execution_count": 146,
   "metadata": {},
   "outputs": [
    {
     "data": {
      "text/plain": [
       "{0: 0.012856635986058063,\n",
       " 1: 0.022859140525535868,\n",
       " 2: 0.057359171832279336,\n",
       " 3: 0.008186713418070252,\n",
       " 4: 0.0048734164005593472,\n",
       " 5: 0.012663577734644042,\n",
       " 6: 0.0029637050487341639,\n",
       " 7: 0.0037724625884415501,\n",
       " 8: 0.20162064575376204,\n",
       " 9: 0.029976206874960866,\n",
       " 10: 0.034604387118318619,\n",
       " 11: 0.075501429674618578,\n",
       " 12: 0.0045603489658339073,\n",
       " 13: 0.11027278609145744,\n",
       " 14: 0.037573309957631543,\n",
       " 15: 0.0031150209755181268,\n",
       " 16: 0.015674242898587022,\n",
       " 17: 0.0029689228393129214,\n",
       " 18: 0.022822615991484566,\n",
       " 19: 0.027638636695677583,\n",
       " 20: 0.047586250078266862,\n",
       " 21: 0.26055037255024732}"
      ]
     },
     "execution_count": 146,
     "metadata": {},
     "output_type": "execute_result"
    }
   ],
   "source": [
    "custpredcountdict_azcol[21] = cust_over30.shape[0]\n",
    "custpredgdcountsum_azcol = np.sum([i for i in custpredcountdict_azcol.values()])\n",
    "custpredgdcountprop_azcol = custpredcountdict_azcol.copy() \n",
    "custpredgdcountprop_azcol.update((x, y/custpredgdcountsum_azcol) for x, y in custpredgdcountprop_azcol.items())\n",
    "custpredgdcountprop_azcol"
   ]
  },
  {
   "cell_type": "code",
   "execution_count": 147,
   "metadata": {},
   "outputs": [
    {
     "data": {
      "image/png": "[encoded data removed]",
      "text/plain": [
       "<matplotlib.figure.Figure at 0x7fd60c0976d8>"
      ]
     },
     "metadata": {
      "needs_background": "light"
     },
     "output_type": "display_data"
    }
   ],
   "source": [
    "plt.figure()\n",
    "sns.barplot(list(custpredgdcountprop_azcol.keys()),list(custpredgdcountprop_azcol.values()))\n",
    "plt.xlabel('Cluster number')\n",
    "plt.title('Customer cluster proportions')\n",
    "plt.show()"
   ]
  },
  {
   "cell_type": "code",
   "execution_count": null,
   "metadata": {},
   "outputs": [],
   "source": []
  },
  {
   "cell_type": "code",
   "execution_count": null,
   "metadata": {},
   "outputs": [],
   "source": []
  },
  {
   "cell_type": "code",
   "execution_count": null,
   "metadata": {},
   "outputs": [],
   "source": []
  },
  {
   "cell_type": "code",
   "execution_count": null,
   "metadata": {},
   "outputs": [],
   "source": []
  },
  {
   "cell_type": "code",
   "execution_count": 148,
   "metadata": {},
   "outputs": [
    {
     "data": {
      "text/plain": [
       "\"plt.figure()\\nsns.countplot(custimp_pred)\\nplt.xlabel('Cluster number')\\nplt.title('Customer cluster counts')\\nplt.show()\""
      ]
     },
     "execution_count": 148,
     "metadata": {},
     "output_type": "execute_result"
    }
   ],
   "source": [
    "'''plt.figure()\n",
    "sns.countplot(custimp_pred)\n",
    "plt.xlabel('Cluster number')\n",
    "plt.title('Customer cluster counts')\n",
    "plt.show()'''"
   ]
  },
  {
   "cell_type": "code",
   "execution_count": 149,
   "metadata": {},
   "outputs": [
    {
     "data": {
      "text/plain": [
       "\"plt.figure()\\nsns.countplot(custimp_predgd)\\nplt.xlabel('Cluster number')\\nplt.title('Customer cluster counts')\\nplt.show()\""
      ]
     },
     "execution_count": 149,
     "metadata": {},
     "output_type": "execute_result"
    }
   ],
   "source": [
    "'''plt.figure()\n",
    "sns.countplot(custimp_predgd)\n",
    "plt.xlabel('Cluster number')\n",
    "plt.title('Customer cluster counts')\n",
    "plt.show()'''"
   ]
  },
  {
   "cell_type": "code",
   "execution_count": 150,
   "metadata": {},
   "outputs": [
    {
     "data": {
      "text/plain": [
       "\"plt.figure()\\nsns.countplot(pred)\\nplt.xlabel('Cluster number')\\nplt.title('General Population cluster counts')\\nplt.show()\""
      ]
     },
     "execution_count": 150,
     "metadata": {},
     "output_type": "execute_result"
    }
   ],
   "source": [
    "'''plt.figure()\n",
    "sns.countplot(pred)\n",
    "plt.xlabel('Cluster number')\n",
    "plt.title('General Population cluster counts')\n",
    "plt.show()'''"
   ]
  },
  {
   "cell_type": "code",
   "execution_count": 151,
   "metadata": {},
   "outputs": [
    {
     "data": {
      "text/plain": [
       "\"\\nplt.figure()\\nsns.countplot(azimp_pred)\\nplt.xlabel('Cluster number')\\nplt.title('General Population cluster counts')\\nplt.show()\""
      ]
     },
     "execution_count": 151,
     "metadata": {},
     "output_type": "execute_result"
    }
   ],
   "source": [
    "'''\n",
    "plt.figure()\n",
    "sns.countplot(azimp_pred)\n",
    "plt.xlabel('Cluster number')\n",
    "plt.title('General Population cluster counts')\n",
    "plt.show()'''"
   ]
  },
  {
   "cell_type": "code",
   "execution_count": 152,
   "metadata": {},
   "outputs": [
    {
     "data": {
      "text/plain": [
       "\"plt.figure()\\nsns.countplot(predgd)\\nplt.xlabel('Cluster number')\\nplt.title('General Population cluster counts')\\nplt.show()\""
      ]
     },
     "execution_count": 152,
     "metadata": {},
     "output_type": "execute_result"
    }
   ],
   "source": [
    "'''plt.figure()\n",
    "sns.countplot(predgd)\n",
    "plt.xlabel('Cluster number')\n",
    "plt.title('General Population cluster counts')\n",
    "plt.show()'''"
   ]
  },
  {
   "cell_type": "code",
   "execution_count": 154,
   "metadata": {},
   "outputs": [
    {
     "data": {
      "image/png": "[encoded data removed]",
      "text/plain": [
       "<matplotlib.figure.Figure at 0x7fd60c00e438>"
      ]
     },
     "metadata": {
      "needs_background": "light"
     },
     "output_type": "display_data"
    }
   ],
   "source": [
    "\n",
    "plt.figure()\n",
    "sns.countplot(az_pred)\n",
    "plt.xlabel('Cluster number')\n",
    "plt.title('General Population cluster counts')\n",
    "plt.show()"
   ]
  },
  {
   "cell_type": "code",
   "execution_count": 156,
   "metadata": {},
   "outputs": [],
   "source": [
    "unique_pred, counts_pred = np.unique(az_pred, return_counts=True)\n",
    "azpredcountdict = dict(zip(unique_pred, counts_pred))"
   ]
  },
  {
   "cell_type": "code",
   "execution_count": 159,
   "metadata": {},
   "outputs": [],
   "source": [
    "azpredcountdict[21] = azdias_over30.shape[0]"
   ]
  },
  {
   "cell_type": "code",
   "execution_count": 160,
   "metadata": {},
   "outputs": [],
   "source": [
    "azpredcountsum = np.sum([i for i in azpredcountdict.values()])"
   ]
  },
  {
   "cell_type": "code",
   "execution_count": 161,
   "metadata": {},
   "outputs": [],
   "source": [
    "azpredcountprop = azpredcountdict.copy() "
   ]
  },
  {
   "cell_type": "code",
   "execution_count": 163,
   "metadata": {},
   "outputs": [],
   "source": [
    "azpredcountprop.update((x, y/azpredcountsum) for x, y in azpredcountprop.items())"
   ]
  },
  {
   "cell_type": "code",
   "execution_count": 164,
   "metadata": {},
   "outputs": [
    {
     "data": {
      "image/png": "[encoded data removed]",
      "text/plain": [
       "<matplotlib.figure.Figure at 0x7fd60bf1e908>"
      ]
     },
     "metadata": {
      "needs_background": "light"
     },
     "output_type": "display_data"
    }
   ],
   "source": [
    "plt.figure()\n",
    "sns.barplot(list(azpredcountprop.keys()),list(azpredcountprop.values()))\n",
    "plt.xlabel('Cluster number')\n",
    "plt.title('General Population cluster proportions')\n",
    "plt.show()"
   ]
  },
  {
   "cell_type": "code",
   "execution_count": 298,
   "metadata": {},
   "outputs": [],
   "source": [
    "'''\n",
    "unique_predgdimp, counts_predgdimp = np.unique(azimp_predgd, return_counts=True)\n",
    "predcountdictgdimp = dict(zip(unique_predgdimp, counts_predgdimp))'''"
   ]
  },
  {
   "cell_type": "code",
   "execution_count": 299,
   "metadata": {},
   "outputs": [],
   "source": [
    "#predcountdictgdimp[21] = azdias_over30.shape[0]"
   ]
  },
  {
   "cell_type": "code",
   "execution_count": 300,
   "metadata": {},
   "outputs": [],
   "source": [
    "#predcountsumgdimp = np.sum([i for i in predcountdictgdimp.values()])"
   ]
  },
  {
   "cell_type": "code",
   "execution_count": 301,
   "metadata": {},
   "outputs": [],
   "source": [
    "#predcountpropgdimp = predcountdictgdimp.copy() "
   ]
  },
  {
   "cell_type": "code",
   "execution_count": 302,
   "metadata": {},
   "outputs": [],
   "source": [
    "#predcountpropgdimp.update((x, y/predcountsumgdimp) for x, y in predcountpropgdimp.items())"
   ]
  },
  {
   "cell_type": "code",
   "execution_count": 165,
   "metadata": {},
   "outputs": [
    {
     "data": {
      "text/plain": [
       "\"plt.figure()\\nsns.barplot(list(predcountpropgdimp.keys()),list(predcountpropgdimp.values()))\\nplt.xlabel('Cluster number')\\nplt.title('General Population cluster proportions')\\nplt.show()\""
      ]
     },
     "execution_count": 165,
     "metadata": {},
     "output_type": "execute_result"
    }
   ],
   "source": [
    "'''plt.figure()\n",
    "sns.barplot(list(predcountpropgdimp.keys()),list(predcountpropgdimp.values()))\n",
    "plt.xlabel('Cluster number')\n",
    "plt.title('General Population cluster proportions')\n",
    "plt.show()'''"
   ]
  },
  {
   "cell_type": "code",
   "execution_count": null,
   "metadata": {},
   "outputs": [],
   "source": []
  },
  {
   "cell_type": "code",
   "execution_count": null,
   "metadata": {},
   "outputs": [],
   "source": []
  },
  {
   "cell_type": "code",
   "execution_count": null,
   "metadata": {},
   "outputs": [],
   "source": []
  },
  {
   "cell_type": "code",
   "execution_count": null,
   "metadata": {},
   "outputs": [],
   "source": []
  },
  {
   "cell_type": "code",
   "execution_count": 166,
   "metadata": {},
   "outputs": [
    {
     "data": {
      "text/plain": [
       "(93154, 79)"
      ]
     },
     "execution_count": 166,
     "metadata": {},
     "output_type": "execute_result"
    }
   ],
   "source": [
    "azdias_over30.shape"
   ]
  },
  {
   "cell_type": "code",
   "execution_count": 167,
   "metadata": {},
   "outputs": [
    {
     "data": {
      "text/plain": [
       "(49935, 85)"
      ]
     },
     "execution_count": 167,
     "metadata": {},
     "output_type": "execute_result"
    }
   ],
   "source": [
    "cust_over30.shape"
   ]
  },
  {
   "cell_type": "code",
   "execution_count": 270,
   "metadata": {},
   "outputs": [],
   "source": [
    "#unique_pred, counts_pred = np.unique(pred, return_counts=True)\n",
    "#predcountdict = dict(zip(unique_pred, counts_pred))"
   ]
  },
  {
   "cell_type": "code",
   "execution_count": 271,
   "metadata": {},
   "outputs": [],
   "source": [
    "#predcountdict[21] = azdias_over30.shape[0]"
   ]
  },
  {
   "cell_type": "code",
   "execution_count": 274,
   "metadata": {},
   "outputs": [],
   "source": [
    "#predcountsum = np.sum([i for i in predcountdict.values()])"
   ]
  },
  {
   "cell_type": "code",
   "execution_count": 275,
   "metadata": {},
   "outputs": [],
   "source": [
    "#predcountprop = predcountdict.copy() "
   ]
  },
  {
   "cell_type": "code",
   "execution_count": 276,
   "metadata": {},
   "outputs": [],
   "source": [
    "#predcountprop.update((x, y/predcountsum) for x, y in predcountprop.items())"
   ]
  },
  {
   "cell_type": "code",
   "execution_count": 168,
   "metadata": {},
   "outputs": [
    {
     "data": {
      "text/plain": [
       "\"plt.figure()\\nsns.barplot(list(predcountprop.keys()),list(predcountprop.values()))\\nplt.xlabel('Cluster number')\\nplt.title('General Population cluster proportions')\\nplt.show()\""
      ]
     },
     "execution_count": 168,
     "metadata": {},
     "output_type": "execute_result"
    }
   ],
   "source": [
    "'''plt.figure()\n",
    "sns.barplot(list(predcountprop.keys()),list(predcountprop.values()))\n",
    "plt.xlabel('Cluster number')\n",
    "plt.title('General Population cluster proportions')\n",
    "plt.show()'''"
   ]
  },
  {
   "cell_type": "code",
   "execution_count": 194,
   "metadata": {},
   "outputs": [],
   "source": [
    "#unique_predgd, counts_predgd = np.unique(predgd, return_counts=True)\n",
    "#predgdcountdict = dict(zip(unique_predgd, counts_predgd))"
   ]
  },
  {
   "cell_type": "code",
   "execution_count": 211,
   "metadata": {},
   "outputs": [],
   "source": [
    "#predgdcountdict[21] = azdias_over30.shape[0]"
   ]
  },
  {
   "cell_type": "code",
   "execution_count": 220,
   "metadata": {},
   "outputs": [],
   "source": [
    "#predgdcountsum = np.sum([i for i in predgdcountdict.values()])"
   ]
  },
  {
   "cell_type": "code",
   "execution_count": 169,
   "metadata": {},
   "outputs": [],
   "source": [
    "#predgdcountsum"
   ]
  },
  {
   "cell_type": "code",
   "execution_count": 235,
   "metadata": {},
   "outputs": [],
   "source": [
    "#predgdcountprop = predgdcountdict.copy() "
   ]
  },
  {
   "cell_type": "code",
   "execution_count": 236,
   "metadata": {},
   "outputs": [],
   "source": [
    "#predgdcountprop.update((x, y/predgdcountsum) for x, y in predgdcountprop.items())"
   ]
  },
  {
   "cell_type": "code",
   "execution_count": 170,
   "metadata": {},
   "outputs": [],
   "source": [
    "#predgdcountprop"
   ]
  },
  {
   "cell_type": "code",
   "execution_count": 171,
   "metadata": {},
   "outputs": [],
   "source": [
    "#sum([i for i in predgdcountprop.values()])"
   ]
  },
  {
   "cell_type": "code",
   "execution_count": null,
   "metadata": {},
   "outputs": [],
   "source": [
    "'''unique_custpred, counts_custpred = np.unique(custimp_pred, return_counts=True)\n",
    "custpredcountdict = dict(zip(unique_custpred, counts_custpred))'''"
   ]
  },
  {
   "cell_type": "code",
   "execution_count": 278,
   "metadata": {},
   "outputs": [],
   "source": [
    "'''unique_custpred, counts_custpred = np.unique(custimp_pred, return_counts=True)\n",
    "custpredcountdict = dict(zip(unique_custpred, counts_custpred))'''"
   ]
  },
  {
   "cell_type": "code",
   "execution_count": 279,
   "metadata": {},
   "outputs": [],
   "source": [
    "#custpredcountdict[21] = cust_over30.shape[0]"
   ]
  },
  {
   "cell_type": "code",
   "execution_count": 280,
   "metadata": {},
   "outputs": [],
   "source": [
    "#custpredcountsum = np.sum([i for i in custpredcountdict.values()])"
   ]
  },
  {
   "cell_type": "code",
   "execution_count": 281,
   "metadata": {},
   "outputs": [],
   "source": [
    "#custpredcountprop = custpredcountdict.copy() "
   ]
  },
  {
   "cell_type": "code",
   "execution_count": 282,
   "metadata": {},
   "outputs": [],
   "source": [
    "#custpredcountprop.update((x, y/custpredcountsum) for x, y in custpredcountprop.items())"
   ]
  },
  {
   "cell_type": "code",
   "execution_count": 172,
   "metadata": {},
   "outputs": [
    {
     "data": {
      "text/plain": [
       "\"plt.figure()\\nsns.barplot(list(custpredcountprop.keys()),list(custpredcountprop.values()))\\nplt.xlabel('Cluster number')\\nplt.title('Customer cluster proportions')\\nplt.show()\""
      ]
     },
     "execution_count": 172,
     "metadata": {},
     "output_type": "execute_result"
    }
   ],
   "source": [
    "'''plt.figure()\n",
    "sns.barplot(list(custpredcountprop.keys()),list(custpredcountprop.values()))\n",
    "plt.xlabel('Cluster number')\n",
    "plt.title('Customer cluster proportions')\n",
    "plt.show()'''"
   ]
  },
  {
   "cell_type": "code",
   "execution_count": null,
   "metadata": {},
   "outputs": [],
   "source": []
  },
  {
   "cell_type": "code",
   "execution_count": 239,
   "metadata": {},
   "outputs": [],
   "source": [
    "#unique_custpredgd, counts_custpredgd = np.unique(custimp_predgd, return_counts=True)\n",
    "#custpredgdcountdict = dict(zip(unique_custpredgd, counts_custpredgd))"
   ]
  },
  {
   "cell_type": "code",
   "execution_count": 240,
   "metadata": {},
   "outputs": [],
   "source": [
    "#custpredgdcountdict[21] = cust_over30.shape[0]"
   ]
  },
  {
   "cell_type": "code",
   "execution_count": null,
   "metadata": {},
   "outputs": [],
   "source": [
    "'''custpredgdcountdict[21] = cust_over30.shape[0]\n",
    "custpredgdcountsum = np.sum([i for i in custpredgdcountdict.values()])\n",
    "custpredgdcountprop = custpredgdcountdict.copy() \n",
    "custpredgdcountprop.update((x, y/custpredgdcountsum) for x, y in custpredgdcountprop.items())\n",
    "custpredgdcountprop'''"
   ]
  },
  {
   "cell_type": "code",
   "execution_count": 241,
   "metadata": {},
   "outputs": [],
   "source": [
    "#custpredgdcountsum = np.sum([i for i in custpredgdcountdict.values()])"
   ]
  },
  {
   "cell_type": "code",
   "execution_count": 242,
   "metadata": {},
   "outputs": [],
   "source": [
    "#custpredgdcountprop = custpredgdcountdict.copy() "
   ]
  },
  {
   "cell_type": "code",
   "execution_count": 243,
   "metadata": {},
   "outputs": [],
   "source": [
    "#custpredgdcountprop.update((x, y/custpredgdcountsum) for x, y in custpredgdcountprop.items())"
   ]
  },
  {
   "cell_type": "code",
   "execution_count": 173,
   "metadata": {},
   "outputs": [],
   "source": [
    "#custpredgdcountprop"
   ]
  },
  {
   "cell_type": "code",
   "execution_count": 174,
   "metadata": {},
   "outputs": [
    {
     "data": {
      "text/plain": [
       "\"plt.figure()\\nsns.barplot(list(custpredgdcountprop.keys()),list(custpredgdcountprop.values()))\\nplt.xlabel('Cluster number')\\nplt.title('Customer cluster proportions')\\nplt.show()\""
      ]
     },
     "execution_count": 174,
     "metadata": {},
     "output_type": "execute_result"
    }
   ],
   "source": [
    "'''plt.figure()\n",
    "sns.barplot(list(custpredgdcountprop.keys()),list(custpredgdcountprop.values()))\n",
    "plt.xlabel('Cluster number')\n",
    "plt.title('Customer cluster proportions')\n",
    "plt.show()'''"
   ]
  },
  {
   "cell_type": "code",
   "execution_count": 175,
   "metadata": {},
   "outputs": [
    {
     "data": {
      "text/plain": [
       "\"plt.figure()\\nsns.barplot(list(predgdcountprop.keys()),list(predgdcountprop.values()))\\nplt.xlabel('Cluster number')\\nplt.title('General population cluster proportions')\\nplt.show()\""
      ]
     },
     "execution_count": 175,
     "metadata": {},
     "output_type": "execute_result"
    }
   ],
   "source": [
    "'''plt.figure()\n",
    "sns.barplot(list(predgdcountprop.keys()),list(predgdcountprop.values()))\n",
    "plt.xlabel('Cluster number')\n",
    "plt.title('General population cluster proportions')\n",
    "plt.show()'''"
   ]
  },
  {
   "cell_type": "code",
   "execution_count": null,
   "metadata": {},
   "outputs": [],
   "source": []
  },
  {
   "cell_type": "code",
   "execution_count": null,
   "metadata": {},
   "outputs": [],
   "source": []
  },
  {
   "cell_type": "code",
   "execution_count": null,
   "metadata": {},
   "outputs": [],
   "source": []
  },
  {
   "cell_type": "code",
   "execution_count": 201,
   "metadata": {},
   "outputs": [],
   "source": [
    "# What kinds of people are part of a cluster that is overrepresented in the\n",
    "# customer data compared to the general population?\n",
    "\n",
    "#in cluster 13 customers are over represented compared to the general population, which is weighted by LP_LEBENSPHASE_FEIN \n",
    "#which depends on the life stage they are in, thus, as seen from the histograms, their customers largely tend to be young and poor "
   ]
  },
  {
   "cell_type": "code",
   "execution_count": 176,
   "metadata": {},
   "outputs": [],
   "source": [
    "clustcentinvpca = pca.inverse_transform(kmeans.cluster_centers_)"
   ]
  },
  {
   "cell_type": "code",
   "execution_count": 177,
   "metadata": {},
   "outputs": [
    {
     "data": {
      "text/plain": [
       "(21, 67)"
      ]
     },
     "execution_count": 177,
     "metadata": {},
     "output_type": "execute_result"
    }
   ],
   "source": [
    "clustcentinvpca.shape"
   ]
  },
  {
   "cell_type": "code",
   "execution_count": 178,
   "metadata": {},
   "outputs": [],
   "source": [
    "clustcenttransinvss = ss.inverse_transform(clustcentinvpca)"
   ]
  },
  {
   "cell_type": "code",
   "execution_count": 179,
   "metadata": {},
   "outputs": [
    {
     "data": {
      "text/plain": [
       "(21, 67)"
      ]
     },
     "execution_count": 179,
     "metadata": {},
     "output_type": "execute_result"
    }
   ],
   "source": [
    "clustcenttransinvss.shape"
   ]
  },
  {
   "cell_type": "code",
   "execution_count": 180,
   "metadata": {},
   "outputs": [
    {
     "data": {
      "text/plain": [
       "(21, 8)"
      ]
     },
     "execution_count": 180,
     "metadata": {},
     "output_type": "execute_result"
    }
   ],
   "source": [
    "kmeans.cluster_centers_.shape"
   ]
  },
  {
   "cell_type": "code",
   "execution_count": 360,
   "metadata": {},
   "outputs": [],
   "source": [
    "#customer_1 = pca.inverse_transform(azimp_predgd)"
   ]
  },
  {
   "cell_type": "code",
   "execution_count": 181,
   "metadata": {},
   "outputs": [],
   "source": [
    "clustcentdf = pd.DataFrame(clustcenttransinvss, columns = azdias_impdf.columns)"
   ]
  },
  {
   "cell_type": "code",
   "execution_count": 361,
   "metadata": {},
   "outputs": [],
   "source": [
    "#ss.inverse_transform(customer_1 )"
   ]
  },
  {
   "cell_type": "code",
   "execution_count": 182,
   "metadata": {},
   "outputs": [
    {
     "data": {
      "text/plain": [
       "ALTERSKATEGORIE_GROB                 3.185516\n",
       "ANREDE_KZ                            1.129268\n",
       "FINANZ_MINIMALIST                    4.598032\n",
       "FINANZ_SPARER                        2.022204\n",
       "FINANZ_VORSORGER                     3.943691\n",
       "FINANZ_ANLEGER                       2.573339\n",
       "FINANZ_UNAUFFAELLIGER                2.212121\n",
       "FINANZ_HAUSBAUER                     1.777323\n",
       "GREEN_AVANTGARDE                     0.338915\n",
       "HEALTH_TYP                           2.161947\n",
       "LP_LEBENSPHASE_FEIN                 34.356501\n",
       "LP_LEBENSPHASE_GROB                 10.379490\n",
       "RETOURTYP_BK_S                       3.512365\n",
       "SEMIO_SOZ                            4.967410\n",
       "SEMIO_FAM                            4.635100\n",
       "SEMIO_REL                            3.824083\n",
       "SEMIO_MAT                            3.453845\n",
       "SEMIO_VERT                           5.950576\n",
       "SEMIO_LUST                           4.742790\n",
       "SEMIO_ERL                            4.320305\n",
       "SEMIO_KULT                           4.922516\n",
       "SEMIO_RAT                            2.820932\n",
       "SEMIO_KRIT                           3.202926\n",
       "SEMIO_DOM                            3.140787\n",
       "SEMIO_KAEM                           2.745258\n",
       "SEMIO_PFLICHT                        3.508420\n",
       "SEMIO_TRADV                          3.044804\n",
       "SOHO_KZ                              0.010805\n",
       "VERS_TYP                             1.500207\n",
       "ANZ_PERSONEN                         3.221257\n",
       "                                     ...     \n",
       "MIN_GEBAEUDEJAHR                  1994.111707\n",
       "OST_WEST_KZ                          0.825989\n",
       "WOHNLAGE                             5.146989\n",
       "KBA05_ANTG1                          2.667478\n",
       "KBA05_ANTG2                          0.875877\n",
       "KBA05_ANTG3                          0.066321\n",
       "KBA05_ANTG4                          0.075938\n",
       "KBA05_GBZ                            4.112763\n",
       "BALLRAUM                             5.380005\n",
       "EWDICHTE                             2.448147\n",
       "INNENSTADT                           5.947908\n",
       "GEBAEUDETYP_RASTER                   4.218378\n",
       "KKK                                  3.040635\n",
       "MOBI_REGIO                           4.220504\n",
       "ONLINE_AFFINITAET                    3.757798\n",
       "REGIOTYP                             4.713616\n",
       "KBA13_ANZAHL_PKW                   707.629758\n",
       "PLZ8_ANTG1                           3.057301\n",
       "PLZ8_ANTG2                           2.136458\n",
       "PLZ8_ANTG3                           0.740834\n",
       "PLZ8_ANTG4                           0.157111\n",
       "PLZ8_HHZ                             3.390481\n",
       "PLZ8_GBZ                             3.944511\n",
       "ARBEIT                               2.619214\n",
       "ORTSGR_KLS9                          3.345174\n",
       "RELAT_AB                             2.313137\n",
       "PRAEGENDE_JUGENDJAHRE_DECADE         3.994277\n",
       "PRAEGENDE_JUGENDJAHRE_MOVEMENT       0.339780\n",
       "CAMEO_INTL_2015_WEALTH               2.251751\n",
       "CAMEO_INTL_2015_STAGE                3.402243\n",
       "Name: 13, Length: 67, dtype: float64"
      ]
     },
     "execution_count": 182,
     "metadata": {},
     "output_type": "execute_result"
    }
   ],
   "source": [
    "clustcentdf.iloc[13]"
   ]
  },
  {
   "cell_type": "code",
   "execution_count": 183,
   "metadata": {},
   "outputs": [],
   "source": [
    "#predgd.shape"
   ]
  },
  {
   "cell_type": "code",
   "execution_count": 184,
   "metadata": {},
   "outputs": [],
   "source": [
    "#azdias_ss_ft.shape"
   ]
  },
  {
   "cell_type": "code",
   "execution_count": 185,
   "metadata": {},
   "outputs": [
    {
     "data": {
      "text/plain": [
       "count    188439.000000\n",
       "mean         18.181571\n",
       "std          15.009985\n",
       "min           0.000000\n",
       "25%           0.000000\n",
       "50%          16.000000\n",
       "75%          36.000000\n",
       "max          40.000000\n",
       "Name: LP_LEBENSPHASE_FEIN, dtype: float64"
      ]
     },
     "execution_count": 185,
     "metadata": {},
     "output_type": "execute_result"
    }
   ],
   "source": [
    "customers['LP_LEBENSPHASE_FEIN'].describe()"
   ]
  },
  {
   "cell_type": "code",
   "execution_count": 186,
   "metadata": {},
   "outputs": [
    {
     "data": {
      "text/plain": [
       "<matplotlib.axes._subplots.AxesSubplot at 0x7fd60beb5a58>"
      ]
     },
     "execution_count": 186,
     "metadata": {},
     "output_type": "execute_result"
    },
    {
     "data": {
      "image/png": "[encoded data removed]",
      "text/plain": [
       "<matplotlib.figure.Figure at 0x7fd60c0edba8>"
      ]
     },
     "metadata": {
      "needs_background": "light"
     },
     "output_type": "display_data"
    }
   ],
   "source": [
    "customers['LP_LEBENSPHASE_FEIN'].hist(bins = 40)"
   ]
  },
  {
   "cell_type": "code",
   "execution_count": 187,
   "metadata": {},
   "outputs": [
    {
     "data": {
      "text/plain": [
       "count    886367.000000\n",
       "mean         14.622637\n",
       "std          12.616883\n",
       "min           0.000000\n",
       "25%           4.000000\n",
       "50%          11.000000\n",
       "75%          27.000000\n",
       "max          40.000000\n",
       "Name: LP_LEBENSPHASE_FEIN, dtype: float64"
      ]
     },
     "execution_count": 187,
     "metadata": {},
     "output_type": "execute_result"
    }
   ],
   "source": [
    "azdias['LP_LEBENSPHASE_FEIN'].describe()"
   ]
  },
  {
   "cell_type": "code",
   "execution_count": 188,
   "metadata": {},
   "outputs": [
    {
     "data": {
      "text/plain": [
       "<matplotlib.axes._subplots.AxesSubplot at 0x7fd60be20d68>"
      ]
     },
     "execution_count": 188,
     "metadata": {},
     "output_type": "execute_result"
    },
    {
     "data": {
      "image/png": "[encoded data removed]",
      "text/plain": [
       "<matplotlib.figure.Figure at 0x7fd60bdf83c8>"
      ]
     },
     "metadata": {
      "needs_background": "light"
     },
     "output_type": "display_data"
    }
   ],
   "source": [
    "azdias['LP_LEBENSPHASE_FEIN'].hist(bins = 40)"
   ]
  },
  {
   "cell_type": "code",
   "execution_count": 191,
   "metadata": {},
   "outputs": [],
   "source": [
    "#in cluster 13 customers are over represented compared to the general population, which is weighted by LP_LEBENSPHASE_FEIN \n",
    "#which depends on the life stage they are in, thus, as seen from the histograms, their customers largely tend to be young and poor "
   ]
  },
  {
   "cell_type": "code",
   "execution_count": 202,
   "metadata": {},
   "outputs": [],
   "source": [
    "# What kinds of people are part of a cluster that is underrepresented in the\n",
    "# customer data compared to the general population?\n",
    "\n",
    "#cluseter 7 is underrepresented in the customer data compared to the general population. \n",
    "#a catagory this is largely weights on is SEMIO_KULT, cutlurally minded, thus this might not be a significant factor\n",
    "#in determining customers."
   ]
  },
  {
   "cell_type": "code",
   "execution_count": 192,
   "metadata": {},
   "outputs": [
    {
     "data": {
      "text/plain": [
       "(8, 67)"
      ]
     },
     "execution_count": 192,
     "metadata": {},
     "output_type": "execute_result"
    }
   ],
   "source": [
    "pca.components_.shape"
   ]
  },
  {
   "cell_type": "code",
   "execution_count": 194,
   "metadata": {},
   "outputs": [
    {
     "name": "stdout",
     "output_type": "stream",
     "text": [
      "[1.7748647936403796, 0.9651881641288071, 2.186968715478768, 4.1501485504741344, 2.2803354963833047, 3.431321909251028, 3.6779868848691524, 3.3646546437374907, 0.08939067313532331, 2.3133240699866557, 10.131367518801417, 3.2770907345159204, 2.9973018048740405, 6.153739810996781, 6.853825093348712, 6.560138571194088, 5.796151885962967, 5.99407240577836, 2.960231362003513, 2.1097532684965805, 7.047054885941513, 4.476120876475685, 2.8342408109096717, 2.948940692517551, 2.414429421008343, 5.8872023940950955, 5.187343308964558, 0.007532183032707361, 1.4850041666953926, 1.4167603772240973, -0.0018676965458384338, 5.401249076686162, 4.3433100348393285, 7.24239226532506, 6.846421382674191, -0.032640355104461206, 2.2844567918164316, 1992.9657603388773, 0.7600325468738578, 3.5636287654636583, 0.600617742790186, 1.9326147687168143, 1.2919469341323582, 0.22477232037425987, 2.6355458369863625, 3.640204674159113, 4.81595297373395, 3.7840074366652523, 3.5879637638809627, 2.8932595328448687, 2.1590475549673007, 2.8964968252207197, 4.910633116879206, 559.862548226888, 1.5997017597282202, 3.4682510124119377, 2.299062342750583, 1.0485558303130522, 3.7669582170967586, 3.008999291623625, 3.6874625955709384, 6.449397721789947, 3.7790555474055827, 5.504054359972206, 0.09600164160717012, 4.220814628637622, 2.114898658640752]\n"
     ]
    }
   ],
   "source": [
    "print([i for i in clustcentdf.iloc[7]])"
   ]
  },
  {
   "cell_type": "code",
   "execution_count": 196,
   "metadata": {},
   "outputs": [
    {
     "data": {
      "text/plain": [
       "ALTERSKATEGORIE_GROB                 1.774865\n",
       "ANREDE_KZ                            0.965188\n",
       "FINANZ_MINIMALIST                    2.186969\n",
       "FINANZ_SPARER                        4.150149\n",
       "FINANZ_VORSORGER                     2.280335\n",
       "FINANZ_ANLEGER                       3.431322\n",
       "FINANZ_UNAUFFAELLIGER                3.677987\n",
       "FINANZ_HAUSBAUER                     3.364655\n",
       "GREEN_AVANTGARDE                     0.089391\n",
       "HEALTH_TYP                           2.313324\n",
       "LP_LEBENSPHASE_FEIN                 10.131368\n",
       "LP_LEBENSPHASE_GROB                  3.277091\n",
       "RETOURTYP_BK_S                       2.997302\n",
       "SEMIO_SOZ                            6.153740\n",
       "SEMIO_FAM                            6.853825\n",
       "SEMIO_REL                            6.560139\n",
       "SEMIO_MAT                            5.796152\n",
       "SEMIO_VERT                           5.994072\n",
       "SEMIO_LUST                           2.960231\n",
       "SEMIO_ERL                            2.109753\n",
       "SEMIO_KULT                           7.047055\n",
       "SEMIO_RAT                            4.476121\n",
       "SEMIO_KRIT                           2.834241\n",
       "SEMIO_DOM                            2.948941\n",
       "SEMIO_KAEM                           2.414429\n",
       "SEMIO_PFLICHT                        5.887202\n",
       "SEMIO_TRADV                          5.187343\n",
       "SOHO_KZ                              0.007532\n",
       "VERS_TYP                             1.485004\n",
       "ANZ_PERSONEN                         1.416760\n",
       "                                     ...     \n",
       "MIN_GEBAEUDEJAHR                  1992.965760\n",
       "OST_WEST_KZ                          0.760033\n",
       "WOHNLAGE                             3.563629\n",
       "KBA05_ANTG1                          0.600618\n",
       "KBA05_ANTG2                          1.932615\n",
       "KBA05_ANTG3                          1.291947\n",
       "KBA05_ANTG4                          0.224772\n",
       "KBA05_GBZ                            2.635546\n",
       "BALLRAUM                             3.640205\n",
       "EWDICHTE                             4.815953\n",
       "INNENSTADT                           3.784007\n",
       "GEBAEUDETYP_RASTER                   3.587964\n",
       "KKK                                  2.893260\n",
       "MOBI_REGIO                           2.159048\n",
       "ONLINE_AFFINITAET                    2.896497\n",
       "REGIOTYP                             4.910633\n",
       "KBA13_ANZAHL_PKW                   559.862548\n",
       "PLZ8_ANTG1                           1.599702\n",
       "PLZ8_ANTG2                           3.468251\n",
       "PLZ8_ANTG3                           2.299062\n",
       "PLZ8_ANTG4                           1.048556\n",
       "PLZ8_HHZ                             3.766958\n",
       "PLZ8_GBZ                             3.008999\n",
       "ARBEIT                               3.687463\n",
       "ORTSGR_KLS9                          6.449398\n",
       "RELAT_AB                             3.779056\n",
       "PRAEGENDE_JUGENDJAHRE_DECADE         5.504054\n",
       "PRAEGENDE_JUGENDJAHRE_MOVEMENT       0.096002\n",
       "CAMEO_INTL_2015_WEALTH               4.220815\n",
       "CAMEO_INTL_2015_STAGE                2.114899\n",
       "Name: 7, Length: 67, dtype: float64"
      ]
     },
     "execution_count": 196,
     "metadata": {},
     "output_type": "execute_result"
    }
   ],
   "source": [
    "clustcentdf.iloc[7]"
   ]
  },
  {
   "cell_type": "code",
   "execution_count": null,
   "metadata": {},
   "outputs": [],
   "source": [
    "SEMIO_KULT"
   ]
  },
  {
   "cell_type": "code",
   "execution_count": 197,
   "metadata": {},
   "outputs": [
    {
     "data": {
      "text/plain": [
       "count    191652.000000\n",
       "mean          3.682497\n",
       "std           1.573090\n",
       "min           1.000000\n",
       "25%           3.000000\n",
       "50%           4.000000\n",
       "75%           5.000000\n",
       "max           7.000000\n",
       "Name: SEMIO_KULT, dtype: float64"
      ]
     },
     "execution_count": 197,
     "metadata": {},
     "output_type": "execute_result"
    }
   ],
   "source": [
    "customers['SEMIO_KULT'].describe()"
   ]
  },
  {
   "cell_type": "code",
   "execution_count": 198,
   "metadata": {},
   "outputs": [
    {
     "data": {
      "text/plain": [
       "<matplotlib.axes._subplots.AxesSubplot at 0x7fd60bcb7908>"
      ]
     },
     "execution_count": 198,
     "metadata": {},
     "output_type": "execute_result"
    },
    {
     "data": {
      "image/png": "[encoded data removed]",
      "text/plain": [
       "<matplotlib.figure.Figure at 0x7fd60bd2b5f8>"
      ]
     },
     "metadata": {
      "needs_background": "light"
     },
     "output_type": "display_data"
    }
   ],
   "source": [
    "customers['SEMIO_KULT'].hist(bins = 40)"
   ]
  },
  {
   "cell_type": "code",
   "execution_count": 199,
   "metadata": {},
   "outputs": [
    {
     "data": {
      "text/plain": [
       "count    891221.000000\n",
       "mean          4.025014\n",
       "std           1.903816\n",
       "min           1.000000\n",
       "25%           3.000000\n",
       "50%           4.000000\n",
       "75%           5.000000\n",
       "max           7.000000\n",
       "Name: SEMIO_KULT, dtype: float64"
      ]
     },
     "execution_count": 199,
     "metadata": {},
     "output_type": "execute_result"
    }
   ],
   "source": [
    "azdias['SEMIO_KULT'].describe()"
   ]
  },
  {
   "cell_type": "code",
   "execution_count": 200,
   "metadata": {},
   "outputs": [
    {
     "data": {
      "text/plain": [
       "<matplotlib.axes._subplots.AxesSubplot at 0x7fd60bc337f0>"
      ]
     },
     "execution_count": 200,
     "metadata": {},
     "output_type": "execute_result"
    },
    {
     "data": {
      "image/png": "[encoded data removed]",
      "text/plain": [
       "<matplotlib.figure.Figure at 0x7fd60bd37588>"
      ]
     },
     "metadata": {
      "needs_background": "light"
     },
     "output_type": "display_data"
    }
   ],
   "source": [
    "azdias['SEMIO_KULT'].hist(bins = 40)"
   ]
  },
  {
   "cell_type": "code",
   "execution_count": null,
   "metadata": {},
   "outputs": [],
   "source": [
    "#cluseter 7 is underrepresented in the customer data compared to the general population. \n",
    "#a catagory this is largely weights on is SEMIO_KULT, cutlurally minded, thus this might not be a significant factor\n",
    "#in determining customers."
   ]
  },
  {
   "cell_type": "code",
   "execution_count": null,
   "metadata": {},
   "outputs": [],
   "source": []
  },
  {
   "cell_type": "code",
   "execution_count": null,
   "metadata": {},
   "outputs": [],
   "source": []
  },
  {
   "cell_type": "markdown",
   "metadata": {},
   "source": [
    "### Discussion 3.3: Compare Customer Data to Demographics Data\n",
    "\n",
    "(Double-click this cell and replace this text with your own text, reporting findings and conclusions from the clustering analysis. Can we describe segments of the population that are relatively popular with the mail-order company, or relatively unpopular with the company?)\n",
    "\n",
    "The clustering analysis showed that rows with over 30 NaNs made clusters larger than any others. The customer clusters differed from the general population with some clusters being over represented, like cluster 13, and some under represented, like cluster 7. Cluster 13 is largely weighted by life stage, which showed that many young low income earners are their customers. Cluster 7 is largely weigthed by culturally minded people. Thus being culturally minded might not be a significant factor in being a customer. "
   ]
  },
  {
   "cell_type": "markdown",
   "metadata": {},
   "source": [
    "> Congratulations on making it this far in the project! Before you finish, make sure to check through the entire notebook from top to bottom to make sure that your analysis follows a logical flow and all of your findings are documented in **Discussion** cells. Once you've checked over all of your work, you should export the notebook as an HTML document to submit for evaluation. You can do this from the menu, navigating to **File -> Download as -> HTML (.html)**. You will submit both that document and this notebook for your project submission."
   ]
  },
  {
   "cell_type": "code",
   "execution_count": null,
   "metadata": {},
   "outputs": [],
   "source": []
  }
 ],
 "metadata": {
  "kernelspec": {
   "display_name": "Python 3",
   "language": "python",
   "name": "python3"
  },
  "language_info": {
   "codemirror_mode": {
    "name": "ipython",
    "version": 3
   },
   "file_extension": ".py",
   "mimetype": "text/x-python",
   "name": "python",
   "nbconvert_exporter": "python",
   "pygments_lexer": "ipython3",
   "version": "3.6.3"
  }
 },
 "nbformat": 4,
 "nbformat_minor": 2
}
